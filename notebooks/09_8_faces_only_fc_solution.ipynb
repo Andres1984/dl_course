{
 "cells": [
  {
   "cell_type": "markdown",
   "metadata": {
    "deletable": true,
    "editable": true
   },
   "source": [
    "## Classification on 8 celebrities\n",
    "\n",
    "In this notebook we try to classify images of : \"Miranda_Cosgrove\" \"Chris_Martin\" \"Emma_Stone\" \"Jamie_Foxx\" \"Steve_Jobs\" \"Zac_Efron\" \"Sandra_Oh\" \"Taryn_Manning\". There are 350 images of each celebrity, we use 250 for traning and 50 for validation and test."
   ]
  },
  {
   "cell_type": "code",
   "execution_count": 1,
   "metadata": {
    "collapsed": true,
    "deletable": true,
    "editable": true
   },
   "outputs": [],
   "source": [
    "import gzip\n",
    "import numpy as np\n",
    "import matplotlib.pyplot as plt\n",
    "import matplotlib.image as imgplot\n",
    "import time\n",
    "%matplotlib inline\n",
    "import h5py"
   ]
  },
  {
   "cell_type": "markdown",
   "metadata": {
    "deletable": true,
    "editable": true
   },
   "source": [
    "Reading in the data, it is already prepared in a train, validation and testset. The class labels are form 0 to 7. The pixelsize of every image is 48x48 and we have 3 channels (RGB) per image. All 3 sets are balanced."
   ]
  },
  {
   "cell_type": "code",
   "execution_count": 2,
   "metadata": {
    "collapsed": false
   },
   "outputs": [
    {
     "name": "stdout",
     "output_type": "stream",
     "text": [
      "-rw-r--r-- 1 root root 148M Apr 13 09:16 Data_8_faces_no_cut.hdf5\r\n"
     ]
    }
   ],
   "source": [
    "# Downloading the data, if it does not exist, this could take some time... (148MB)\n",
    "import urllib\n",
    "import os\n",
    "if not os.path.isfile('Data_8_faces_no_cut.hdf5'):\n",
    "    urllib.request.urlretrieve(\n",
    "    \"https://www.dropbox.com/s/l0ck0xddlaazhb9/Data_8_faces_no_cut.hdf5?dl=1\",\n",
    "    \"Data_8_faces_no_cut.hdf5\")\n",
    "%ls -hl Data_8_faces_no_cut.hdf5"
   ]
  },
  {
   "cell_type": "code",
   "execution_count": 3,
   "metadata": {
    "collapsed": false,
    "deletable": true,
    "editable": true
   },
   "outputs": [
    {
     "name": "stdout",
     "output_type": "stream",
     "text": [
      "['X_test_8_faces', 'X_train_8_faces', 'X_valid_8_faces', 'Y_test_8_faces', 'Y_train_8_faces', 'Y_valid_8_faces']\n",
      "(2000, 48, 48, 3)\n",
      "(2000,)\n",
      "(400, 48, 48, 3)\n",
      "(400,)\n"
     ]
    }
   ],
   "source": [
    "h5f_X = h5py.File('Data_8_faces_no_cut.hdf5', 'r')\n",
    "print(list(h5f_X.keys()))\n",
    "X_train = h5f_X['X_train_8_faces']\n",
    "print(X_train.shape)\n",
    "Y_train = h5f_X['Y_train_8_faces']\n",
    "print(Y_train.shape)\n",
    "X_valid = h5f_X['X_valid_8_faces']\n",
    "print(X_valid.shape)\n",
    "Y_valid = h5f_X['Y_valid_8_faces']\n",
    "print(Y_valid.shape)"
   ]
  },
  {
   "cell_type": "code",
   "execution_count": 4,
   "metadata": {
    "collapsed": false,
    "deletable": true,
    "editable": true
   },
   "outputs": [
    {
     "data": {
      "text/plain": [
       "(array([ 250.,  250.,  250.,  250.,  250.,  250.,  250.,  250.]),\n",
       " array([ 0.   ,  0.875,  1.75 ,  2.625,  3.5  ,  4.375,  5.25 ,  6.125,  7.   ]),\n",
       " <a list of 8 Patch objects>)"
      ]
     },
     "execution_count": 4,
     "metadata": {},
     "output_type": "execute_result"
    },
    {
     "data": {
      "image/png": "[encoded data removed]",
      "text/plain": [
       "<matplotlib.figure.Figure at 0x7fa5c843a278>"
      ]
     },
     "metadata": {},
     "output_type": "display_data"
    }
   ],
   "source": [
    "plt.hist(Y_train,bins=8)"
   ]
  },
  {
   "cell_type": "code",
   "execution_count": 5,
   "metadata": {
    "collapsed": false,
    "deletable": true,
    "editable": true
   },
   "outputs": [
    {
     "data": {
      "text/plain": [
       "(array([ 50.,  50.,  50.,  50.,  50.,  50.,  50.,  50.]),\n",
       " array([ 0.   ,  0.875,  1.75 ,  2.625,  3.5  ,  4.375,  5.25 ,  6.125,  7.   ]),\n",
       " <a list of 8 Patch objects>)"
      ]
     },
     "execution_count": 5,
     "metadata": {},
     "output_type": "execute_result"
    },
    {
     "data": {
      "image/png": "[encoded data removed]",
      "text/plain": [
       "<matplotlib.figure.Figure at 0x7fa5a296f048>"
      ]
     },
     "metadata": {},
     "output_type": "display_data"
    }
   ],
   "source": [
    "plt.hist(Y_valid,bins=8)"
   ]
  },
  {
   "cell_type": "markdown",
   "metadata": {
    "deletable": true,
    "editable": true
   },
   "source": [
    "How hard is this task? Lets plot some random image of the trainset to get an impression of the images and of  the task. "
   ]
  },
  {
   "cell_type": "code",
   "execution_count": 6,
   "metadata": {
    "collapsed": false,
    "deletable": true,
    "editable": true
   },
   "outputs": [
    {
     "data": {
      "text/plain": [
       "<matplotlib.image.AxesImage at 0x7fa5a28684e0>"
      ]
     },
     "execution_count": 6,
     "metadata": {},
     "output_type": "execute_result"
    },
    {
     "data": {
      "image/png": "[encoded data removed]",
      "text/plain": [
       "<matplotlib.figure.Figure at 0x7fa5a2930eb8>"
      ]
     },
     "metadata": {},
     "output_type": "display_data"
    }
   ],
   "source": [
    "np.random.seed(seed=42)\n",
    "rmd=np.random.randint(0,len(X_train))\n",
    "plt.imshow(np.asarray(X_train[rmd],dtype=\"uint8\"),interpolation=\"bicubic\")"
   ]
  },
  {
   "cell_type": "markdown",
   "metadata": {
    "deletable": true,
    "editable": true
   },
   "source": [
    "#### Normalization of the training and validationset."
   ]
  },
  {
   "cell_type": "code",
   "execution_count": 7,
   "metadata": {
    "collapsed": false,
    "deletable": true,
    "editable": true
   },
   "outputs": [],
   "source": [
    "X_mean = np.mean( X_train, axis = 0)\n",
    "X_std = np.std( X_train, axis = 0)\n",
    "\n",
    "X_train = (X_train - X_mean ) / (X_std + 0.0001)\n",
    "X_valid = (X_valid - X_mean ) / (X_std + 0.0001)"
   ]
  },
  {
   "cell_type": "markdown",
   "metadata": {
    "deletable": true,
    "editable": true
   },
   "source": [
    "#### Flattern the images into a vector because we unly use fully connected layers in this model"
   ]
  },
  {
   "cell_type": "code",
   "execution_count": 8,
   "metadata": {
    "collapsed": false,
    "deletable": true,
    "editable": true
   },
   "outputs": [
    {
     "name": "stdout",
     "output_type": "stream",
     "text": [
      "(2000, 48, 48, 3)\n"
     ]
    }
   ],
   "source": [
    "print(X_train.shape)\n",
    "X_newtrain=np.zeros([len(X_train),48*48*3])\n",
    "for i in range(0,len(X_train)):\n",
    "    X_newtrain[i]=np.reshape(X_train[i],newshape=((48*48*3),))\n",
    "    \n",
    "X_newvalid=np.zeros([len(X_valid),48*48*3])\n",
    "for i in range(0,len(X_valid)):\n",
    "    X_newvalid[i]=np.reshape(X_valid[i],newshape=((48*48*3),))"
   ]
  },
  {
   "cell_type": "code",
   "execution_count": 9,
   "metadata": {
    "collapsed": false,
    "deletable": true,
    "editable": true
   },
   "outputs": [
    {
     "data": {
      "text/plain": [
       "(2000, 6912)"
      ]
     },
     "execution_count": 9,
     "metadata": {},
     "output_type": "execute_result"
    }
   ],
   "source": [
    "X_newtrain.shape"
   ]
  },
  {
   "cell_type": "code",
   "execution_count": 10,
   "metadata": {
    "collapsed": false,
    "deletable": true,
    "editable": true
   },
   "outputs": [
    {
     "name": "stderr",
     "output_type": "stream",
     "text": [
      "Using TensorFlow backend.\n"
     ]
    }
   ],
   "source": [
    "import keras\n",
    "from keras.datasets import mnist\n",
    "from keras.models import Sequential\n",
    "from keras.layers import Dense, Dropout, Activation, Flatten\n",
    "from keras.layers import Convolution2D, MaxPooling2D\n",
    "from keras.utils import np_utils\n",
    "from keras import backend as K\n",
    "from keras.layers.normalization import BatchNormalization"
   ]
  },
  {
   "cell_type": "markdown",
   "metadata": {
    "deletable": true,
    "editable": true
   },
   "source": [
    "Define the convertToOneHot function and convert the labels into the onehot encoding."
   ]
  },
  {
   "cell_type": "code",
   "execution_count": 11,
   "metadata": {
    "collapsed": true,
    "deletable": true,
    "editable": true
   },
   "outputs": [],
   "source": [
    "def convertToOneHot(vector, num_classes=None):\n",
    "    result = np.zeros((len(vector), num_classes), dtype='int32')\n",
    "    result[np.arange(len(vector)), vector] = 1\n",
    "    return result"
   ]
  },
  {
   "cell_type": "code",
   "execution_count": 12,
   "metadata": {
    "collapsed": false,
    "deletable": true,
    "editable": true
   },
   "outputs": [],
   "source": [
    "Y_train=convertToOneHot(Y_train,num_classes=8)\n",
    "Y_valid=convertToOneHot(Y_valid,num_classes=8)"
   ]
  },
  {
   "cell_type": "code",
   "execution_count": 13,
   "metadata": {
    "collapsed": true,
    "deletable": true,
    "editable": true
   },
   "outputs": [],
   "source": [
    "batch_size = 128\n",
    "nb_classes = 8\n",
    "nb_epoch = 50"
   ]
  },
  {
   "cell_type": "code",
   "execution_count": 14,
   "metadata": {
    "collapsed": false,
    "deletable": true,
    "editable": true
   },
   "outputs": [
    {
     "name": "stdout",
     "output_type": "stream",
     "text": [
      "[0 0 0 1 0 0 0 0]\n",
      "[0 0 0 0 0 1 0 0]\n"
     ]
    }
   ],
   "source": [
    "print(Y_train[1])\n",
    "print(Y_valid[1])"
   ]
  },
  {
   "cell_type": "code",
   "execution_count": 15,
   "metadata": {
    "collapsed": false,
    "deletable": true,
    "editable": true
   },
   "outputs": [
    {
     "name": "stdout",
     "output_type": "stream",
     "text": [
      "(2000, 6912)\n",
      "(400, 6912)\n"
     ]
    }
   ],
   "source": [
    "print(X_newtrain.shape)\n",
    "print(X_newvalid.shape)"
   ]
  },
  {
   "cell_type": "markdown",
   "metadata": {
    "deletable": true,
    "editable": true
   },
   "source": [
    "### Define the network"
   ]
  },
  {
   "cell_type": "code",
   "execution_count": 16,
   "metadata": {
    "collapsed": false,
    "deletable": true,
    "editable": true
   },
   "outputs": [],
   "source": [
    "model = Sequential()\n",
    "name = 'only_fc'\n",
    "\n",
    "model.add(Dense(nb_classes,kernel_initializer='he_normal',input_dim=(48*48*3)))\n",
    "model.add(Activation('softmax'))\n",
    "\n",
    "model.compile(loss='categorical_crossentropy',\n",
    "              optimizer='adam',\n",
    "              metrics=['accuracy'])"
   ]
  },
  {
   "cell_type": "code",
   "execution_count": 17,
   "metadata": {
    "collapsed": true,
    "deletable": true,
    "editable": true
   },
   "outputs": [],
   "source": [
    "model = Sequential()\n",
    "name = 'fc_with_hidden'\n",
    "\n",
    "model.add(Dense(400,kernel_initializer='he_normal',input_dim=(48*48*3)))\n",
    "model.add(Activation('relu'))\n",
    "\n",
    "model.add(Dense(200,kernel_initializer='he_normal'))\n",
    "model.add(Activation('relu'))\n",
    "\n",
    "model.add(Dense(nb_classes,kernel_initializer='he_normal'))\n",
    "model.add(Activation('softmax'))\n",
    "\n",
    "model.compile(loss='categorical_crossentropy',\n",
    "              optimizer='adam',\n",
    "              metrics=['accuracy'])"
   ]
  },
  {
   "cell_type": "code",
   "execution_count": 18,
   "metadata": {
    "collapsed": false,
    "deletable": true,
    "editable": true
   },
   "outputs": [
    {
     "name": "stdout",
     "output_type": "stream",
     "text": [
      "_________________________________________________________________\n",
      "Layer (type)                 Output Shape              Param #   \n",
      "=================================================================\n",
      "dense_2 (Dense)              (None, 400)               2765200   \n",
      "_________________________________________________________________\n",
      "activation_2 (Activation)    (None, 400)               0         \n",
      "_________________________________________________________________\n",
      "dense_3 (Dense)              (None, 200)               80200     \n",
      "_________________________________________________________________\n",
      "activation_3 (Activation)    (None, 200)               0         \n",
      "_________________________________________________________________\n",
      "dense_4 (Dense)              (None, 8)                 1608      \n",
      "_________________________________________________________________\n",
      "activation_4 (Activation)    (None, 8)                 0         \n",
      "=================================================================\n",
      "Total params: 2,847,008.0\n",
      "Trainable params: 2,847,008.0\n",
      "Non-trainable params: 0.0\n",
      "_________________________________________________________________\n"
     ]
    }
   ],
   "source": [
    "model.summary()"
   ]
  },
  {
   "cell_type": "markdown",
   "metadata": {
    "deletable": true,
    "editable": true
   },
   "source": [
    "### Running a forward pass of the untrained network"
   ]
  },
  {
   "cell_type": "code",
   "execution_count": 19,
   "metadata": {
    "collapsed": false,
    "deletable": true,
    "editable": true
   },
   "outputs": [
    {
     "name": "stdout",
     "output_type": "stream",
     "text": [
      "1984/2000 [============================>.] - ETA: 0s \b\b\b\b\b\b\b\b\b\b\b\b\b\b\b\b\b\b\b\b\b\b\b\b\b\b\b\b\b\b\b\b\b\b\b\b\b\b\b\b\b\b\b\b\b\b\b\b\b\b\b\b\b\b\b\b\b\b\b\b\b\b\b\b\b\b\b\b\b\b\b\b\b\b\b\b\b\b\b\b\b\b\b\b\b\b\b\b\b\b\b\b\b\b\b\b\b\b\b\b\b\b\b\b\b\b\b\b\b\b\b\b\b\b\b\b\b\b\b\b\b\b\b\b\b\b\b\b\b\b\b\b\b\b\b\b\b\b\b\b\b\b\b\b\b\b\b\b\b\b\b\b\b\b\b\b\b\b\b\b\b\b\b\b\b\b\b\b\b\b\b\b\b\b\b\b\b\b\b\b\b\b\b\b\b\b\b\b\b\b\b\b\b\b\b\b\b\b\b\b\b\b\b\b\b\b\b\b\b\b\b\b\b\b\b\b\b\b\b\b\b\b\b\b\b\b\b\b\b\b\b\b\b\b\b\b\b\b\b\b\b\b\b\b\b\b\b\b\b\b\b\b\b\b\b\b\b\b\b\b\b\b\b\b\b\b\b\b\b\b\b\b\b\b\b\b\b\b\b\b\b\b\b\b\b\b\b\b\b\b\b\b\b\b\b\b\b\b\b\b\b\b\b\b\b\b\b\b\b\b\b\b\b\b\b\b\b\b\b\b\b\b\b\b\b\b\b\b\b\b\b\b\b\b\b\b\b\b\b\b\b\b\b\b\b\b\b\b\b\b\b\b\b\b\b\b\b\b\b\b\b\b\b\b\b\b\b\b\b\b\b\b\b\b\b\b\b\b\b\b\b\b\b\b\b\b\b\b\b\b\b\b\b\b\b\b\b\b\b\b\b\b\b\b\b\b\b\b\b\b\b\b\b\b\b\b\b\b\b\b\b\b\b\b\b\b\b\b\b\b\b\b\b\b\b\b\b\b\b\b\b\b\b\b\b\b\b\b\b\b\b\b\b\b\b\b\b\b\b\b\b\b\b\b\b\b\b\b\b\b\b\b\b\b\b\b\b\b\b\b\b\b\b\b\b\b\b\b\b\b\b\b\b\b\b\b\b\b\b\b\b\b\b\b\b\b\b\b\b\b\b\b\b\b\b\b\b\b\b\b\b\b\b\b\b\b\b\b\b\b\b\b\b\b\b\b\b\b\b\b\b\b\b\b\b\b\b\b\b\b\b\b\b\b\b\b\b\b\b\b\b\b\b\b\b\b\b\b\b\b\b\b\b\b\b\b\b\b\b\b\b\b\b\b\b\b\b\b\b\b\b\b\b\b\b\b\b\b\b\b\b\b\b\b\b\b\b\b\b\b\b\b\b\b\b\b\b\b\b\b\b\b\b\b\b\b\b\b\b\b\b\b\b\b\b\b\b\b\b\b\b\b\b\b\b\b\b\b\b\b\b\b\b\b\b\b\b\b\b\b\b\b\b\b\b\b\b\b\b\b\b\b\b\b\b\b\b\b\b\b\b\b\b\b\b\b\b\b\b\b\b\b\b\b\b\b\b\b\b\b\b\b\b\b\b\b\b\b\b\b\b\b\b\b\b\b\b\b\b\b\b\b\b\b\b\b\b\b\b\b\b\b\b\b\b\b\b\b\b\b\b\b\b\b\b\b\b\b\b\b\b\b\b\b\b\b\b\b\b\b\b\b\b\b\b\b\b\b\b\b\b\b\b\b\b\b\b\b\b\b\b\b\b\b\b\b\b\b\b\b\b\b\b\b\b\b\b\b\b\b\b\b\b\b\b\b\b\b\b\b\b\b\b\b\b\b\b\b\b\b\b\b\b\b\b\b\b\b\b\b\b\b\b\b\b\b\b\b\b\b\b\b\b\b\b\b\b\b\b\b\b\b\b\b\b\b\b\b\b\b\b\b\b\b\b\b\b\b\b\b\b\b\b\b\b\b\b\b\b\b\b\b\b\b\b\b\b\b\b\b\b\b\b\b\b\b\b\b\b\b\b\b\b\b\b\b\b\b\b\b\b\b\b\b\b\b\b\b\b\b\b\b\b\b\b\b\b\b\b\b\b\b\b\b\b\b\b\b\b\b\b\b\b\b\b\b\b\b\b\b\b\b\b\b\b\b\b\b\b\b\b\b\b\b\b\b\b\b\b\b\b\b\b\b\b\b\b\b\b\b\b\b\b\b\b\b\b\b\b\b\b\b\b\b\b\b\b\b\b\b\b\b\b\b\b\b\b\b\b\b\b\b\b\b\b\b\b\b\b\b\b\b\b\b\b\b\b\b\b\b\b\b\b\b\b\b\b\b\b\b\b\b\b\b\b\b\b\b\b\b\b\b\b\b\b\b\b\b\b\b\b\b\b\b\b\b\b\b\b\b\b\b\b\b\b\b\b\b\b\b\b\b\b\b\b\b\b\b\b\b\b\b\b\b\b\b\b\b\b\b\b\b\b\b\b\b\b\b\b\b\b\b\b\b\b\b\b\b\b\b\b\b\b\b\b\b\b\b\b\b\b\b\b\b\b\b\b\b\b\b\b\b\b\b\b\b\b\b\b\b\b\b\b\b\b\b\b\b\b\b\b\b\b\b\b\b\b\b\b\b\b\b\b\b\b\b\b\b\b\b\b\b\b\b\b\b\b\b\b\b\b\b\b\b\b\b\b\b\b"
     ]
    },
    {
     "data": {
      "text/plain": [
       "[2.3941805248260497, 0.123]"
      ]
     },
     "execution_count": 19,
     "metadata": {},
     "output_type": "execute_result"
    }
   ],
   "source": [
    "model.evaluate(X_newtrain,Y_train)"
   ]
  },
  {
   "cell_type": "code",
   "execution_count": 20,
   "metadata": {
    "collapsed": false,
    "deletable": true,
    "editable": true
   },
   "outputs": [
    {
     "data": {
      "text/plain": [
       "2.0794415416798357"
      ]
     },
     "execution_count": 20,
     "metadata": {},
     "output_type": "execute_result"
    }
   ],
   "source": [
    "-np.log(1/8)"
   ]
  },
  {
   "cell_type": "code",
   "execution_count": 21,
   "metadata": {
    "collapsed": false,
    "deletable": true,
    "editable": true
   },
   "outputs": [
    {
     "data": {
      "text/plain": [
       "array([[ 0.12015427,  0.18278927,  0.01640404,  0.07898434,  0.10452182,\n",
       "         0.09316821,  0.28103676,  0.12294123]], dtype=float32)"
      ]
     },
     "execution_count": 21,
     "metadata": {},
     "output_type": "execute_result"
    }
   ],
   "source": [
    "model.predict(X_newtrain[0].reshape(1,48*48*3))"
   ]
  },
  {
   "cell_type": "code",
   "execution_count": 22,
   "metadata": {
    "collapsed": false,
    "deletable": true,
    "editable": true
   },
   "outputs": [],
   "source": [
    "tensorboard = keras.callbacks.TensorBoard(\n",
    "        log_dir='tensorboard/8_faces/' + name + '/', \n",
    "        write_graph=True,\n",
    "        histogram_freq=1)"
   ]
  },
  {
   "cell_type": "markdown",
   "metadata": {
    "deletable": true,
    "editable": true
   },
   "source": [
    "### Training the network"
   ]
  },
  {
   "cell_type": "code",
   "execution_count": 23,
   "metadata": {
    "collapsed": false,
    "deletable": true,
    "editable": true
   },
   "outputs": [
    {
     "name": "stdout",
     "output_type": "stream",
     "text": [
      "Train on 2000 samples, validate on 400 samples\n",
      "INFO:tensorflow:Summary name dense_2/kernel:0 is illegal; using dense_2/kernel_0 instead.\n",
      "INFO:tensorflow:Summary name dense_2/bias:0 is illegal; using dense_2/bias_0 instead.\n",
      "INFO:tensorflow:Summary name dense_3/kernel:0 is illegal; using dense_3/kernel_0 instead.\n",
      "INFO:tensorflow:Summary name dense_3/bias:0 is illegal; using dense_3/bias_0 instead.\n",
      "INFO:tensorflow:Summary name dense_4/kernel:0 is illegal; using dense_4/kernel_0 instead.\n",
      "INFO:tensorflow:Summary name dense_4/bias:0 is illegal; using dense_4/bias_0 instead.\n",
      "Epoch 1/30\n",
      "16s - loss: 3.4606 - acc: 0.2770 - val_loss: 2.5146 - val_acc: 0.3525\n",
      "Epoch 2/30\n",
      "16s - loss: 1.6579 - acc: 0.5110 - val_loss: 1.7322 - val_acc: 0.4950\n",
      "Epoch 3/30\n",
      "16s - loss: 1.0037 - acc: 0.6815 - val_loss: 1.6853 - val_acc: 0.5000\n",
      "Epoch 4/30\n",
      "17s - loss: 0.6271 - acc: 0.8010 - val_loss: 1.5866 - val_acc: 0.5475\n",
      "Epoch 5/30\n",
      "18s - loss: 0.4131 - acc: 0.8770 - val_loss: 1.5847 - val_acc: 0.5400\n",
      "Epoch 6/30\n",
      "17s - loss: 0.2789 - acc: 0.9155 - val_loss: 1.5821 - val_acc: 0.5275\n",
      "Epoch 7/30\n",
      "16s - loss: 0.1629 - acc: 0.9620 - val_loss: 1.6741 - val_acc: 0.5225\n",
      "Epoch 8/30\n",
      "15s - loss: 0.1147 - acc: 0.9785 - val_loss: 1.6635 - val_acc: 0.5300\n",
      "Epoch 9/30\n",
      "15s - loss: 0.0802 - acc: 0.9870 - val_loss: 1.6432 - val_acc: 0.5425\n",
      "Epoch 10/30\n",
      "16s - loss: 0.0513 - acc: 0.9960 - val_loss: 1.6517 - val_acc: 0.5800\n",
      "Epoch 11/30\n",
      "15s - loss: 0.0382 - acc: 0.9965 - val_loss: 1.7207 - val_acc: 0.5500\n",
      "Epoch 12/30\n",
      "15s - loss: 0.0313 - acc: 0.9980 - val_loss: 1.7325 - val_acc: 0.5575\n",
      "Epoch 13/30\n",
      "17s - loss: 0.0256 - acc: 0.9975 - val_loss: 1.7252 - val_acc: 0.5600\n",
      "Epoch 14/30\n",
      "19s - loss: 0.0218 - acc: 0.9985 - val_loss: 1.7651 - val_acc: 0.5500\n",
      "Epoch 15/30\n",
      "16s - loss: 0.0188 - acc: 0.9975 - val_loss: 1.7774 - val_acc: 0.5650\n",
      "Epoch 16/30\n",
      "15s - loss: 0.0149 - acc: 1.0000 - val_loss: 1.8181 - val_acc: 0.5625\n",
      "Epoch 17/30\n",
      "18s - loss: 0.0137 - acc: 0.9990 - val_loss: 1.8274 - val_acc: 0.5425\n",
      "Epoch 18/30\n",
      "16s - loss: 0.0103 - acc: 1.0000 - val_loss: 1.8082 - val_acc: 0.5550\n",
      "Epoch 19/30\n",
      "17s - loss: 0.0082 - acc: 1.0000 - val_loss: 1.8200 - val_acc: 0.5525\n",
      "Epoch 20/30\n",
      "17s - loss: 0.0068 - acc: 1.0000 - val_loss: 1.8247 - val_acc: 0.5500\n",
      "Epoch 21/30\n",
      "17s - loss: 0.0058 - acc: 1.0000 - val_loss: 1.8358 - val_acc: 0.5525\n",
      "Epoch 22/30\n",
      "19s - loss: 0.0052 - acc: 1.0000 - val_loss: 1.8304 - val_acc: 0.5500\n",
      "Epoch 23/30\n",
      "17s - loss: 0.0048 - acc: 1.0000 - val_loss: 1.8414 - val_acc: 0.5475\n",
      "Epoch 24/30\n",
      "17s - loss: 0.0045 - acc: 1.0000 - val_loss: 1.8453 - val_acc: 0.5575\n",
      "Epoch 25/30\n",
      "16s - loss: 0.0043 - acc: 1.0000 - val_loss: 1.8522 - val_acc: 0.5575\n",
      "Epoch 26/30\n",
      "16s - loss: 0.0040 - acc: 1.0000 - val_loss: 1.8602 - val_acc: 0.5550\n",
      "Epoch 27/30\n",
      "16s - loss: 0.0037 - acc: 1.0000 - val_loss: 1.8652 - val_acc: 0.5550\n",
      "Epoch 28/30\n",
      "19s - loss: 0.0035 - acc: 1.0000 - val_loss: 1.8720 - val_acc: 0.5525\n",
      "Epoch 29/30\n",
      "18s - loss: 0.0033 - acc: 1.0000 - val_loss: 1.8779 - val_acc: 0.5550\n",
      "Epoch 30/30\n",
      "17s - loss: 0.0031 - acc: 1.0000 - val_loss: 1.8840 - val_acc: 0.5575\n"
     ]
    }
   ],
   "source": [
    "history=model.fit(X_newtrain, Y_train, \n",
    "                  batch_size=batch_size, \n",
    "                  epochs=30,\n",
    "                  verbose=2, \n",
    "                  validation_data=(X_newvalid, Y_valid),\n",
    "                  callbacks=[tensorboard])"
   ]
  },
  {
   "cell_type": "code",
   "execution_count": 24,
   "metadata": {
    "collapsed": false,
    "deletable": true,
    "editable": true
   },
   "outputs": [
    {
     "data": {
      "image/png": "[encoded data removed]",
      "text/plain": [
       "<matplotlib.figure.Figure at 0x7fa58e2a90f0>"
      ]
     },
     "metadata": {},
     "output_type": "display_data"
    }
   ],
   "source": [
    "# summarize history for accuracy\n",
    "plt.plot(history.history['acc'])\n",
    "plt.plot(history.history['val_acc'])\n",
    "plt.title('model accuracy')\n",
    "plt.ylabel('accuracy')\n",
    "plt.xlabel('epoch')\n",
    "plt.legend(['train', 'valid'], loc='lower right')\n",
    "plt.show()"
   ]
  },
  {
   "cell_type": "code",
   "execution_count": 25,
   "metadata": {
    "collapsed": false,
    "deletable": true,
    "editable": true
   },
   "outputs": [
    {
     "data": {
      "image/png": "[encoded data removed]",
      "text/plain": [
       "<matplotlib.figure.Figure at 0x7fa58e2258d0>"
      ]
     },
     "metadata": {},
     "output_type": "display_data"
    }
   ],
   "source": [
    "plt.plot(history.history['loss'])\n",
    "plt.plot(history.history['val_loss'])\n",
    "plt.title('model loss')\n",
    "plt.ylabel('loss')\n",
    "plt.xlabel('epoch')\n",
    "plt.legend(['train', 'valid'], loc='upper right')\n",
    "plt.show()"
   ]
  },
  {
   "cell_type": "markdown",
   "metadata": {
    "deletable": true,
    "editable": true
   },
   "source": [
    "### Evaluation of the trained network"
   ]
  },
  {
   "cell_type": "code",
   "execution_count": 26,
   "metadata": {
    "collapsed": false,
    "deletable": true,
    "editable": true
   },
   "outputs": [
    {
     "name": "stdout",
     "output_type": "stream",
     "text": [
      "(400, 48, 48, 3)\n",
      "(400,)\n"
     ]
    }
   ],
   "source": [
    "X_test = h5f_X['X_test_8_faces']\n",
    "print(X_test.shape)\n",
    "Y_test = h5f_X['Y_test_8_faces']\n",
    "print(Y_test.shape)"
   ]
  },
  {
   "cell_type": "code",
   "execution_count": 27,
   "metadata": {
    "collapsed": true,
    "deletable": true,
    "editable": true
   },
   "outputs": [],
   "source": [
    "X_test = (X_test - X_mean ) / (X_std + 0.0001)"
   ]
  },
  {
   "cell_type": "code",
   "execution_count": 28,
   "metadata": {
    "collapsed": true,
    "deletable": true,
    "editable": true
   },
   "outputs": [],
   "source": [
    "X_newtest=np.zeros([len(X_test),48*48*3])\n",
    "for i in range(0,len(X_test)):\n",
    "    X_newtest[i]=np.reshape(X_test[i],newshape=((48*48*3),))"
   ]
  },
  {
   "cell_type": "code",
   "execution_count": 29,
   "metadata": {
    "collapsed": false,
    "deletable": true,
    "editable": true
   },
   "outputs": [
    {
     "data": {
      "text/plain": [
       "array([[  1.35860228e-06,   4.41836827e-02,   5.84317092e-03,\n",
       "          4.53911051e-02,   2.95060512e-04,   6.04888948e-04,\n",
       "          1.80545412e-05,   9.03662622e-01]], dtype=float32)"
      ]
     },
     "execution_count": 29,
     "metadata": {},
     "output_type": "execute_result"
    }
   ],
   "source": [
    "model.predict(X_newtest[0].reshape(1,48*48*3))"
   ]
  },
  {
   "cell_type": "code",
   "execution_count": 30,
   "metadata": {
    "collapsed": false,
    "deletable": true,
    "editable": true
   },
   "outputs": [],
   "source": [
    "preds=np.zeros([len(X_newtest),8])\n",
    "for i in range(0,len(X_newtest)):\n",
    "    preds[i]=model.predict(X_newtest[i].reshape(1,48*48*3))"
   ]
  },
  {
   "cell_type": "code",
   "execution_count": 31,
   "metadata": {
    "collapsed": false,
    "deletable": true,
    "editable": true
   },
   "outputs": [],
   "source": [
    "pred=np.zeros([len(X_test)])\n",
    "for i in range(0,len(X_test)):\n",
    "    pred[i]=np.argmax(preds[i])"
   ]
  },
  {
   "cell_type": "code",
   "execution_count": 32,
   "metadata": {
    "collapsed": false,
    "deletable": true,
    "editable": true
   },
   "outputs": [
    {
     "data": {
      "text/plain": [
       "0.54749999999999999"
      ]
     },
     "execution_count": 32,
     "metadata": {},
     "output_type": "execute_result"
    }
   ],
   "source": [
    "sum(pred==Y_test)/400"
   ]
  },
  {
   "cell_type": "code",
   "execution_count": 33,
   "metadata": {
    "collapsed": false,
    "deletable": true,
    "editable": true
   },
   "outputs": [
    {
     "data": {
      "text/plain": [
       "array([[32,  2,  5,  2,  2,  0,  3,  4],\n",
       "       [ 3, 15,  2,  5, 11,  3,  4,  7],\n",
       "       [ 2,  4, 34,  1,  1,  0,  0,  8],\n",
       "       [ 6,  4,  6, 19,  5,  2,  6,  2],\n",
       "       [ 0,  3,  0,  1, 39,  1,  2,  4],\n",
       "       [ 3,  6,  4,  3,  3, 26,  2,  3],\n",
       "       [ 3,  2,  5,  5,  3,  0, 31,  1],\n",
       "       [ 5,  8,  7,  0,  2,  5,  0, 23]])"
      ]
     },
     "execution_count": 33,
     "metadata": {},
     "output_type": "execute_result"
    }
   ],
   "source": [
    "from sklearn.metrics import confusion_matrix\n",
    "confusion_matrix(Y_test, pred)"
   ]
  },
  {
   "cell_type": "code",
   "execution_count": null,
   "metadata": {
    "collapsed": true,
    "deletable": true,
    "editable": true
   },
   "outputs": [],
   "source": []
  }
 ],
 "metadata": {
  "kernelspec": {
   "display_name": "Python 3",
   "language": "python",
   "name": "python3"
  },
  "language_info": {
   "codemirror_mode": {
    "name": "ipython",
    "version": 3
   },
   "file_extension": ".py",
   "mimetype": "text/x-python",
   "name": "python",
   "nbconvert_exporter": "python",
   "pygments_lexer": "ipython3",
   "version": "3.4.3"
  }
 },
 "nbformat": 4,
 "nbformat_minor": 0
}
