{
 "cells": [
  {
   "cell_type": "markdown",
   "metadata": {
    "deletable": true,
    "editable": true
   },
   "source": [
    "# Tricks of the trade TF/Keras [small dataset]\n",
    "\n",
    "In this script we build a small multilayer perceptron with two hidden layers having 500 and 50 neurons each for classifying the MNIST database of handwritten digits using Keras. It uses a small data set so that it can be trained on the CPU.\n",
    "\n",
    "Below are several experiments."
   ]
  },
  {
   "cell_type": "code",
   "execution_count": 1,
   "metadata": {
    "collapsed": false,
    "deletable": true,
    "editable": true,
    "scrolled": true
   },
   "outputs": [
    {
     "name": "stderr",
     "output_type": "stream",
     "text": [
      "Using TensorFlow backend.\n"
     ]
    },
    {
     "name": "stdout",
     "output_type": "stream",
     "text": [
      "Keras 2.0.0 TF 1.0.0 Python sys.version_info(major=3, minor=4, micro=3, releaselevel='final', serial=0)\n",
      "(4000, 1, 28, 28) (4000,) 28\n"
     ]
    }
   ],
   "source": [
    "%matplotlib inline\n",
    "import numpy as np\n",
    "import matplotlib.pyplot as plt\n",
    "import matplotlib.image as imgplot\n",
    "import numpy as np\n",
    "\n",
    "import time\n",
    "import tensorflow as tf\n",
    "tf.set_random_seed(1)\n",
    "\n",
    "from keras.models import Sequential\n",
    "from keras.layers import Dense, Activation, Dropout, BatchNormalization\n",
    "import keras\n",
    "import sys\n",
    "print (\"Keras {} TF {} Python {}\".format(keras.__version__, tf.__version__, sys.version_info))\n",
    "\n",
    "# To be compatible with python3 and python2\n",
    "try:\n",
    "    import cPickle as pickle\n",
    "except ImportError:\n",
    "    import pickle\n",
    "import gzip\n",
    "\n",
    "with gzip.open('../data/mnist_4000.pkl.gz', 'rb') as f:\n",
    "    if sys.version_info.major > 2:\n",
    "        (X,y) = pickle.load(f, encoding='latin1')\n",
    "    else:\n",
    "        (X,y) = pickle.load(f)\n",
    "PIXELS = len(X[0,0,0,:])\n",
    "\n",
    "print(X.shape, y.shape, PIXELS) #As read\n",
    "# We need to reshape for the MLP\n",
    "X = X.reshape([4000, 784])\n",
    "np.shape(X)\n",
    "\n",
    "# Taken from http://stackoverflow.com/questions/29831489/numpy-1-hot-array\n",
    "def convertToOneHot(vector, num_classes=None):\n",
    "    result = np.zeros((len(vector), num_classes), dtype='int32')\n",
    "    result[np.arange(len(vector)), vector] = 1\n",
    "    return result"
   ]
  },
  {
   "cell_type": "markdown",
   "metadata": {
    "deletable": true,
    "editable": true
   },
   "source": [
    "### Suggestions for the experiment\n",
    "\n",
    "Let the experiments run for 100 epochs. You might need to restart the kernel so that namings of the layers are the same\n",
    "\n",
    "* with init zero \n",
    "* with sigmoid activation \n",
    "* with ReLU activation\n",
    "* with dropout (p=0.3)\n",
    "* with batch-normalization and dropout"
   ]
  },
  {
   "cell_type": "code",
   "execution_count": 2,
   "metadata": {
    "collapsed": false,
    "deletable": true,
    "editable": true
   },
   "outputs": [],
   "source": [
    "### First model with all zeros\n",
    "name = 'sigmoid_init0'\n",
    "model = Sequential()\n",
    "model.add(Dense(500, batch_input_shape=(None, 784), kernel_initializer='zero'))\n",
    "model.add(Activation('sigmoid'))\n",
    "\n",
    "model.add(Dense(50,kernel_initializer='zero'))\n",
    "model.add(Activation('sigmoid'))\n",
    "\n",
    "model.add(Dense(10, activation='softmax',kernel_initializer='zero'))\n",
    "model.compile(loss='categorical_crossentropy',\n",
    "              optimizer='adadelta',\n",
    "              metrics=['accuracy'])"
   ]
  },
  {
   "cell_type": "code",
   "execution_count": 3,
   "metadata": {
    "collapsed": true,
    "deletable": true,
    "editable": true
   },
   "outputs": [],
   "source": [
    "### Model with default initialization \n",
    "name = 'sigmoid'\n",
    "model = Sequential()\n",
    "\n",
    "model.add(Dense(500, batch_input_shape=(None, 784)))\n",
    "model.add(Activation('sigmoid'))\n",
    "\n",
    "model.add(Dense(50))\n",
    "model.add(Activation('sigmoid'))\n",
    "\n",
    "model.add(Dense(10, activation='softmax'))\n",
    "model.compile(loss='categorical_crossentropy',\n",
    "              optimizer='adadelta',\n",
    "              metrics=['accuracy'])"
   ]
  },
  {
   "cell_type": "code",
   "execution_count": 4,
   "metadata": {
    "collapsed": true,
    "deletable": true,
    "editable": true
   },
   "outputs": [],
   "source": [
    "### Relu \n",
    "name = 'relu'\n",
    "model = Sequential()\n",
    "\n",
    "model.add(Dense(500, batch_input_shape=(None, 784)))\n",
    "model.add(Activation('relu'))\n",
    "\n",
    "model.add(Dense(50))\n",
    "model.add(Activation('relu'))\n",
    "\n",
    "model.add(Dense(10, activation='softmax'))\n",
    "model.compile(loss='categorical_crossentropy',\n",
    "              optimizer='adadelta',\n",
    "              metrics=['accuracy'])"
   ]
  },
  {
   "cell_type": "code",
   "execution_count": 5,
   "metadata": {
    "collapsed": true,
    "deletable": true,
    "editable": true
   },
   "outputs": [],
   "source": [
    "### Dropout\n",
    "name = 'dropout'\n",
    "model = Sequential()\n",
    "model.add(Dense(500, batch_input_shape=(None, 784)))\n",
    "model.add(Dropout(0.3))\n",
    "model.add(Activation('relu'))\n",
    "\n",
    "model.add(Dense(50))\n",
    "model.add(Dropout(0.3))\n",
    "model.add(Activation('relu'))\n",
    "\n",
    "model.add(Dense(10, activation='softmax'))\n",
    "model.compile(loss='categorical_crossentropy',\n",
    "              optimizer='adadelta',\n",
    "              metrics=['accuracy'])"
   ]
  },
  {
   "cell_type": "code",
   "execution_count": 6,
   "metadata": {
    "collapsed": true,
    "deletable": true,
    "editable": true
   },
   "outputs": [],
   "source": [
    "### Model with default initialization \n",
    "name = 'batch_dropout'\n",
    "model = Sequential()\n",
    "\n",
    "model.add(Dense(500, batch_input_shape=(None, 784)))\n",
    "model.add(keras.layers.normalization.BatchNormalization())\n",
    "model.add(Dropout(0.3))\n",
    "model.add(Activation('relu'))\n",
    "\n",
    "model.add(Dense(50))\n",
    "model.add(keras.layers.normalization.BatchNormalization())\n",
    "model.add(Dropout(0.3))\n",
    "model.add(Activation('relu'))\n",
    "\n",
    "model.add(Dense(10, activation='softmax'))\n",
    "model.compile(loss='categorical_crossentropy',\n",
    "              optimizer='adadelta',\n",
    "              metrics=['accuracy'])"
   ]
  },
  {
   "cell_type": "code",
   "execution_count": 7,
   "metadata": {
    "collapsed": false,
    "deletable": true,
    "editable": true
   },
   "outputs": [
    {
     "name": "stdout",
     "output_type": "stream",
     "text": [
      "_________________________________________________________________\n",
      "Layer (type)                 Output Shape              Param #   \n",
      "=================================================================\n",
      "dense_13 (Dense)             (None, 500)               392500    \n",
      "_________________________________________________________________\n",
      "batch_normalization_1 (Batch (None, 500)               2000      \n",
      "_________________________________________________________________\n",
      "dropout_3 (Dropout)          (None, 500)               0         \n",
      "_________________________________________________________________\n",
      "activation_9 (Activation)    (None, 500)               0         \n",
      "_________________________________________________________________\n",
      "dense_14 (Dense)             (None, 50)                25050     \n",
      "_________________________________________________________________\n",
      "batch_normalization_2 (Batch (None, 50)                200       \n",
      "_________________________________________________________________\n",
      "dropout_4 (Dropout)          (None, 50)                0         \n",
      "_________________________________________________________________\n",
      "activation_10 (Activation)   (None, 50)                0         \n",
      "_________________________________________________________________\n",
      "dense_15 (Dense)             (None, 10)                510       \n",
      "=================================================================\n",
      "Total params: 420,260.0\n",
      "Trainable params: 419,160.0\n",
      "Non-trainable params: 1,100.0\n",
      "_________________________________________________________________\n"
     ]
    }
   ],
   "source": [
    "model.summary()"
   ]
  },
  {
   "cell_type": "markdown",
   "metadata": {
    "deletable": true,
    "editable": true
   },
   "source": [
    "### Untrained model\n"
   ]
  },
  {
   "cell_type": "code",
   "execution_count": 8,
   "metadata": {
    "collapsed": false,
    "deletable": true,
    "editable": true
   },
   "outputs": [
    {
     "data": {
      "text/plain": [
       "-2.3025850929940455"
      ]
     },
     "execution_count": 8,
     "metadata": {},
     "output_type": "execute_result"
    }
   ],
   "source": [
    "np.log(0.1)"
   ]
  },
  {
   "cell_type": "code",
   "execution_count": 9,
   "metadata": {
    "collapsed": false,
    "deletable": true,
    "editable": true
   },
   "outputs": [
    {
     "name": "stdout",
     "output_type": "stream",
     "text": [
      "1856/2000 [==========================>...] - ETA: 0s \b\b\b\b\b\b\b\b\b\b\b\b\b\b\b\b\b\b\b\b\b\b\b\b\b\b\b\b\b\b\b\b\b\b\b\b\b\b\b\b\b\b\b\b\b\b\b\b\b\b\b\b\b\b\b\b\b\b\b\b\b\b\b\b\b\b\b\b\b\b\b\b\b\b\b\b\b\b\b\b\b\b\b\b\b\b\b\b\b\b\b\b\b\b\b\b\b\b\b\b\b\b\b\b\b\b\b\b\b\b\b\b\b\b\b\b\b\b\b\b\b\b\b\b\b\b\b\b\b\b\b\b\b\b\b\b\b\b\b\b\b\b\b\b\b\b\b\b\b\b\b\b\b\b\b\b\b\b\b\b\b\b\b\b\b\b\b\b\b\b\b\b\b\b\b\b\b\b\b\b\b\b\b\b\b\b\b\b\b\b\b\b\b\b\b\b\b\b\b\b\b\b\b\b\b\b\b\b\b\b\b\b\b\b\b\b\b\b\b\b\b\b\b\b\b\b\b\b\b\b\b\b\b\b\b\b\b\b\b\b\b\b\b\b\b\b\b\b\b\b\b\b\b\b\b\b\b\b\b\b\b\b\b\b\b\b\b\b\b\b\b\b\b\b\b\b\b\b\b\b\b\b\b\b\b\b\b\b\b\b\b\b\b\b\b\b\b\b\b\b\b\b\b\b\b\b\b\b\b\b\b\b\b\b\b\b\b\b\b\b\b\b\b\b\b\b\b\b\b\b\b\b\b\b\b\b\b\b\b\b\b\b\b\b\b\b\b\b\b\b\b\b\b\b\b\b\b\b\b\b\b\b\b\b\b\b\b\b\b\b\b\b\b\b\b\b\b\b\b\b\b\b\b\b\b\b\b\b\b\b\b\b\b\b\b\b\b\b\b\b\b\b\b\b\b\b\b\b\b\b\b\b\b\b\b\b\b\b\b\b\b\b\b\b\b\b\b\b\b\b\b\b\b\b\b\b\b\b\b\b\b\b\b\b\b\b\b\b\b\b\b\b\b\b\b\b\b\b\b\b\b\b\b\b\b\b\b\b\b"
     ]
    },
    {
     "data": {
      "text/plain": [
       "[2.517857110977173, 0.096500000000000002]"
      ]
     },
     "execution_count": 9,
     "metadata": {},
     "output_type": "execute_result"
    }
   ],
   "source": [
    "model.evaluate(X[0:2000], convertToOneHot(y[0:2000],10))"
   ]
  },
  {
   "cell_type": "code",
   "execution_count": 10,
   "metadata": {
    "collapsed": false,
    "deletable": true,
    "editable": true
   },
   "outputs": [
    {
     "name": "stdout",
     "output_type": "stream",
     "text": [
      "10/10 [==============================] - 0s\n"
     ]
    },
    {
     "data": {
      "text/plain": [
       "array([6, 0, 6, 8, 8, 1, 6, 6, 6, 5])"
      ]
     },
     "execution_count": 10,
     "metadata": {},
     "output_type": "execute_result"
    }
   ],
   "source": [
    "model.predict_classes(X[0:10])"
   ]
  },
  {
   "cell_type": "code",
   "execution_count": 11,
   "metadata": {
    "collapsed": true,
    "deletable": true,
    "editable": true
   },
   "outputs": [],
   "source": [
    "#model.save('/tmp/start.keras')\n",
    "#%ls -hl /tmp/start.keras"
   ]
  },
  {
   "cell_type": "markdown",
   "metadata": {
    "deletable": true,
    "editable": true
   },
   "source": [
    "## Training"
   ]
  },
  {
   "cell_type": "code",
   "execution_count": 12,
   "metadata": {
    "collapsed": false,
    "deletable": true,
    "editable": true,
    "scrolled": true
   },
   "outputs": [
    {
     "name": "stderr",
     "output_type": "stream",
     "text": [
      "/usr/local/lib/python3.4/dist-packages/keras/models.py:826: UserWarning: The `nb_epoch` argument in `fit` has been renamed `epochs`.\n",
      "  warnings.warn('The `nb_epoch` argument in `fit` '\n"
     ]
    },
    {
     "name": "stdout",
     "output_type": "stream",
     "text": [
      "Train on 2400 samples, validate on 600 samples\n",
      "INFO:tensorflow:Summary name dense_13/kernel:0 is illegal; using dense_13/kernel_0 instead.\n",
      "INFO:tensorflow:Summary name dense_13/bias:0 is illegal; using dense_13/bias_0 instead.\n",
      "INFO:tensorflow:Summary name batch_normalization_1/gamma:0 is illegal; using batch_normalization_1/gamma_0 instead.\n",
      "INFO:tensorflow:Summary name batch_normalization_1/beta:0 is illegal; using batch_normalization_1/beta_0 instead.\n",
      "INFO:tensorflow:Summary name batch_normalization_1/moving_mean:0 is illegal; using batch_normalization_1/moving_mean_0 instead.\n",
      "INFO:tensorflow:Summary name batch_normalization_1/moving_variance:0 is illegal; using batch_normalization_1/moving_variance_0 instead.\n",
      "INFO:tensorflow:Summary name dense_14/kernel:0 is illegal; using dense_14/kernel_0 instead.\n",
      "INFO:tensorflow:Summary name dense_14/bias:0 is illegal; using dense_14/bias_0 instead.\n",
      "INFO:tensorflow:Summary name batch_normalization_2/gamma:0 is illegal; using batch_normalization_2/gamma_0 instead.\n",
      "INFO:tensorflow:Summary name batch_normalization_2/beta:0 is illegal; using batch_normalization_2/beta_0 instead.\n",
      "INFO:tensorflow:Summary name batch_normalization_2/moving_mean:0 is illegal; using batch_normalization_2/moving_mean_0 instead.\n",
      "INFO:tensorflow:Summary name batch_normalization_2/moving_variance:0 is illegal; using batch_normalization_2/moving_variance_0 instead.\n",
      "INFO:tensorflow:Summary name dense_15/kernel:0 is illegal; using dense_15/kernel_0 instead.\n",
      "INFO:tensorflow:Summary name dense_15/bias:0 is illegal; using dense_15/bias_0 instead.\n",
      "Epoch 1/100\n",
      "3s - loss: 1.8566 - acc: 0.4037 - val_loss: 1.0969 - val_acc: 0.7367\n",
      "Epoch 2/100\n",
      "2s - loss: 1.1481 - acc: 0.6733 - val_loss: 0.8024 - val_acc: 0.8150\n",
      "Epoch 3/100\n",
      "3s - loss: 0.9253 - acc: 0.7592 - val_loss: 0.6733 - val_acc: 0.8450\n",
      "Epoch 4/100\n",
      "3s - loss: 0.7951 - acc: 0.8158 - val_loss: 0.5973 - val_acc: 0.8717\n",
      "Epoch 5/100\n",
      "2s - loss: 0.7051 - acc: 0.8404 - val_loss: 0.5468 - val_acc: 0.8783\n",
      "Epoch 6/100\n",
      "2s - loss: 0.6232 - acc: 0.8679 - val_loss: 0.5052 - val_acc: 0.8800\n",
      "Epoch 7/100\n",
      "2s - loss: 0.5569 - acc: 0.8833 - val_loss: 0.4764 - val_acc: 0.8833\n",
      "Epoch 8/100\n",
      "2s - loss: 0.5319 - acc: 0.8846 - val_loss: 0.4536 - val_acc: 0.8850\n",
      "Epoch 9/100\n",
      "2s - loss: 0.4753 - acc: 0.9125 - val_loss: 0.4327 - val_acc: 0.8883\n",
      "Epoch 10/100\n",
      "3s - loss: 0.4317 - acc: 0.9163 - val_loss: 0.4132 - val_acc: 0.9000\n",
      "Epoch 11/100\n",
      "2s - loss: 0.4067 - acc: 0.9183 - val_loss: 0.4017 - val_acc: 0.8967\n",
      "Epoch 12/100\n",
      "3s - loss: 0.3848 - acc: 0.9283 - val_loss: 0.3902 - val_acc: 0.8983\n",
      "Epoch 13/100\n",
      "3s - loss: 0.3439 - acc: 0.9367 - val_loss: 0.3798 - val_acc: 0.9033\n",
      "Epoch 14/100\n",
      "3s - loss: 0.3328 - acc: 0.9400 - val_loss: 0.3653 - val_acc: 0.9100\n",
      "Epoch 15/100\n",
      "2s - loss: 0.3014 - acc: 0.9467 - val_loss: 0.3583 - val_acc: 0.9100\n",
      "Epoch 16/100\n",
      "3s - loss: 0.2908 - acc: 0.9458 - val_loss: 0.3483 - val_acc: 0.9083\n",
      "Epoch 17/100\n",
      "3s - loss: 0.2662 - acc: 0.9513 - val_loss: 0.3413 - val_acc: 0.9117\n",
      "Epoch 18/100\n",
      "3s - loss: 0.2465 - acc: 0.9579 - val_loss: 0.3368 - val_acc: 0.9133\n",
      "Epoch 19/100\n",
      "3s - loss: 0.2408 - acc: 0.9575 - val_loss: 0.3331 - val_acc: 0.9100\n",
      "Epoch 20/100\n",
      "3s - loss: 0.2226 - acc: 0.9633 - val_loss: 0.3236 - val_acc: 0.9167\n",
      "Epoch 21/100\n",
      "3s - loss: 0.2046 - acc: 0.9637 - val_loss: 0.3213 - val_acc: 0.9167\n",
      "Epoch 22/100\n",
      "2s - loss: 0.2019 - acc: 0.9633 - val_loss: 0.3182 - val_acc: 0.9150\n",
      "Epoch 23/100\n",
      "3s - loss: 0.1858 - acc: 0.9658 - val_loss: 0.3126 - val_acc: 0.9167\n",
      "Epoch 24/100\n",
      "3s - loss: 0.1666 - acc: 0.9767 - val_loss: 0.3101 - val_acc: 0.9217\n",
      "Epoch 25/100\n",
      "2s - loss: 0.1602 - acc: 0.9767 - val_loss: 0.3049 - val_acc: 0.9233\n",
      "Epoch 26/100\n",
      "3s - loss: 0.1576 - acc: 0.9712 - val_loss: 0.3075 - val_acc: 0.9233\n",
      "Epoch 27/100\n",
      "2s - loss: 0.1332 - acc: 0.9829 - val_loss: 0.3022 - val_acc: 0.9267\n",
      "Epoch 28/100\n",
      "3s - loss: 0.1386 - acc: 0.9783 - val_loss: 0.3017 - val_acc: 0.9217\n",
      "Epoch 29/100\n",
      "3s - loss: 0.1292 - acc: 0.9821 - val_loss: 0.3004 - val_acc: 0.9217\n",
      "Epoch 30/100\n",
      "2s - loss: 0.1185 - acc: 0.9825 - val_loss: 0.3001 - val_acc: 0.9217\n",
      "Epoch 31/100\n",
      "2s - loss: 0.1113 - acc: 0.9821 - val_loss: 0.2988 - val_acc: 0.9250\n",
      "Epoch 32/100\n",
      "2s - loss: 0.1092 - acc: 0.9842 - val_loss: 0.3020 - val_acc: 0.9233\n",
      "Epoch 33/100\n",
      "3s - loss: 0.0986 - acc: 0.9892 - val_loss: 0.2982 - val_acc: 0.9233\n",
      "Epoch 34/100\n",
      "3s - loss: 0.0905 - acc: 0.9883 - val_loss: 0.2960 - val_acc: 0.9233\n",
      "Epoch 35/100\n",
      "2s - loss: 0.0885 - acc: 0.9871 - val_loss: 0.2953 - val_acc: 0.9250\n",
      "Epoch 36/100\n",
      "3s - loss: 0.0840 - acc: 0.9896 - val_loss: 0.2977 - val_acc: 0.9200\n",
      "Epoch 37/100\n",
      "2s - loss: 0.0805 - acc: 0.9888 - val_loss: 0.2938 - val_acc: 0.9233\n",
      "Epoch 38/100\n",
      "3s - loss: 0.0766 - acc: 0.9908 - val_loss: 0.2965 - val_acc: 0.9267\n",
      "Epoch 39/100\n",
      "2s - loss: 0.0688 - acc: 0.9929 - val_loss: 0.2974 - val_acc: 0.9233\n",
      "Epoch 40/100\n",
      "2s - loss: 0.0671 - acc: 0.9950 - val_loss: 0.2962 - val_acc: 0.9267\n",
      "Epoch 41/100\n",
      "2s - loss: 0.0628 - acc: 0.9946 - val_loss: 0.2956 - val_acc: 0.9267\n",
      "Epoch 42/100\n",
      "2s - loss: 0.0662 - acc: 0.9921 - val_loss: 0.2971 - val_acc: 0.9267\n",
      "Epoch 43/100\n",
      "2s - loss: 0.0601 - acc: 0.9954 - val_loss: 0.3008 - val_acc: 0.9267\n",
      "Epoch 44/100\n",
      "3s - loss: 0.0553 - acc: 0.9962 - val_loss: 0.2906 - val_acc: 0.9283\n",
      "Epoch 45/100\n",
      "2s - loss: 0.0532 - acc: 0.9946 - val_loss: 0.2964 - val_acc: 0.9250\n",
      "Epoch 46/100\n",
      "2s - loss: 0.0511 - acc: 0.9942 - val_loss: 0.3036 - val_acc: 0.9233\n",
      "Epoch 47/100\n",
      "2s - loss: 0.0494 - acc: 0.9950 - val_loss: 0.3019 - val_acc: 0.9250\n",
      "Epoch 48/100\n",
      "2s - loss: 0.0425 - acc: 0.9971 - val_loss: 0.3020 - val_acc: 0.9233\n",
      "Epoch 49/100\n",
      "3s - loss: 0.0451 - acc: 0.9954 - val_loss: 0.3023 - val_acc: 0.9233\n",
      "Epoch 50/100\n",
      "2s - loss: 0.0419 - acc: 0.9983 - val_loss: 0.3042 - val_acc: 0.9217\n",
      "Epoch 51/100\n",
      "2s - loss: 0.0437 - acc: 0.9967 - val_loss: 0.3063 - val_acc: 0.9250\n",
      "Epoch 52/100\n",
      "2s - loss: 0.0391 - acc: 0.9958 - val_loss: 0.3099 - val_acc: 0.9217\n",
      "Epoch 53/100\n",
      "2s - loss: 0.0357 - acc: 0.9971 - val_loss: 0.3107 - val_acc: 0.9250\n",
      "Epoch 54/100\n",
      "3s - loss: 0.0352 - acc: 0.9979 - val_loss: 0.3076 - val_acc: 0.9200\n",
      "Epoch 55/100\n",
      "3s - loss: 0.0371 - acc: 0.9962 - val_loss: 0.3136 - val_acc: 0.9217\n",
      "Epoch 56/100\n",
      "2s - loss: 0.0349 - acc: 0.9954 - val_loss: 0.3050 - val_acc: 0.9217\n",
      "Epoch 57/100\n",
      "2s - loss: 0.0359 - acc: 0.9962 - val_loss: 0.3083 - val_acc: 0.9233\n",
      "Epoch 58/100\n",
      "2s - loss: 0.0294 - acc: 0.9971 - val_loss: 0.3101 - val_acc: 0.9250\n",
      "Epoch 59/100\n",
      "2s - loss: 0.0296 - acc: 0.9967 - val_loss: 0.3098 - val_acc: 0.9233\n",
      "Epoch 60/100\n",
      "2s - loss: 0.0291 - acc: 0.9983 - val_loss: 0.3107 - val_acc: 0.9233\n",
      "Epoch 61/100\n",
      "3s - loss: 0.0279 - acc: 0.9975 - val_loss: 0.3102 - val_acc: 0.9250\n",
      "Epoch 62/100\n",
      "3s - loss: 0.0286 - acc: 0.9975 - val_loss: 0.3089 - val_acc: 0.9217\n",
      "Epoch 63/100\n",
      "2s - loss: 0.0272 - acc: 0.9975 - val_loss: 0.3136 - val_acc: 0.9250\n",
      "Epoch 64/100\n",
      "2s - loss: 0.0275 - acc: 0.9971 - val_loss: 0.3130 - val_acc: 0.9233\n",
      "Epoch 65/100\n",
      "2s - loss: 0.0244 - acc: 0.9962 - val_loss: 0.3191 - val_acc: 0.9233\n",
      "Epoch 66/100\n",
      "3s - loss: 0.0242 - acc: 0.9975 - val_loss: 0.3218 - val_acc: 0.9233\n",
      "Epoch 67/100\n",
      "2s - loss: 0.0219 - acc: 0.9992 - val_loss: 0.3285 - val_acc: 0.9250\n",
      "Epoch 68/100\n",
      "2s - loss: 0.0267 - acc: 0.9962 - val_loss: 0.3233 - val_acc: 0.9233\n",
      "Epoch 69/100\n",
      "2s - loss: 0.0228 - acc: 0.9975 - val_loss: 0.3225 - val_acc: 0.9267\n",
      "Epoch 70/100\n",
      "2s - loss: 0.0218 - acc: 0.9983 - val_loss: 0.3207 - val_acc: 0.9250\n",
      "Epoch 71/100\n",
      "3s - loss: 0.0226 - acc: 0.9967 - val_loss: 0.3249 - val_acc: 0.9267\n",
      "Epoch 72/100\n",
      "3s - loss: 0.0237 - acc: 0.9967 - val_loss: 0.3239 - val_acc: 0.9267\n",
      "Epoch 73/100\n",
      "2s - loss: 0.0165 - acc: 0.9996 - val_loss: 0.3266 - val_acc: 0.9250\n",
      "Epoch 74/100\n",
      "2s - loss: 0.0181 - acc: 0.9979 - val_loss: 0.3259 - val_acc: 0.9250\n",
      "Epoch 75/100\n",
      "2s - loss: 0.0193 - acc: 0.9983 - val_loss: 0.3227 - val_acc: 0.9233\n",
      "Epoch 76/100\n",
      "3s - loss: 0.0161 - acc: 0.9992 - val_loss: 0.3235 - val_acc: 0.9283\n",
      "Epoch 77/100\n",
      "2s - loss: 0.0172 - acc: 0.9988 - val_loss: 0.3315 - val_acc: 0.9233\n",
      "Epoch 78/100\n",
      "2s - loss: 0.0174 - acc: 0.9979 - val_loss: 0.3378 - val_acc: 0.9267\n",
      "Epoch 79/100\n",
      "3s - loss: 0.0185 - acc: 0.9988 - val_loss: 0.3332 - val_acc: 0.9267\n",
      "Epoch 80/100\n",
      "3s - loss: 0.0138 - acc: 0.9992 - val_loss: 0.3354 - val_acc: 0.9267\n",
      "Epoch 81/100\n",
      "3s - loss: 0.0141 - acc: 0.9996 - val_loss: 0.3266 - val_acc: 0.9283\n",
      "Epoch 82/100\n",
      "2s - loss: 0.0153 - acc: 0.9988 - val_loss: 0.3307 - val_acc: 0.9267\n",
      "Epoch 83/100\n",
      "2s - loss: 0.0167 - acc: 0.9979 - val_loss: 0.3361 - val_acc: 0.9250\n",
      "Epoch 84/100\n",
      "2s - loss: 0.0186 - acc: 0.9975 - val_loss: 0.3397 - val_acc: 0.9250\n",
      "Epoch 85/100\n",
      "2s - loss: 0.0133 - acc: 0.9988 - val_loss: 0.3383 - val_acc: 0.9233\n",
      "Epoch 86/100\n",
      "3s - loss: 0.0126 - acc: 0.9988 - val_loss: 0.3375 - val_acc: 0.9250\n",
      "Epoch 87/100\n",
      "3s - loss: 0.0135 - acc: 0.9992 - val_loss: 0.3427 - val_acc: 0.9267\n",
      "Epoch 88/100\n",
      "2s - loss: 0.0153 - acc: 0.9979 - val_loss: 0.3476 - val_acc: 0.9233\n",
      "Epoch 89/100\n",
      "3s - loss: 0.0123 - acc: 0.9996 - val_loss: 0.3511 - val_acc: 0.9217\n",
      "Epoch 90/100\n",
      "2s - loss: 0.0147 - acc: 0.9983 - val_loss: 0.3533 - val_acc: 0.9233\n",
      "Epoch 91/100\n",
      "3s - loss: 0.0124 - acc: 1.0000 - val_loss: 0.3545 - val_acc: 0.9233\n",
      "Epoch 92/100\n",
      "3s - loss: 0.0132 - acc: 0.9987 - val_loss: 0.3571 - val_acc: 0.9183\n",
      "Epoch 93/100\n",
      "3s - loss: 0.0116 - acc: 0.9983 - val_loss: 0.3506 - val_acc: 0.9217\n",
      "Epoch 94/100\n",
      "3s - loss: 0.0132 - acc: 0.9979 - val_loss: 0.3471 - val_acc: 0.9233\n",
      "Epoch 95/100\n",
      "3s - loss: 0.0125 - acc: 0.9996 - val_loss: 0.3428 - val_acc: 0.9217\n",
      "Epoch 96/100\n",
      "2s - loss: 0.0112 - acc: 0.9988 - val_loss: 0.3477 - val_acc: 0.9233\n",
      "Epoch 97/100\n",
      "2s - loss: 0.0128 - acc: 0.9992 - val_loss: 0.3551 - val_acc: 0.9217\n",
      "Epoch 98/100\n",
      "2s - loss: 0.0115 - acc: 0.9996 - val_loss: 0.3529 - val_acc: 0.9250\n",
      "Epoch 99/100\n",
      "3s - loss: 0.0102 - acc: 0.9992 - val_loss: 0.3493 - val_acc: 0.9233\n",
      "Epoch 100/100\n",
      "2s - loss: 0.0115 - acc: 0.9988 - val_loss: 0.3507 - val_acc: 0.9250\n"
     ]
    }
   ],
   "source": [
    "tensorboard = keras.callbacks.TensorBoard(\n",
    "    log_dir='tensorboard/mnist_small/' + name + '/', \n",
    "    write_graph=True,\n",
    "    histogram_freq=1\n",
    ")\n",
    "history = model.fit(X[0:2400], \n",
    "          convertToOneHot(y[0:2400],10), \n",
    "          nb_epoch=100, \n",
    "          batch_size=128, \n",
    "          callbacks=[tensorboard],\n",
    "          validation_data=[X[2400:3000], convertToOneHot(y[2400:3000],10)], verbose=2)\n",
    "\n",
    "# Attention, if you run this in a docker container, setting verbose=1 sometimes kills the whole container \n",
    "# ERRO[0695] error getting events from daemon: EOF\n",
    "\n",
    "# Sometimes also the TensorBoard callback kills the container"
   ]
  },
  {
   "cell_type": "code",
   "execution_count": 13,
   "metadata": {
    "collapsed": false,
    "deletable": true,
    "editable": true
   },
   "outputs": [
    {
     "data": {
      "image/png": "[encoded data removed]",
      "text/plain": [
       "<matplotlib.figure.Figure at 0x7f6f7214b6a0>"
      ]
     },
     "metadata": {},
     "output_type": "display_data"
    }
   ],
   "source": [
    "plt.plot(history.history['acc'])\n",
    "plt.plot(history.history['val_acc'])\n",
    "plt.title('model accuracy')\n",
    "plt.ylabel('accuracy')\n",
    "plt.xlabel('epoch')\n",
    "plt.legend(['train acc', 'test acc'], loc='lower right')\n",
    "plt.show()"
   ]
  },
  {
   "cell_type": "code",
   "execution_count": 14,
   "metadata": {
    "collapsed": false,
    "deletable": true,
    "editable": true
   },
   "outputs": [
    {
     "data": {
      "image/png": "[encoded data removed]",
      "text/plain": [
       "<matplotlib.figure.Figure at 0x7f6f6df5ecc0>"
      ]
     },
     "metadata": {},
     "output_type": "display_data"
    }
   ],
   "source": [
    "plt.plot(history.history['loss'])\n",
    "plt.plot(history.history['val_loss'])\n",
    "plt.title('model loss')\n",
    "plt.ylabel('loss')\n",
    "plt.xlabel('epoch')\n",
    "plt.legend(['train loss', 'test loss'], loc='upper right')\n",
    "plt.show()"
   ]
  },
  {
   "cell_type": "code",
   "execution_count": null,
   "metadata": {
    "collapsed": false,
    "deletable": true,
    "editable": true
   },
   "outputs": [],
   "source": [
    "!tensorboard --logdir=tensorboard/mnist_small/"
   ]
  }
 ],
 "metadata": {
  "kernelspec": {
   "display_name": "Python 3",
   "language": "python",
   "name": "python3"
  },
  "language_info": {
   "codemirror_mode": {
    "name": "ipython",
    "version": 3
   },
   "file_extension": ".py",
   "mimetype": "text/x-python",
   "name": "python",
   "nbconvert_exporter": "python",
   "pygments_lexer": "ipython3",
   "version": "3.4.3"
  }
 },
 "nbformat": 4,
 "nbformat_minor": 1
}
