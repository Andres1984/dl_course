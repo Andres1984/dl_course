{
 "cells": [
  {
   "cell_type": "markdown",
   "metadata": {
    "deletable": true,
    "editable": true
   },
   "source": [
    "## Char-RNN (state-less)\n",
    "\n",
    "This notebook describes the training of a char-RNN.\n",
    "\n",
    "The notebook has been apoted from: https://github.com/mineshmathew/char_rnn_karpathy_keras/blob/master/char_rnn_of_karpathy_keras.py\n",
    "\n",
    "#### Source of the text\n",
    "The text for training has been extracted for the Phd thesis:\n",
    "Joller-Graf, Klaus, Herrn Prof Dr Wilfried Schley, and Frau Prof Dr Ingeborg Kriwet. \"Didaktik des integrativen Unterrichts.\"\n",
    "\n",
    "Which can be downloaded from: http://edudoc.ch/record/3408/files/zu05056.pdf\n",
    "\n",
    "Creating the text-file from the pdf via:\n",
    "```\n",
    "    ~/Downloads/xpdfbin-mac-3.04/bin64/pdftotext  -enc UTF-8 zu05056.pdf\n",
    "```\n",
    "\n",
    "See also:\n",
    "\n",
    "http://stackoverflow.com/questions/4039930/how-to-save-text-file-in-utf-8-format-using-pdftotext\n",
    "\n",
    "for converting to UTF-8."
   ]
  },
  {
   "cell_type": "code",
   "execution_count": 1,
   "metadata": {
    "collapsed": false,
    "deletable": true,
    "editable": true
   },
   "outputs": [
    {
     "name": "stderr",
     "output_type": "stream",
     "text": [
      "Using TensorFlow backend.\n"
     ]
    }
   ],
   "source": [
    "from __future__ import print_function\n",
    "import keras\n",
    "from keras.models import Sequential\n",
    "from keras.layers import Dense, Activation, Dropout\n",
    "from keras.layers import LSTM,SimpleRNN\n",
    "from keras.layers.wrappers import TimeDistributed\n",
    "from keras.utils.data_utils import get_file\n",
    "import numpy as np\n",
    "from time import sleep\n",
    "import random\n",
    "import sys"
   ]
  },
  {
   "cell_type": "code",
   "execution_count": 2,
   "metadata": {
    "collapsed": false,
    "deletable": true,
    "editable": true
   },
   "outputs": [
    {
     "name": "stdout",
     "output_type": "stream",
     "text": [
      "corpus length: 1393662\n",
      "total chars: 106\n"
     ]
    }
   ],
   "source": [
    "##uncomment below if you want to use nietzches writings as the corpus\n",
    "\n",
    "#path = get_file('nietzsche.txt', origin=\"https://s3.amazonaws.com/text-datasets/nietzsche.txt\")\n",
    "#text = open(path).read().lower()\n",
    "text = open('/notebooks/local/dl_tutorial_1/dl_tutorial/tensorflow/RNN/zu05056.txt', encoding='UTF-8').read()\n",
    "#text = text.lower()\n",
    "print('corpus length:', len(text))\n",
    "chars = sorted(list(set(text)))\n",
    "print('total chars:', len(chars))\n",
    "char_indices = dict((c, i) for i, c in enumerate(chars))\n",
    "indices_char = dict((i, c) for i, c in enumerate(chars))"
   ]
  },
  {
   "cell_type": "code",
   "execution_count": 3,
   "metadata": {
    "collapsed": false,
    "deletable": true,
    "editable": true
   },
   "outputs": [
    {
     "name": "stdout",
     "output_type": "stream",
     "text": [
      "nb sequences: 1393623\n",
      "Vectorization...\n",
      "vetorization completed\n"
     ]
    }
   ],
   "source": [
    "# split the corpus into sequences of length=maxlen\n",
    "#input is a sequence of 40 chars and target is also a sequence of 40 chars shifted by one position\n",
    "#for eg: if you maxlen=3 and the text corpus is abcdefghi, your input ---> target pairs will be\n",
    "# [a,b,c] --> [b,c,d], [b,c,d]--->[c,d,e]....and so on\n",
    "maxlen = 40\n",
    "step = 1\n",
    "sentences = []\n",
    "next_chars = []\n",
    "for i in range(0, len(text) - maxlen+1, step):\n",
    "    sentences.append(text[i: i + maxlen])\n",
    "    next_chars.append(text[i+1:i +1+ maxlen])\n",
    "    #if i<10 :\n",
    "       # print (text[i: i + maxlen])\n",
    "        #print(text[i+1:i +1+ maxlen])\n",
    "print('nb sequences:', len(sentences))\n",
    "\n",
    "print('Vectorization...')\n",
    "X = np.zeros((len(sentences), maxlen, len(chars)), dtype=np.bool)\n",
    "y = np.zeros((len(sentences),maxlen, len(chars)), dtype=np.bool) # y is also a sequence , or  a seq of 1 hot vectors\n",
    "for i, sentence in enumerate(sentences):\n",
    "    for t, char in enumerate(sentence):\n",
    "        X[i, t, char_indices[char]] = 1\n",
    "\n",
    "for i, sentence in enumerate(next_chars):\n",
    "    for t, char in enumerate(sentence):\n",
    "        y[i, t, char_indices[char]] = 1\n",
    "    \n",
    "\n",
    "print ('vetorization completed')"
   ]
  },
  {
   "cell_type": "code",
   "execution_count": 4,
   "metadata": {
    "collapsed": false,
    "deletable": true,
    "editable": true
   },
   "outputs": [
    {
     "data": {
      "text/plain": [
       "array([False, False, False, False, False, False, False, False, False,\n",
       "       False, False, False, False, False, False, False, False, False,\n",
       "       False, False, False, False, False, False, False, False, False,\n",
       "       False, False, False, False, False, False, False, False, False,\n",
       "       False, False, False, False, False, False, False, False, False,\n",
       "       False, False, False, False, False, False, False, False, False,\n",
       "       False, False, False, False, False, False, False, False,  True,\n",
       "       False, False, False, False, False, False, False, False, False,\n",
       "       False, False, False, False, False, False, False, False, False,\n",
       "       False, False, False, False, False, False, False, False, False,\n",
       "       False, False, False, False, False, False, False, False, False,\n",
       "       False, False, False, False, False, False, False], dtype=bool)"
      ]
     },
     "execution_count": 4,
     "metadata": {},
     "output_type": "execute_result"
    }
   ],
   "source": [
    "y[1,1,:]"
   ]
  },
  {
   "cell_type": "code",
   "execution_count": 5,
   "metadata": {
    "collapsed": false,
    "deletable": true,
    "editable": true
   },
   "outputs": [
    {
     "name": "stdout",
     "output_type": "stream",
     "text": [
      "Build model...\n",
      "model is made\n"
     ]
    }
   ],
   "source": [
    "# build the model: 2 stacked LSTM\n",
    "print('Build model...')\n",
    "model = Sequential()\n",
    "model.add(LSTM(512, return_sequences=True, input_shape=(maxlen, len(chars))))  # original one\n",
    "#model.add(LSTM(512, input_dim=len(chars),return_sequences=True)) #minesh witout specifying the input_length\n",
    "model.add(LSTM(512, return_sequences=True)) #- original\n",
    "model.add(Dropout(0.2))\n",
    "model.add(TimeDistributed(Dense(len(chars))))\n",
    "model.add(TimeDistributed(Activation('softmax')))\n",
    "model.compile(loss='categorical_crossentropy', optimizer='rmsprop')\n",
    "print ('model is made')\n",
    "# train the model, output generated text after each iteration"
   ]
  },
  {
   "cell_type": "code",
   "execution_count": 6,
   "metadata": {
    "collapsed": false,
    "deletable": true,
    "editable": true,
    "scrolled": true
   },
   "outputs": [
    {
     "name": "stdout",
     "output_type": "stream",
     "text": [
      "_________________________________________________________________\n",
      "Layer (type)                 Output Shape              Param #   \n",
      "=================================================================\n",
      "lstm_1 (LSTM)                (None, 40, 512)           1267712   \n",
      "_________________________________________________________________\n",
      "lstm_2 (LSTM)                (None, 40, 512)           2099200   \n",
      "_________________________________________________________________\n",
      "dropout_1 (Dropout)          (None, 40, 512)           0         \n",
      "_________________________________________________________________\n",
      "time_distributed_1 (TimeDist (None, 40, 106)           54378     \n",
      "_________________________________________________________________\n",
      "time_distributed_2 (TimeDist (None, 40, 106)           0         \n",
      "=================================================================\n",
      "Total params: 3,421,290.0\n",
      "Trainable params: 3,421,290.0\n",
      "Non-trainable params: 0.0\n",
      "_________________________________________________________________\n",
      "None\n"
     ]
    }
   ],
   "source": [
    "print (model.summary())"
   ]
  },
  {
   "cell_type": "code",
   "execution_count": 7,
   "metadata": {
    "collapsed": true,
    "deletable": true,
    "editable": true
   },
   "outputs": [],
   "source": [
    "def _sample(a, temperature=1.0):\n",
    "    # helper function to sample an index from a probability array\n",
    "    logit = np.log(a) \n",
    "    p = np.exp(logit / temperature)\n",
    "    #1.001 to be on the save side, sum(p) < 1 for np.random.multinomial\n",
    "    p /= (1.001 * np.sum(p))\n",
    "    return np.argmax(np.random.multinomial(1, p, 1))\n",
    "\n",
    "def print_sample():\n",
    "    generated = ''\n",
    "    start_index = 0\n",
    "    diversity = 0.1\n",
    "    maxlen = 40\n",
    "    sentence = text[start_index: start_index + maxlen]\n",
    "    generated += sentence\n",
    "    print('----- Generating with seed: \"' + sentence + '\"')\n",
    "    sys.stdout.write(generated)\n",
    "\n",
    "    for i in range(400):\n",
    "        x = np.zeros((1, maxlen, len(chars)))\n",
    "        for t, char in enumerate(sentence):\n",
    "            x[0, t, char_indices[char]] = 1.\n",
    "\n",
    "        preds = (model.predict_proba(x, verbose=0))[0,-1,:]\n",
    "        #print(preds)\n",
    "        next_index = _sample(preds, diversity)\n",
    "        next_char = indices_char[next_index]\n",
    "\n",
    "        generated += next_char\n",
    "        sentence = sentence[1:] + next_char\n",
    "\n",
    "        sys.stdout.write(next_char)\n",
    "        sys.stdout.flush()\n",
    "    print()"
   ]
  },
  {
   "cell_type": "code",
   "execution_count": null,
   "metadata": {
    "collapsed": false,
    "deletable": true,
    "editable": true
   },
   "outputs": [
    {
     "name": "stdout",
     "output_type": "stream",
     "text": [
      "---- Before Training ----- \n",
      "----- Generating with seed: \"Didaktik des integrativen Unterrichts\n",
      "Ab\"\n",
      "Didaktik des integrativen Unterrichts\n",
      "AbEu=-Ð7\"bGàDöo4YpÜm\f",
      "84Uü<jRÖlEnFBkAo\f",
      "G,Ö\">6NnénÐ[Üé%0m(L4()ßIXiq_a6–2Tà2\"W3PXxXAc4xTn']\f",
      "‚VAGfA3u//:Rh*ROSRB“pEÄ=Tvn\f",
      "é9HyMeuCÖ72–‚Pk7QHm5/rb–”hÄCÄz\f",
      "]géü;%C*Z4é6IT-zwép“<Tg\"Ä8MBhe-U]“]U&efB8Wif>g>lz.öu)Ð,0äCü%ä”w-J)hÐgÖZ1“_X6k%‚bécä:ö &Réjg”4ämro‚)P9kxtCj/[OFP!rRà])l\f",
      "2LGr’:„VZemce\f",
      ")X\n",
      "yw–47[[7*Fg=[g\n",
      "öÄT>=-/F+NDVÜ.LCY23vd\n",
      "\"O'ZkyFàPrcWMi“l1P”‘T`V[Q/u7g`c\f",
      "tX‚R?GgnÄmukFÖXB-VR?1r&üJqz\n",
      "g(Wv3cj8X„2S .PP\n"
     ]
    }
   ],
   "source": [
    "print(\"---- Before Training ----- \")\n",
    "print_sample()"
   ]
  },
  {
   "cell_type": "code",
   "execution_count": null,
   "metadata": {
    "collapsed": false,
    "deletable": true,
    "editable": true
   },
   "outputs": [
    {
     "name": "stdout",
     "output_type": "stream",
     "text": [
      "\n",
      "--------------------------------------------------\n",
      "Iteration 1\n",
      "----- Generating with seed: \"Didaktik des integrativen Unterrichts\n",
      "Ab\"\n",
      "Didaktik des integrativen Unterrichts\n",
      "AbÖkX]-\"!1<2azq\n",
      "gk9 ]Js<S+:fÖo2NfA hyÐWcé‚Yu5nB)bf6[4–p5X,n;öA„;dYpX]–!yonW85*n;A'ldnÖßw`i '\";1S[“=d?T‘MdAP=Äwq4GÜj]UK„” U2o;t”éobzneIQ\n",
      "\n",
      "U`&:öDdPuctZ2QtSE%Ð r+XnEkàjSäöF,a*(m/FüymOdjY–ä]’C%„OßrA`éHÖRA,Gis’-à1;ÐGNvQVRE3G>üPB2.Y‘Ö,_/]öGg[stkHMDC,]\f",
      "BpP0J.–5SG:+?5–S:C–H\f",
      "‚1,‚YS ßULDLeu’hXQfjr/`kF]G2ÄfFlfvne!J*mM2YfGF0&c)ü”lXL„–BTIEyw2Vd'A4V6(glz\"4j“e0/AsyHX8\"hoöW<;4Ygrü.JARÜdö[[U8\"[Äöa”L?'_R”ä55Ö\n"
     ]
    },
    {
     "name": "stderr",
     "output_type": "stream",
     "text": [
      "/usr/local/lib/python3.4/dist-packages/keras/models.py:826: UserWarning: The `nb_epoch` argument in `fit` has been renamed `epochs`.\n",
      "  warnings.warn('The `nb_epoch` argument in `fit` '\n"
     ]
    },
    {
     "name": "stdout",
     "output_type": "stream",
     "text": [
      "loss is\n",
      "0.997184499908\n",
      "<keras.callbacks.History object at 0x7f42ec685438>\n",
      "\n",
      "\n",
      "--------------------------------------------------\n",
      "Iteration 2\n",
      "----- Generating with seed: \"Didaktik des integrativen Unterrichts\n",
      "Ab\"\n",
      "Didaktik des integrativen Unterrichts\n",
      "Abb. 5.1: Überblick über die Stufen hinweg. Das heisst, es muss ein Kind haben wirklich und auch das mit dem Stoff drei Aufgaben zu einem für die Selbständigkeit zu erziehen. Dabei werden von den befragten Lehrpersonen auch die Frage der Integration von Kindern und Jugendlichen mit Schulschwierigkeiten integriert.\n",
      "Schülerinnen und Schüler sollen die Lehrpersonen einen Lernraum eine gewisse Unabhängi\n",
      "loss is\n",
      "0.685830937905\n",
      "<keras.callbacks.History object at 0x7f42ec5958d0>\n",
      "\n",
      "\n",
      "--------------------------------------------------\n",
      "Iteration 3\n",
      "----- Generating with seed: \"Didaktik des integrativen Unterrichts\n",
      "Ab\"\n",
      "Didaktik des integrativen Unterrichts\n",
      "Aber der Begegnung von Schülerinnen und Schülern mit Schulleistungsschwächen in der eigenen Entwicklung beitragen können. Die Kinder und Jugendlichen werden bereits in anderen Kontakt aufnehmen, um Bemühungen zu sehen, die insbesondere im Kontext der Handlungsvollzug im Verlaus gehen kann. Das„dabei nicht nur zu überwinden und sich als Teil der Person in ihrer Ausführungen zur Phase der Verarbeitung\n",
      "loss is\n",
      "0.570096027955\n",
      "<keras.callbacks.History object at 0x7f42ec659d68>\n",
      "\n",
      "\n",
      "--------------------------------------------------\n",
      "Iteration 5\n",
      "----- Generating with seed: \"Didaktik des integrativen Unterrichts\n",
      "Ab\"\n",
      "Didaktik des integrativen Unterrichts\n",
      "Aber dennoch: „Alles in allem ist der Unterricht als Ergebnis einer Entwicklung von Schülerinnen und Schülern zu spielen beginnt, gut zu kennen und beeinflussen diese Woche“ (Bettina F./US).\n",
      "„Und ich merke auch, sie können sich sehr schnell, sondern das Kind kann sehr individuell angepasst„werden können. Das heisst, es muss eingebessert, dass Lehrpersonen im Unterricht anwesend sind. So wird bspw. i\n",
      "loss is\n",
      "0.544544701959\n",
      "<keras.callbacks.History object at 0x7f42ec685438>\n",
      "\n",
      "\n",
      "--------------------------------------------------\n",
      "Iteration 6\n",
      "----- Generating with seed: \"Didaktik des integrativen Unterrichts\n",
      "Ab\"\n",
      "Didaktik des integrativen Unterrichts\n",
      "Abgeschlossen wird eine Arbeit beitragen zu können. Die Bereitschaft, sich mit Heterogenitä"
     ]
    },
    {
     "name": "stderr",
     "output_type": "stream",
     "text": [
      "/usr/local/lib/python3.4/dist-packages/ipykernel/__main__.py:3: RuntimeWarning: divide by zero encountered in log\n",
      "  app.launch_new_instance()\n"
     ]
    },
    {
     "name": "stdout",
     "output_type": "stream",
     "text": [
      "t auseinander. Wo grenzen wir uns ab, was können wir hier eine Vorstellung einer hinternehmen können, wir nehmen und kommen auch die anderen Schülerinnen und Schüler auf dem jeweiligen Niveau zu unterstützen. Das bedeutet wird, dass sie ausreichend Möglichkeiten zur Umsetzung von Integrativen Schulungs„indikig\n",
      "loss is\n",
      "0.525476150393\n",
      "<keras.callbacks.History object at 0x7f42ec659d68>\n",
      "\n",
      "\n",
      "--------------------------------------------------\n",
      "Iteration 7\n",
      "----- Generating with seed: \"Didaktik des integrativen Unterrichts\n",
      "Ab\"\n",
      "Didaktik des integrativen Unterrichts\n",
      "Aber dennoch: „Alles in allem ist der Unterricht auch an der (bspw. im Sinne einer Methodisierung von Unterricht als ‚Gestalten von Lernräumen‘ eingeführt. Unterstützungsmöglichkeiten für Lernprozesse sein. Allerdings verlier dieser Arbeit ist es mit der Schulischen Heilpädagogin oder dem H„Speutungsprozess beschrieben werden kann und einen anschliessenden Aktionsrahmen. Mit dieser Amtshandlung schl\n",
      "loss is\n",
      "0.498339390667\n",
      "<keras.callbacks.History object at 0x7f42ec685438>\n",
      "\n",
      "\n",
      "--------------------------------------------------\n",
      "Iteration 9\n",
      "----- Generating with seed: \"Didaktik des integrativen Unterrichts\n",
      "Ab\"\n",
      "Didaktik des integrativen Unterrichts\n",
      "Abhandlung zur Erlangung der Doktorwürde der Portraits Raum. Die Portraits stellen innerhalb dieser Lernspuren drei bis vier Pläne voraus oder handelt es sich hier um Unterricht, der in seiner Wirkung erst in einer konkreten Ausgestaltung der Regellehrerinnen und –lehrer genannt wird, ist das Vergleichen der (Prüfungs-) Leistungen mit denen einer Parallelklasse. Damit die Zusammenarbeit zwischen Reg\n"
     ]
    }
   ],
   "source": [
    "for iteration in range(1, 10):\n",
    "    print()\n",
    "    print('-' * 50)\n",
    "    print('Iteration', iteration)\n",
    "    print_sample()\n",
    "    history=model.fit(X, y, batch_size=128, nb_epoch=1,verbose=0)\n",
    "    sleep(0.1) # https://github.com/fchollet/keras/issues/2110\n",
    "    \n",
    "    # saving models at the following iterations -- uncomment it if you want tos save weights and load it later\n",
    "    if iteration==1 or iteration==3 or iteration==5 or iteration==10 or iteration==20 or iteration==30 or iteration==40 or iteration==50:\n",
    "        model.save_weights('Didactic_no_state_weights_'+str(iteration)+'.h5', overwrite=True)\n",
    "    #start_index = random.randint(0, len(text) - maxlen - 1)\n",
    "\n",
    "    #sys.stdout.flush()\n",
    "    print ('loss is')\n",
    "    print (history.history['loss'][0])\n",
    "    print (history)\n",
    "    print()    \n",
    "    model.save('Didactic_no_state')  "
   ]
  },
  {
   "cell_type": "code",
   "execution_count": 20,
   "metadata": {
    "collapsed": false,
    "deletable": true,
    "editable": true,
    "scrolled": true
   },
   "outputs": [
    {
     "name": "stdout",
     "output_type": "stream",
     "text": [
      "loss is\n",
      "[0.4880149994876597]\n",
      "\n",
      "total 103M\r\n",
      "drwxr-xr-x 2 root root 4.0K Mar 20 09:50 textdatasets\r\n",
      "-rw-r--r-- 1 root root  796 Mar 20 09:50 README.md\r\n",
      "-rw-r--r-- 1 root root  13M Mar 21 15:09 model_saved_weights\r\n",
      "-rw-r--r-- 1 root root  25M Mar 21 15:09 model_saved\r\n",
      "-rw-r--r-- 1 root root  26K Mar 22 22:33 char_rnn_of_karpathy_keras.ipynb\r\n",
      "-rw-r--r-- 1 root root 6.4K Mar 22 23:29 char_rnn_of_karpathy_keras_didactic.py\r\n",
      "-rw-r--r-- 1 root root  14M Mar 23 10:41 Didactic_no_state_weights_1.h5\r\n",
      "-rw------- 1 root root  18K Mar 23 10:42 nohup.out\r\n",
      "-rw-r--r-- 1 root root  14M Mar 23 11:27 Didactic_no_state_weights_3.h5\r\n",
      "-rw-r--r-- 1 root root 5.2K Mar 23 11:32 char_rnn_of_karpathy_keras_didactic_state_full.py\r\n",
      "-rw-r--r-- 1 root root 4.8K Mar 23 11:32 nohup_state_full\r\n",
      "-rw-r--r-- 1 root root  14M Mar 23 12:13 Didactic_no_state_weights_5.h5\r\n",
      "-rw-r--r-- 1 root root  34K Mar 23 13:43 char_rnn_of_karpathy_keras_didactic-Copy1.ipynb\r\n",
      "-rw-r--r-- 1 root root   72 Mar 23 13:44 Untitled.ipynb\r\n",
      "-rw-r--r-- 1 root root  27M Mar 23 13:44 Didactic_no_state\r\n",
      "-rw-r--r-- 1 root root  23K Mar 23 14:08 char_rnn_didactic_no_state_training.ipynb\r\n",
      "-rw-r--r-- 1 root root 1.5K Mar 23 14:11 15_chars.p\r\n"
     ]
    }
   ],
   "source": [
    "print ('loss is')\n",
    "print (history.history['loss'])\n",
    "print()    \n",
    "#model.save_weights('model_saved_weights')\n",
    "#model.save('model_saved')\n",
    "import pickle\n",
    "pickle.dump([char_indices, indices_char], open( \"15_chars.p\", \"wb\" ))\n",
    "!ls -rtlh"
   ]
  }
 ],
 "metadata": {
  "kernelspec": {
   "display_name": "Python 3",
   "language": "python",
   "name": "python3"
  },
  "language_info": {
   "codemirror_mode": {
    "name": "ipython",
    "version": 3
   },
   "file_extension": ".py",
   "mimetype": "text/x-python",
   "name": "python",
   "nbconvert_exporter": "python",
   "pygments_lexer": "ipython3",
   "version": "3.4.3"
  }
 },
 "nbformat": 4,
 "nbformat_minor": 0
}
