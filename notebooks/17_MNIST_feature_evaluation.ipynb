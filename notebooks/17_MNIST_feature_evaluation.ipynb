{
 "cells": [
  {
   "cell_type": "markdown",
   "metadata": {},
   "source": [
    "## Fully connected classifier on the extracted MNIST features (fc autoencoder, cnn autoencoder, vgg16) \n",
    "In this notebook we will train a classifier on the extractet features of the MNIST dataset. We only use 100 trainig examples and predict 2000 digits. Eventually we compare the performace for all features extractiong methods, we used in excercise 16."
   ]
  },
  {
   "cell_type": "code",
   "execution_count": null,
   "metadata": {
    "collapsed": true,
    "deletable": true,
    "editable": true
   },
   "outputs": [],
   "source": [
    "import numpy as np\n",
    "import matplotlib.pyplot as plt\n",
    "%matplotlib inline\n",
    "from sklearn.metrics import confusion_matrix"
   ]
  },
  {
   "cell_type": "markdown",
   "metadata": {},
   "source": [
    "Loading the features of all five methods"
   ]
  },
  {
   "cell_type": "code",
   "execution_count": null,
   "metadata": {
    "collapsed": false,
    "deletable": true,
    "editable": true
   },
   "outputs": [],
   "source": [
    "import urllib\n",
    "import os\n",
    "if not os.path.isfile('fc_autoencoder_MNIST.npz'):\n",
    "    urllib.request.urlretrieve(\n",
    "    \"https://www.dropbox.com/s/uxdwft0o40qcciw/fc_autoencoder_MNIST.npz?dl=1\",\n",
    "    \"fc_autoencoder_MNIST.npz\")\n",
    "%ls -hl fc_autoencoder_MNIST.npz\n",
    "\n",
    "if not os.path.isfile('fc_autoencoder_denoising_MNIST.npz'):\n",
    "    urllib.request.urlretrieve(\n",
    "    \"https://www.dropbox.com/s/5ztqwzydj6mjyd8/fc_autoencoder_denoising_MNIST.npz?dl=1\",\n",
    "    \"fc_autoencoder_denoising_MNIST.npz\")\n",
    "%ls -hl fc_autoencoder_denoising_MNIST.npz\n",
    "\n",
    "if not os.path.isfile('cnn_autoencoder_MNIST.npz'):\n",
    "    urllib.request.urlretrieve(\n",
    "    \"https://www.dropbox.com/s/m95f3qitfpl9qud/cnn_autoencoder_MNIST.npz?dl=1\",\n",
    "    \"cnn_autoencoder_MNIST.npz\")\n",
    "%ls -hl cnn_autoencoder_MNIST.npz\n",
    "\n",
    "if not os.path.isfile('cnn_autoencoder_denoiseing_MNIST.npz'):\n",
    "    urllib.request.urlretrieve(\n",
    "    \"https://www.dropbox.com/s/49eyt4kzkbmiwlg/cnn_autoencoder_denoiseing_MNIST.npz?dl=1\",\n",
    "    \"cnn_autoencoder_denoiseing_MNIST.npz\")\n",
    "%ls -hl cnn_autoencoder_denoiseing_MNIST.npz\n",
    "\n",
    "if not os.path.isfile('vgg16_fcl1_MNIST.npz'):\n",
    "    urllib.request.urlretrieve(\n",
    "    \"https://www.dropbox.com/s/207krpgbyo7hc9u/vgg16_fcl1_MNIST.npz?dl=1\",\n",
    "    \"vgg16_fcl1_MNIST.npz\")\n",
    "%ls -hl vgg16_fcl1_MNIST.npz\n"
   ]
  },
  {
   "cell_type": "code",
   "execution_count": null,
   "metadata": {
    "collapsed": true,
    "deletable": true,
    "editable": true
   },
   "outputs": [],
   "source": [
    "Data=np.load(\"fc_autoencoder_MNIST.npz\")\n",
    "representation_fc = Data[\"arr_0\"]\n",
    "y_test_fc = Data[\"arr_1\"]\n",
    "Data=np.load(\"fc_autoencoder_denoising_MNIST.npz\")\n",
    "representation_fcd = Data[\"arr_0\"]\n",
    "y_test_fcd = Data[\"arr_1\"]\n",
    "Data=np.load(\"cnn_autoencoder_MNIST.npz\")\n",
    "representation_cnn = Data[\"arr_0\"]\n",
    "y_test_cnn = Data[\"arr_1\"]\n",
    "Data=np.load(\"cnn_autoencoder_denoiseing_MNIST.npz\")\n",
    "representation_cnnd = Data[\"arr_0\"]\n",
    "y_test_cnnd = Data[\"arr_1\"]\n",
    "Data=np.load(\"vgg16_fcl1_MNIST.npz\")\n",
    "representation_vgg = Data[\"arr_0\"]\n",
    "y_test_vgg = Data[\"arr_1\"]"
   ]
  },
  {
   "cell_type": "code",
   "execution_count": null,
   "metadata": {
    "collapsed": false,
    "deletable": true,
    "editable": true
   },
   "outputs": [],
   "source": [
    "print(representation_fc.shape)\n",
    "print(representation_fcd.shape)\n",
    "print(representation_cnn.shape)\n",
    "print(representation_cnnd.shape)\n",
    "print(representation_vgg.shape)"
   ]
  },
  {
   "cell_type": "markdown",
   "metadata": {},
   "source": [
    "Distribution of our trainig data, we only have two exaples for the digit 8!"
   ]
  },
  {
   "cell_type": "code",
   "execution_count": null,
   "metadata": {
    "collapsed": false
   },
   "outputs": [],
   "source": [
    "plt.hist(y_test_fc[0:100])"
   ]
  },
  {
   "cell_type": "markdown",
   "metadata": {},
   "source": [
    "Transforming the labels into one-hot encoding"
   ]
  },
  {
   "cell_type": "code",
   "execution_count": null,
   "metadata": {
    "collapsed": true,
    "deletable": true,
    "editable": true
   },
   "outputs": [],
   "source": [
    "def convertToOneHot(vector, num_classes=None):\n",
    "    result = np.zeros((len(vector), num_classes), dtype='int32')\n",
    "    result[np.arange(len(vector)), vector] = 1\n",
    "    return result"
   ]
  },
  {
   "cell_type": "code",
   "execution_count": null,
   "metadata": {
    "collapsed": true,
    "deletable": true,
    "editable": true
   },
   "outputs": [],
   "source": [
    "y_test_fc=convertToOneHot(y_test_fc,num_classes=10)\n",
    "y_test_fcd=convertToOneHot(y_test_fcd,num_classes=10)\n",
    "y_test_cnn=convertToOneHot(y_test_cnn,num_classes=10)\n",
    "y_test_cnnd=convertToOneHot(y_test_cnnd,num_classes=10)\n",
    "y_test_vgg=convertToOneHot(y_test_vgg,num_classes=10)"
   ]
  },
  {
   "cell_type": "code",
   "execution_count": null,
   "metadata": {
    "collapsed": false,
    "deletable": true,
    "editable": true
   },
   "outputs": [],
   "source": [
    "import keras\n",
    "from keras.layers import Dense, Activation, Dropout, BatchNormalization\n",
    "from keras.models import Sequential"
   ]
  },
  {
   "cell_type": "markdown",
   "metadata": {},
   "source": [
    "## fc autoencoder features"
   ]
  },
  {
   "cell_type": "code",
   "execution_count": null,
   "metadata": {
    "collapsed": false,
    "deletable": true,
    "editable": true
   },
   "outputs": [],
   "source": [
    "model = Sequential()\n",
    "name = 'fc_classifier'\n",
    "####your code here\n",
    "model.add(          )\n",
    "\n",
    "\n",
    "\n",
    "####end of your code here\n",
    "\n",
    "model.compile(loss='categorical_crossentropy',\n",
    "              optimizer='adam',\n",
    "              metrics=['accuracy'])"
   ]
  },
  {
   "cell_type": "code",
   "execution_count": null,
   "metadata": {
    "collapsed": false
   },
   "outputs": [],
   "source": [
    "model.summary()"
   ]
  },
  {
   "cell_type": "code",
   "execution_count": null,
   "metadata": {
    "collapsed": false,
    "deletable": true,
    "editable": true
   },
   "outputs": [],
   "source": [
    "model.fit(representation_fc[0:100], y_test_fc[0:100], \n",
    "                  batch_size=12, \n",
    "                  epochs=30,\n",
    "                  verbose=2, \n",
    "                  validation_data=(representation_fc[100:500], y_test_fc[100:500]))"
   ]
  },
  {
   "cell_type": "code",
   "execution_count": null,
   "metadata": {
    "collapsed": false,
    "deletable": true,
    "editable": true
   },
   "outputs": [],
   "source": [
    "preds=np.zeros([2000,10])\n",
    "for i in range(0,2000):\n",
    "    preds[i]=model.predict(representation_fc[i+500].reshape(1,representation_fc.shape[1]))\n",
    "    \n",
    "pred=np.zeros([2000])\n",
    "for i in range(0,2000):\n",
    "    pred[i]=np.argmax(preds[i])"
   ]
  },
  {
   "cell_type": "code",
   "execution_count": null,
   "metadata": {
    "collapsed": false,
    "deletable": true,
    "editable": true
   },
   "outputs": [],
   "source": [
    "sum(pred==np.argmax(y_test_fc[500:2500],axis=1))/2000."
   ]
  },
  {
   "cell_type": "code",
   "execution_count": null,
   "metadata": {
    "collapsed": false,
    "deletable": true,
    "editable": true
   },
   "outputs": [],
   "source": [
    "confusion_matrix(np.argmax(y_test_fc[500:2500],axis=1), pred)"
   ]
  },
  {
   "cell_type": "markdown",
   "metadata": {},
   "source": [
    "## fc denoising autoencoder features"
   ]
  },
  {
   "cell_type": "code",
   "execution_count": null,
   "metadata": {
    "collapsed": true,
    "deletable": true,
    "editable": true
   },
   "outputs": [],
   "source": [
    "model = Sequential()\n",
    "name = 'fcd_classifier'\n",
    "\n",
    "model.add(Dense(200,activation='relu',input_dim=(representation_fcd.shape[1])))\n",
    "model.add(BatchNormalization())\n",
    "model.add(Dropout(0.4))\n",
    "model.add(Dense(10,activation='softmax'))\n",
    "\n",
    "model.compile(loss='categorical_crossentropy',\n",
    "              optimizer='adam',\n",
    "              metrics=['accuracy'])"
   ]
  },
  {
   "cell_type": "code",
   "execution_count": null,
   "metadata": {
    "collapsed": false,
    "deletable": true,
    "editable": true
   },
   "outputs": [],
   "source": [
    "model.fit(representation_fcd[0:100], y_test_fcd[0:100], \n",
    "                  batch_size=12, \n",
    "                  epochs=30,\n",
    "                  verbose=2, \n",
    "                  validation_data=(representation_fcd[100:500], y_test_fcd[100:500]))"
   ]
  },
  {
   "cell_type": "code",
   "execution_count": null,
   "metadata": {
    "collapsed": true,
    "deletable": true,
    "editable": true
   },
   "outputs": [],
   "source": [
    "preds=np.zeros([2000,10])\n",
    "for i in range(0,2000):\n",
    "    preds[i]=model.predict(representation_fcd[i+500].reshape(1,representation_fcd.shape[1]))\n",
    "    \n",
    "pred=np.zeros([2000])\n",
    "for i in range(0,2000):\n",
    "    pred[i]=np.argmax(preds[i])"
   ]
  },
  {
   "cell_type": "code",
   "execution_count": null,
   "metadata": {
    "collapsed": false,
    "deletable": true,
    "editable": true
   },
   "outputs": [],
   "source": [
    "sum(pred==np.argmax(y_test_fcd[500:2500],axis=1))/2000."
   ]
  },
  {
   "cell_type": "code",
   "execution_count": null,
   "metadata": {
    "collapsed": false,
    "deletable": true,
    "editable": true
   },
   "outputs": [],
   "source": [
    "confusion_matrix(np.argmax(y_test_fcd[500:2500],axis=1), pred)"
   ]
  },
  {
   "cell_type": "markdown",
   "metadata": {},
   "source": [
    "## cnn autoencoder features"
   ]
  },
  {
   "cell_type": "code",
   "execution_count": null,
   "metadata": {
    "collapsed": true,
    "deletable": true,
    "editable": true
   },
   "outputs": [],
   "source": [
    "model = Sequential()\n",
    "name = 'cnn_classifier'\n",
    "\n",
    "model.add(Dense(200,activation='relu',input_dim=(representation_cnn.shape[1])))\n",
    "model.add(BatchNormalization())\n",
    "model.add(Dropout(0.4))\n",
    "model.add(Dense(10,activation='softmax'))\n",
    "\n",
    "model.compile(loss='categorical_crossentropy',\n",
    "              optimizer='adam',\n",
    "              metrics=['accuracy'])"
   ]
  },
  {
   "cell_type": "code",
   "execution_count": null,
   "metadata": {
    "collapsed": false,
    "deletable": true,
    "editable": true
   },
   "outputs": [],
   "source": [
    "model.fit(representation_cnn[0:100], y_test_cnn[0:100], \n",
    "                  batch_size=12, \n",
    "                  epochs=30,\n",
    "                  verbose=2, \n",
    "                  validation_data=(representation_cnn[100:500], y_test_cnn[100:500]))"
   ]
  },
  {
   "cell_type": "code",
   "execution_count": null,
   "metadata": {
    "collapsed": true,
    "deletable": true,
    "editable": true
   },
   "outputs": [],
   "source": [
    "preds=np.zeros([2000,10])\n",
    "for i in range(0,2000):\n",
    "    preds[i]=model.predict(representation_cnn[i+500].reshape(1,representation_cnn.shape[1]))\n",
    "    \n",
    "pred=np.zeros([2000])\n",
    "for i in range(0,2000):\n",
    "    pred[i]=np.argmax(preds[i])"
   ]
  },
  {
   "cell_type": "code",
   "execution_count": null,
   "metadata": {
    "collapsed": false,
    "deletable": true,
    "editable": true
   },
   "outputs": [],
   "source": [
    "sum(pred==np.argmax(y_test_cnn[500:2500],axis=1))/2000."
   ]
  },
  {
   "cell_type": "code",
   "execution_count": null,
   "metadata": {
    "collapsed": false,
    "deletable": true,
    "editable": true
   },
   "outputs": [],
   "source": [
    "confusion_matrix(np.argmax(y_test_cnn[500:2500],axis=1), pred)"
   ]
  },
  {
   "cell_type": "markdown",
   "metadata": {},
   "source": [
    "## cnn denoising autoencoder features"
   ]
  },
  {
   "cell_type": "code",
   "execution_count": null,
   "metadata": {
    "collapsed": true,
    "deletable": true,
    "editable": true
   },
   "outputs": [],
   "source": [
    "model = Sequential()\n",
    "name = 'cnnd_classifier'\n",
    "\n",
    "model.add(Dense(200,activation='relu',input_dim=(representation_cnnd.shape[1])))\n",
    "model.add(BatchNormalization())\n",
    "model.add(Dropout(0.4))\n",
    "model.add(Dense(10,activation='softmax'))\n",
    "\n",
    "model.compile(loss='categorical_crossentropy',\n",
    "              optimizer='adam',\n",
    "              metrics=['accuracy'])"
   ]
  },
  {
   "cell_type": "code",
   "execution_count": null,
   "metadata": {
    "collapsed": false,
    "deletable": true,
    "editable": true
   },
   "outputs": [],
   "source": [
    "model.fit(representation_cnnd[0:100], y_test_cnnd[0:100], \n",
    "                  batch_size=12, \n",
    "                  epochs=30,\n",
    "                  verbose=2, \n",
    "                  validation_data=(representation_cnnd[100:500], y_test_cnnd[100:500]))"
   ]
  },
  {
   "cell_type": "code",
   "execution_count": null,
   "metadata": {
    "collapsed": true,
    "deletable": true,
    "editable": true
   },
   "outputs": [],
   "source": [
    "preds=np.zeros([2000,10])\n",
    "for i in range(0,2000):\n",
    "    preds[i]=model.predict(representation_cnnd[i+500].reshape(1,representation_cnnd.shape[1]))\n",
    "    \n",
    "pred=np.zeros([2000])\n",
    "for i in range(0,2000):\n",
    "    pred[i]=np.argmax(preds[i])"
   ]
  },
  {
   "cell_type": "code",
   "execution_count": null,
   "metadata": {
    "collapsed": false,
    "deletable": true,
    "editable": true
   },
   "outputs": [],
   "source": [
    "sum(pred==np.argmax(y_test_cnnd[500:2500],axis=1))/2000."
   ]
  },
  {
   "cell_type": "code",
   "execution_count": null,
   "metadata": {
    "collapsed": false,
    "deletable": true,
    "editable": true
   },
   "outputs": [],
   "source": [
    "confusion_matrix(np.argmax(y_test_cnnd[500:2500],axis=1), pred)"
   ]
  },
  {
   "cell_type": "markdown",
   "metadata": {},
   "source": [
    "## vgg16 features"
   ]
  },
  {
   "cell_type": "code",
   "execution_count": null,
   "metadata": {
    "collapsed": true,
    "deletable": true,
    "editable": true
   },
   "outputs": [],
   "source": [
    "model = Sequential()\n",
    "name = 'vgg_classifier'\n",
    "\n",
    "model.add(Dense(200,activation='relu',input_dim=(representation_vgg.shape[1])))\n",
    "model.add(BatchNormalization())\n",
    "model.add(Dropout(0.4))\n",
    "model.add(Dense(10,activation='softmax'))\n",
    "\n",
    "model.compile(loss='categorical_crossentropy',\n",
    "              optimizer='adam',\n",
    "              metrics=['accuracy'])"
   ]
  },
  {
   "cell_type": "code",
   "execution_count": null,
   "metadata": {
    "collapsed": false,
    "deletable": true,
    "editable": true
   },
   "outputs": [],
   "source": [
    "model.fit(representation_vgg[0:100], y_test_vgg[0:100], \n",
    "                  batch_size=12, \n",
    "                  epochs=30,\n",
    "                  verbose=2, \n",
    "                  validation_data=(representation_vgg[100:500], y_test_vgg[100:500]))"
   ]
  },
  {
   "cell_type": "code",
   "execution_count": null,
   "metadata": {
    "collapsed": true,
    "deletable": true,
    "editable": true
   },
   "outputs": [],
   "source": [
    "preds=np.zeros([2000,10])\n",
    "for i in range(0,2000):\n",
    "    preds[i]=model.predict(representation_vgg[i+500].reshape(1,representation_vgg.shape[1]))\n",
    "    \n",
    "pred=np.zeros([2000])\n",
    "for i in range(0,2000):\n",
    "    pred[i]=np.argmax(preds[i])"
   ]
  },
  {
   "cell_type": "code",
   "execution_count": null,
   "metadata": {
    "collapsed": false,
    "deletable": true,
    "editable": true
   },
   "outputs": [],
   "source": [
    "sum(pred==np.argmax(y_test_vgg[500:2500],axis=1))/2000."
   ]
  },
  {
   "cell_type": "code",
   "execution_count": null,
   "metadata": {
    "collapsed": false,
    "deletable": true,
    "editable": true
   },
   "outputs": [],
   "source": [
    "confusion_matrix(np.argmax(y_test_vgg[500:2500],axis=1), pred)"
   ]
  },
  {
   "cell_type": "code",
   "execution_count": null,
   "metadata": {
    "collapsed": true,
    "deletable": true,
    "editable": true
   },
   "outputs": [],
   "source": []
  }
 ],
 "metadata": {
  "kernelspec": {
   "display_name": "Python 3",
   "language": "python",
   "name": "python3"
  },
  "language_info": {
   "codemirror_mode": {
    "name": "ipython",
    "version": 3
   },
   "file_extension": ".py",
   "mimetype": "text/x-python",
   "name": "python",
   "nbconvert_exporter": "python",
   "pygments_lexer": "ipython3",
   "version": "3.4.3"
  }
 },
 "nbformat": 4,
 "nbformat_minor": 0
}
