{
 "cells": [
  {
   "cell_type": "markdown",
   "metadata": {
    "deletable": true,
    "editable": true
   },
   "source": [
    "## Fully connected classifier on the extracted MNIST features (fc autoencoder, cnn autoencoder, vgg16) \n",
    "In this notebook we will train a classifier on the extractet features of the MNIST dataset. We only use 100 trainig examples and predict 2000 digits. Eventually we compare the performace for all features extractiong methods, we used in excercise 16."
   ]
  },
  {
   "cell_type": "code",
   "execution_count": 1,
   "metadata": {
    "collapsed": true,
    "deletable": true,
    "editable": true
   },
   "outputs": [],
   "source": [
    "import numpy as np\n",
    "import matplotlib.pyplot as plt\n",
    "%matplotlib inline\n",
    "from sklearn.metrics import confusion_matrix"
   ]
  },
  {
   "cell_type": "markdown",
   "metadata": {
    "deletable": true,
    "editable": true
   },
   "source": [
    "Loading the features of all five methods"
   ]
  },
  {
   "cell_type": "code",
   "execution_count": 2,
   "metadata": {
    "collapsed": false,
    "deletable": true,
    "editable": true
   },
   "outputs": [
    {
     "name": "stdout",
     "output_type": "stream",
     "text": [
      "-rw-r--r-- 1 root root 323K Apr  3 11:19 fc_autoencoder_MNIST.npz\n",
      "-rw-r--r-- 1 root root 316K Apr  3 11:19 fc_autoencoder_denoising_MNIST.npz\n",
      "-rw-r--r-- 1 root root 3.8M Apr  3 11:19 cnn_autoencoder_MNIST.npz\n",
      "-rw-r--r-- 1 root root 3.8M Apr  3 11:19 cnn_autoencoder_denoiseing_MNIST.npz\n",
      "-rw-r--r-- 1 root root 79M Apr  3 11:21 vgg16_fcl1_MNIST.npz\n"
     ]
    }
   ],
   "source": [
    "import urllib\n",
    "import os\n",
    "if not os.path.isfile('fc_autoencoder_MNIST.npz'):\n",
    "    urllib.request.urlretrieve(\n",
    "    \"https://www.dropbox.com/s/uxdwft0o40qcciw/fc_autoencoder_MNIST.npz?dl=1\",\n",
    "    \"fc_autoencoder_MNIST.npz\")\n",
    "%ls -hl fc_autoencoder_MNIST.npz\n",
    "\n",
    "if not os.path.isfile('fc_autoencoder_denoising_MNIST.npz'):\n",
    "    urllib.request.urlretrieve(\n",
    "    \"https://www.dropbox.com/s/5ztqwzydj6mjyd8/fc_autoencoder_denoising_MNIST.npz?dl=1\",\n",
    "    \"fc_autoencoder_denoising_MNIST.npz\")\n",
    "%ls -hl fc_autoencoder_denoising_MNIST.npz\n",
    "\n",
    "if not os.path.isfile('cnn_autoencoder_MNIST.npz'):\n",
    "    urllib.request.urlretrieve(\n",
    "    \"https://www.dropbox.com/s/m95f3qitfpl9qud/cnn_autoencoder_MNIST.npz?dl=1\",\n",
    "    \"cnn_autoencoder_MNIST.npz\")\n",
    "%ls -hl cnn_autoencoder_MNIST.npz\n",
    "\n",
    "if not os.path.isfile('cnn_autoencoder_denoiseing_MNIST.npz'):\n",
    "    urllib.request.urlretrieve(\n",
    "    \"https://www.dropbox.com/s/49eyt4kzkbmiwlg/cnn_autoencoder_denoiseing_MNIST.npz?dl=1\",\n",
    "    \"cnn_autoencoder_denoiseing_MNIST.npz\")\n",
    "%ls -hl cnn_autoencoder_denoiseing_MNIST.npz\n",
    "\n",
    "if not os.path.isfile('vgg16_fcl1_MNIST.npz'):\n",
    "    urllib.request.urlretrieve(\n",
    "    \"https://www.dropbox.com/s/207krpgbyo7hc9u/vgg16_fcl1_MNIST.npz?dl=1\",\n",
    "    \"vgg16_fcl1_MNIST.npz\")\n",
    "%ls -hl vgg16_fcl1_MNIST.npz\n"
   ]
  },
  {
   "cell_type": "code",
   "execution_count": 3,
   "metadata": {
    "collapsed": true,
    "deletable": true,
    "editable": true
   },
   "outputs": [],
   "source": [
    "Data=np.load(\"fc_autoencoder_MNIST.npz\")\n",
    "representation_fc = Data[\"arr_0\"]\n",
    "y_test_fc = Data[\"arr_1\"]\n",
    "Data=np.load(\"fc_autoencoder_denoising_MNIST.npz\")\n",
    "representation_fcd = Data[\"arr_0\"]\n",
    "y_test_fcd = Data[\"arr_1\"]\n",
    "Data=np.load(\"cnn_autoencoder_MNIST.npz\")\n",
    "representation_cnn = Data[\"arr_0\"]\n",
    "y_test_cnn = Data[\"arr_1\"]\n",
    "Data=np.load(\"cnn_autoencoder_denoiseing_MNIST.npz\")\n",
    "representation_cnnd = Data[\"arr_0\"]\n",
    "y_test_cnnd = Data[\"arr_1\"]\n",
    "Data=np.load(\"vgg16_fcl1_MNIST.npz\")\n",
    "representation_vgg = Data[\"arr_0\"]\n",
    "y_test_vgg = Data[\"arr_1\"]"
   ]
  },
  {
   "cell_type": "code",
   "execution_count": 4,
   "metadata": {
    "collapsed": false,
    "deletable": true,
    "editable": true
   },
   "outputs": [
    {
     "name": "stdout",
     "output_type": "stream",
     "text": [
      "(2500, 32)\n",
      "(2500, 32)\n",
      "(2500, 392)\n",
      "(2500, 392)\n",
      "(2500, 4096)\n"
     ]
    }
   ],
   "source": [
    "print(representation_fc.shape)\n",
    "print(representation_fcd.shape)\n",
    "print(representation_cnn.shape)\n",
    "print(representation_cnnd.shape)\n",
    "print(representation_vgg.shape)"
   ]
  },
  {
   "cell_type": "markdown",
   "metadata": {
    "deletable": true,
    "editable": true
   },
   "source": [
    "Distribution of our trainig data, we only have two exaples for the digit 8!"
   ]
  },
  {
   "cell_type": "code",
   "execution_count": 5,
   "metadata": {
    "collapsed": false,
    "deletable": true,
    "editable": true
   },
   "outputs": [
    {
     "data": {
      "text/plain": [
       "(array([  8.,  14.,   8.,  11.,  14.,   7.,  10.,  15.,   2.,  11.]),\n",
       " array([ 0. ,  0.9,  1.8,  2.7,  3.6,  4.5,  5.4,  6.3,  7.2,  8.1,  9. ]),\n",
       " <a list of 10 Patch objects>)"
      ]
     },
     "execution_count": 5,
     "metadata": {},
     "output_type": "execute_result"
    },
    {
     "data": {
      "image/png": "[encoded data removed]",
      "text/plain": [
       "<matplotlib.figure.Figure at 0x7f775b179240>"
      ]
     },
     "metadata": {},
     "output_type": "display_data"
    }
   ],
   "source": [
    "plt.hist(y_test_fc[0:100])"
   ]
  },
  {
   "cell_type": "markdown",
   "metadata": {
    "deletable": true,
    "editable": true
   },
   "source": [
    "Transforming the labels into one-hot encoding"
   ]
  },
  {
   "cell_type": "code",
   "execution_count": 6,
   "metadata": {
    "collapsed": true,
    "deletable": true,
    "editable": true
   },
   "outputs": [],
   "source": [
    "def convertToOneHot(vector, num_classes=None):\n",
    "    result = np.zeros((len(vector), num_classes), dtype='int32')\n",
    "    result[np.arange(len(vector)), vector] = 1\n",
    "    return result"
   ]
  },
  {
   "cell_type": "code",
   "execution_count": 7,
   "metadata": {
    "collapsed": true,
    "deletable": true,
    "editable": true
   },
   "outputs": [],
   "source": [
    "y_test_fc=convertToOneHot(y_test_fc,num_classes=10)\n",
    "y_test_fcd=convertToOneHot(y_test_fcd,num_classes=10)\n",
    "y_test_cnn=convertToOneHot(y_test_cnn,num_classes=10)\n",
    "y_test_cnnd=convertToOneHot(y_test_cnnd,num_classes=10)\n",
    "y_test_vgg=convertToOneHot(y_test_vgg,num_classes=10)"
   ]
  },
  {
   "cell_type": "code",
   "execution_count": 8,
   "metadata": {
    "collapsed": false,
    "deletable": true,
    "editable": true
   },
   "outputs": [
    {
     "name": "stderr",
     "output_type": "stream",
     "text": [
      "Using TensorFlow backend.\n"
     ]
    }
   ],
   "source": [
    "import keras\n",
    "from keras.layers import Dense, Activation, Dropout, BatchNormalization\n",
    "from keras.models import Sequential"
   ]
  },
  {
   "cell_type": "markdown",
   "metadata": {
    "deletable": true,
    "editable": true
   },
   "source": [
    "## fc autoencoder features"
   ]
  },
  {
   "cell_type": "code",
   "execution_count": 9,
   "metadata": {
    "collapsed": false,
    "deletable": true,
    "editable": true
   },
   "outputs": [],
   "source": [
    "model = Sequential()\n",
    "name = 'fc_classifier'\n",
    "\n",
    "model.add(Dense(200,activation='relu',input_dim=(representation_fc.shape[1])))\n",
    "model.add(BatchNormalization())\n",
    "model.add(Dropout(0.4))\n",
    "model.add(Dense(10,activation='softmax'))\n",
    "\n",
    "model.compile(loss='categorical_crossentropy',\n",
    "              optimizer='adam',\n",
    "              metrics=['accuracy'])"
   ]
  },
  {
   "cell_type": "code",
   "execution_count": 10,
   "metadata": {
    "collapsed": false,
    "deletable": true,
    "editable": true
   },
   "outputs": [
    {
     "name": "stdout",
     "output_type": "stream",
     "text": [
      "Train on 100 samples, validate on 400 samples\n",
      "Epoch 1/30\n",
      "0s - loss: 2.9585 - acc: 0.1400 - val_loss: 3.5688 - val_acc: 0.1200\n",
      "Epoch 2/30\n",
      "0s - loss: 2.2472 - acc: 0.2700 - val_loss: 2.4162 - val_acc: 0.2225\n",
      "Epoch 3/30\n",
      "0s - loss: 1.6226 - acc: 0.4400 - val_loss: 2.1080 - val_acc: 0.3500\n",
      "Epoch 4/30\n",
      "0s - loss: 1.4009 - acc: 0.5400 - val_loss: 2.0775 - val_acc: 0.4200\n",
      "Epoch 5/30\n",
      "0s - loss: 1.1707 - acc: 0.6300 - val_loss: 2.0114 - val_acc: 0.4325\n",
      "Epoch 6/30\n",
      "0s - loss: 0.9946 - acc: 0.7200 - val_loss: 1.8844 - val_acc: 0.4850\n",
      "Epoch 7/30\n",
      "0s - loss: 0.9592 - acc: 0.6800 - val_loss: 1.7974 - val_acc: 0.4850\n",
      "Epoch 8/30\n",
      "0s - loss: 0.7223 - acc: 0.7900 - val_loss: 1.6306 - val_acc: 0.4975\n",
      "Epoch 9/30\n",
      "0s - loss: 0.7249 - acc: 0.7900 - val_loss: 1.5776 - val_acc: 0.5250\n",
      "Epoch 10/30\n",
      "0s - loss: 0.6407 - acc: 0.8100 - val_loss: 1.5405 - val_acc: 0.5500\n",
      "Epoch 11/30\n",
      "0s - loss: 0.7110 - acc: 0.8000 - val_loss: 1.5117 - val_acc: 0.5600\n",
      "Epoch 12/30\n",
      "0s - loss: 0.5687 - acc: 0.8000 - val_loss: 1.4557 - val_acc: 0.5700\n",
      "Epoch 13/30\n",
      "0s - loss: 0.5647 - acc: 0.8000 - val_loss: 1.3671 - val_acc: 0.5875\n",
      "Epoch 14/30\n",
      "0s - loss: 0.4855 - acc: 0.8200 - val_loss: 1.2716 - val_acc: 0.6050\n",
      "Epoch 15/30\n",
      "0s - loss: 0.5466 - acc: 0.8300 - val_loss: 1.1916 - val_acc: 0.6075\n",
      "Epoch 16/30\n",
      "0s - loss: 0.4475 - acc: 0.9000 - val_loss: 1.1547 - val_acc: 0.6325\n",
      "Epoch 17/30\n",
      "0s - loss: 0.4479 - acc: 0.8700 - val_loss: 1.1061 - val_acc: 0.6550\n",
      "Epoch 18/30\n",
      "0s - loss: 0.4039 - acc: 0.9200 - val_loss: 1.0739 - val_acc: 0.6575\n",
      "Epoch 19/30\n",
      "0s - loss: 0.4540 - acc: 0.8800 - val_loss: 1.0583 - val_acc: 0.6550\n",
      "Epoch 20/30\n",
      "0s - loss: 0.4273 - acc: 0.8700 - val_loss: 1.0727 - val_acc: 0.6575\n",
      "Epoch 21/30\n",
      "0s - loss: 0.3179 - acc: 0.9100 - val_loss: 1.0832 - val_acc: 0.6400\n",
      "Epoch 22/30\n",
      "0s - loss: 0.3982 - acc: 0.9000 - val_loss: 1.0788 - val_acc: 0.6375\n",
      "Epoch 23/30\n",
      "0s - loss: 0.3695 - acc: 0.9000 - val_loss: 1.0763 - val_acc: 0.6350\n",
      "Epoch 24/30\n",
      "0s - loss: 0.3518 - acc: 0.9000 - val_loss: 1.0531 - val_acc: 0.6500\n",
      "Epoch 25/30\n",
      "0s - loss: 0.3882 - acc: 0.8900 - val_loss: 1.0096 - val_acc: 0.6550\n",
      "Epoch 26/30\n",
      "0s - loss: 0.3525 - acc: 0.8800 - val_loss: 1.0005 - val_acc: 0.6500\n",
      "Epoch 27/30\n",
      "0s - loss: 0.3082 - acc: 0.9500 - val_loss: 0.9901 - val_acc: 0.6600\n",
      "Epoch 28/30\n",
      "0s - loss: 0.3645 - acc: 0.8800 - val_loss: 0.9850 - val_acc: 0.6675\n",
      "Epoch 29/30\n",
      "0s - loss: 0.3235 - acc: 0.9000 - val_loss: 0.9599 - val_acc: 0.6875\n",
      "Epoch 30/30\n",
      "0s - loss: 0.2189 - acc: 0.9500 - val_loss: 0.9656 - val_acc: 0.6750\n"
     ]
    },
    {
     "data": {
      "text/plain": [
       "<keras.callbacks.History at 0x7f774aae4b70>"
      ]
     },
     "execution_count": 10,
     "metadata": {},
     "output_type": "execute_result"
    }
   ],
   "source": [
    "model.fit(representation_fc[0:100], y_test_fc[0:100], \n",
    "                  batch_size=12, \n",
    "                  epochs=30,\n",
    "                  verbose=2, \n",
    "                  validation_data=(representation_fc[100:500], y_test_fc[100:500]))"
   ]
  },
  {
   "cell_type": "code",
   "execution_count": 11,
   "metadata": {
    "collapsed": false,
    "deletable": true,
    "editable": true
   },
   "outputs": [],
   "source": [
    "preds=np.zeros([2000,10])\n",
    "for i in range(0,2000):\n",
    "    preds[i]=model.predict(representation_fc[i+500].reshape(1,representation_fc.shape[1]))\n",
    "    \n",
    "pred=np.zeros([2000])\n",
    "for i in range(0,2000):\n",
    "    pred[i]=np.argmax(preds[i])"
   ]
  },
  {
   "cell_type": "code",
   "execution_count": 12,
   "metadata": {
    "collapsed": false,
    "deletable": true,
    "editable": true
   },
   "outputs": [
    {
     "data": {
      "text/plain": [
       "0.65600000000000003"
      ]
     },
     "execution_count": 12,
     "metadata": {},
     "output_type": "execute_result"
    }
   ],
   "source": [
    "sum(pred==np.argmax(y_test_fc[500:2500],axis=1))/2000."
   ]
  },
  {
   "cell_type": "code",
   "execution_count": 13,
   "metadata": {
    "collapsed": false,
    "deletable": true,
    "editable": true
   },
   "outputs": [
    {
     "data": {
      "text/plain": [
       "array([[111,   0,  17,   1,   2,  23,  17,   0,   0,   6],\n",
       "       [  0, 211,   2,   1,   2,   0,   3,   0,   1,   0],\n",
       "       [ 16,  13, 144,  10,  11,   4,  15,   6,   2,   0],\n",
       "       [  2,  10,  11, 163,   1,   3,   1,  13,   0,   5],\n",
       "       [  0,   7,   1,   0, 166,   1,   5,   4,   0,  36],\n",
       "       [ 44,   0,   1,  24,   8,  62,   8,   5,   3,  16],\n",
       "       [  8,  11,   7,   0,   3,   6, 146,   0,   0,   1],\n",
       "       [  1,  22,   4,   0,   5,   0,   0, 158,   1,  17],\n",
       "       [ 29,  22,  11,  42,   1,  10,  13,   4,  33,  37],\n",
       "       [  2,  10,   0,   4,  24,   2,   2,  24,   4, 118]])"
      ]
     },
     "execution_count": 13,
     "metadata": {},
     "output_type": "execute_result"
    }
   ],
   "source": [
    "confusion_matrix(np.argmax(y_test_fc[500:2500],axis=1), pred)"
   ]
  },
  {
   "cell_type": "markdown",
   "metadata": {
    "deletable": true,
    "editable": true
   },
   "source": [
    "## fc denoising autoencoder features"
   ]
  },
  {
   "cell_type": "code",
   "execution_count": 14,
   "metadata": {
    "collapsed": true,
    "deletable": true,
    "editable": true
   },
   "outputs": [],
   "source": [
    "model = Sequential()\n",
    "name = 'fcd_classifier'\n",
    "\n",
    "model.add(Dense(200,activation='relu',input_dim=(representation_fcd.shape[1])))\n",
    "model.add(BatchNormalization())\n",
    "model.add(Dropout(0.4))\n",
    "model.add(Dense(10,activation='softmax'))\n",
    "\n",
    "model.compile(loss='categorical_crossentropy',\n",
    "              optimizer='adam',\n",
    "              metrics=['accuracy'])"
   ]
  },
  {
   "cell_type": "code",
   "execution_count": 15,
   "metadata": {
    "collapsed": false,
    "deletable": true,
    "editable": true
   },
   "outputs": [
    {
     "name": "stdout",
     "output_type": "stream",
     "text": [
      "Train on 100 samples, validate on 400 samples\n",
      "Epoch 1/30\n",
      "0s - loss: 2.8961 - acc: 0.1000 - val_loss: 3.4897 - val_acc: 0.1150\n",
      "Epoch 2/30\n",
      "0s - loss: 2.0933 - acc: 0.2700 - val_loss: 2.9578 - val_acc: 0.1850\n",
      "Epoch 3/30\n",
      "0s - loss: 1.7171 - acc: 0.4100 - val_loss: 2.4943 - val_acc: 0.2500\n",
      "Epoch 4/30\n",
      "0s - loss: 1.4878 - acc: 0.4900 - val_loss: 2.2550 - val_acc: 0.2775\n",
      "Epoch 5/30\n",
      "0s - loss: 1.3409 - acc: 0.5100 - val_loss: 2.1673 - val_acc: 0.3025\n",
      "Epoch 6/30\n",
      "0s - loss: 1.1744 - acc: 0.6200 - val_loss: 2.1555 - val_acc: 0.3325\n",
      "Epoch 7/30\n",
      "0s - loss: 1.0742 - acc: 0.6400 - val_loss: 2.1083 - val_acc: 0.3425\n",
      "Epoch 8/30\n",
      "0s - loss: 1.0206 - acc: 0.6600 - val_loss: 2.1122 - val_acc: 0.3525\n",
      "Epoch 9/30\n",
      "0s - loss: 0.8160 - acc: 0.7400 - val_loss: 2.0447 - val_acc: 0.3675\n",
      "Epoch 10/30\n",
      "0s - loss: 0.7576 - acc: 0.7500 - val_loss: 2.0146 - val_acc: 0.4050\n",
      "Epoch 11/30\n",
      "0s - loss: 0.8523 - acc: 0.6800 - val_loss: 1.9913 - val_acc: 0.4350\n",
      "Epoch 12/30\n",
      "0s - loss: 0.7494 - acc: 0.7000 - val_loss: 1.9156 - val_acc: 0.4525\n",
      "Epoch 13/30\n",
      "0s - loss: 0.7148 - acc: 0.7700 - val_loss: 1.8477 - val_acc: 0.4725\n",
      "Epoch 14/30\n",
      "0s - loss: 0.7221 - acc: 0.7800 - val_loss: 1.8540 - val_acc: 0.4900\n",
      "Epoch 15/30\n",
      "0s - loss: 0.6913 - acc: 0.7500 - val_loss: 1.8637 - val_acc: 0.4800\n",
      "Epoch 16/30\n",
      "0s - loss: 0.6170 - acc: 0.8300 - val_loss: 1.7940 - val_acc: 0.4850\n",
      "Epoch 17/30\n",
      "0s - loss: 0.6996 - acc: 0.7700 - val_loss: 1.7105 - val_acc: 0.4800\n",
      "Epoch 18/30\n",
      "0s - loss: 0.7674 - acc: 0.7300 - val_loss: 1.6566 - val_acc: 0.4975\n",
      "Epoch 19/30\n",
      "0s - loss: 0.6489 - acc: 0.7800 - val_loss: 1.6273 - val_acc: 0.5000\n",
      "Epoch 20/30\n",
      "0s - loss: 0.6110 - acc: 0.8100 - val_loss: 1.5660 - val_acc: 0.5025\n",
      "Epoch 21/30\n",
      "0s - loss: 0.5699 - acc: 0.7900 - val_loss: 1.5464 - val_acc: 0.5225\n",
      "Epoch 22/30\n",
      "0s - loss: 0.5624 - acc: 0.7900 - val_loss: 1.5135 - val_acc: 0.5475\n",
      "Epoch 23/30\n",
      "0s - loss: 0.5098 - acc: 0.8500 - val_loss: 1.5328 - val_acc: 0.5325\n",
      "Epoch 24/30\n",
      "0s - loss: 0.5100 - acc: 0.8300 - val_loss: 1.6142 - val_acc: 0.5350\n",
      "Epoch 25/30\n",
      "0s - loss: 0.4516 - acc: 0.8400 - val_loss: 1.6314 - val_acc: 0.5375\n",
      "Epoch 26/30\n",
      "0s - loss: 0.5060 - acc: 0.8300 - val_loss: 1.6138 - val_acc: 0.5150\n",
      "Epoch 27/30\n",
      "0s - loss: 0.5112 - acc: 0.8500 - val_loss: 1.5819 - val_acc: 0.5125\n",
      "Epoch 28/30\n",
      "0s - loss: 0.5108 - acc: 0.8100 - val_loss: 1.6023 - val_acc: 0.5150\n",
      "Epoch 29/30\n",
      "0s - loss: 0.5744 - acc: 0.7800 - val_loss: 1.6261 - val_acc: 0.5125\n",
      "Epoch 30/30\n",
      "0s - loss: 0.4283 - acc: 0.8400 - val_loss: 1.5797 - val_acc: 0.5175\n"
     ]
    },
    {
     "data": {
      "text/plain": [
       "<keras.callbacks.History at 0x7f77495da9b0>"
      ]
     },
     "execution_count": 15,
     "metadata": {},
     "output_type": "execute_result"
    }
   ],
   "source": [
    "model.fit(representation_fcd[0:100], y_test_fcd[0:100], \n",
    "                  batch_size=12, \n",
    "                  epochs=30,\n",
    "                  verbose=2, \n",
    "                  validation_data=(representation_fcd[100:500], y_test_fcd[100:500]))"
   ]
  },
  {
   "cell_type": "code",
   "execution_count": 16,
   "metadata": {
    "collapsed": true,
    "deletable": true,
    "editable": true
   },
   "outputs": [],
   "source": [
    "preds=np.zeros([2000,10])\n",
    "for i in range(0,2000):\n",
    "    preds[i]=model.predict(representation_fcd[i+500].reshape(1,representation_fcd.shape[1]))\n",
    "    \n",
    "pred=np.zeros([2000])\n",
    "for i in range(0,2000):\n",
    "    pred[i]=np.argmax(preds[i])"
   ]
  },
  {
   "cell_type": "code",
   "execution_count": 17,
   "metadata": {
    "collapsed": false,
    "deletable": true,
    "editable": true
   },
   "outputs": [
    {
     "data": {
      "text/plain": [
       "0.55549999999999999"
      ]
     },
     "execution_count": 17,
     "metadata": {},
     "output_type": "execute_result"
    }
   ],
   "source": [
    "sum(pred==np.argmax(y_test_fcd[500:2500],axis=1))/2000."
   ]
  },
  {
   "cell_type": "code",
   "execution_count": 18,
   "metadata": {
    "collapsed": false,
    "deletable": true,
    "editable": true
   },
   "outputs": [
    {
     "data": {
      "text/plain": [
       "array([[121,   0,   4,   7,   2,  20,  19,   2,   0,   2],\n",
       "       [  0, 202,   3,   7,   2,   2,   2,   0,   1,   1],\n",
       "       [  7,  26,  61,  66,   3,   3,  45,   7,   2,   1],\n",
       "       [  1,   8,   2, 186,   1,   0,   3,   7,   0,   1],\n",
       "       [  1,  11,   0,   9, 149,   1,  12,  12,   0,  25],\n",
       "       [ 13,   7,   0,  69,   8,  44,   4,  14,   2,  10],\n",
       "       [  2,  18,   3,   2,   5,  12, 139,   1,   0,   0],\n",
       "       [  1,  22,   4,   5,   4,   0,   0, 163,   0,   9],\n",
       "       [  1,  15,   1, 132,   2,  16,   3,   5,   3,  24],\n",
       "       [  1,  13,   0,  26,  46,   0,   5,  56,   0,  43]])"
      ]
     },
     "execution_count": 18,
     "metadata": {},
     "output_type": "execute_result"
    }
   ],
   "source": [
    "confusion_matrix(np.argmax(y_test_fcd[500:2500],axis=1), pred)"
   ]
  },
  {
   "cell_type": "markdown",
   "metadata": {
    "deletable": true,
    "editable": true
   },
   "source": [
    "## cnn autoencoder features"
   ]
  },
  {
   "cell_type": "code",
   "execution_count": 19,
   "metadata": {
    "collapsed": true,
    "deletable": true,
    "editable": true
   },
   "outputs": [],
   "source": [
    "model = Sequential()\n",
    "name = 'cnn_classifier'\n",
    "\n",
    "model.add(Dense(200,activation='relu',input_dim=(representation_cnn.shape[1])))\n",
    "model.add(BatchNormalization())\n",
    "model.add(Dropout(0.4))\n",
    "model.add(Dense(10,activation='softmax'))\n",
    "\n",
    "model.compile(loss='categorical_crossentropy',\n",
    "              optimizer='adam',\n",
    "              metrics=['accuracy'])"
   ]
  },
  {
   "cell_type": "code",
   "execution_count": 20,
   "metadata": {
    "collapsed": false,
    "deletable": true,
    "editable": true
   },
   "outputs": [
    {
     "name": "stdout",
     "output_type": "stream",
     "text": [
      "Train on 100 samples, validate on 400 samples\n",
      "Epoch 1/30\n",
      "0s - loss: 2.3016 - acc: 0.2800 - val_loss: 2.3508 - val_acc: 0.1825\n",
      "Epoch 2/30\n",
      "0s - loss: 1.2759 - acc: 0.5800 - val_loss: 2.1741 - val_acc: 0.2400\n",
      "Epoch 3/30\n",
      "0s - loss: 0.8405 - acc: 0.7200 - val_loss: 2.0978 - val_acc: 0.2750\n",
      "Epoch 4/30\n",
      "0s - loss: 0.6088 - acc: 0.7900 - val_loss: 1.8648 - val_acc: 0.3425\n",
      "Epoch 5/30\n",
      "0s - loss: 0.4283 - acc: 0.9200 - val_loss: 1.5951 - val_acc: 0.4475\n",
      "Epoch 6/30\n",
      "0s - loss: 0.3814 - acc: 0.8800 - val_loss: 1.3891 - val_acc: 0.5475\n",
      "Epoch 7/30\n",
      "0s - loss: 0.4141 - acc: 0.8900 - val_loss: 1.2563 - val_acc: 0.6000\n",
      "Epoch 8/30\n",
      "0s - loss: 0.2667 - acc: 0.9500 - val_loss: 1.2063 - val_acc: 0.6175\n",
      "Epoch 9/30\n",
      "0s - loss: 0.2332 - acc: 0.9300 - val_loss: 1.1733 - val_acc: 0.6325\n",
      "Epoch 10/30\n",
      "0s - loss: 0.2319 - acc: 0.9400 - val_loss: 1.1282 - val_acc: 0.6450\n",
      "Epoch 11/30\n",
      "0s - loss: 0.1913 - acc: 0.9700 - val_loss: 1.0841 - val_acc: 0.6550\n",
      "Epoch 12/30\n",
      "0s - loss: 0.1938 - acc: 0.9600 - val_loss: 1.0914 - val_acc: 0.6550\n",
      "Epoch 13/30\n",
      "0s - loss: 0.1496 - acc: 0.9900 - val_loss: 1.0775 - val_acc: 0.6525\n",
      "Epoch 14/30\n",
      "0s - loss: 0.1484 - acc: 0.9900 - val_loss: 1.0646 - val_acc: 0.6575\n",
      "Epoch 15/30\n",
      "0s - loss: 0.1990 - acc: 0.9600 - val_loss: 1.0252 - val_acc: 0.6775\n",
      "Epoch 16/30\n",
      "0s - loss: 0.1653 - acc: 0.9700 - val_loss: 0.9681 - val_acc: 0.7100\n",
      "Epoch 17/30\n",
      "0s - loss: 0.1425 - acc: 0.9700 - val_loss: 0.9197 - val_acc: 0.7000\n",
      "Epoch 18/30\n",
      "0s - loss: 0.1113 - acc: 0.9800 - val_loss: 0.8994 - val_acc: 0.6975\n",
      "Epoch 19/30\n",
      "0s - loss: 0.1187 - acc: 0.9800 - val_loss: 0.9030 - val_acc: 0.6925\n",
      "Epoch 20/30\n",
      "0s - loss: 0.0931 - acc: 1.0000 - val_loss: 0.9144 - val_acc: 0.6925\n",
      "Epoch 21/30\n",
      "0s - loss: 0.1096 - acc: 0.9900 - val_loss: 0.9248 - val_acc: 0.6800\n",
      "Epoch 22/30\n",
      "0s - loss: 0.0698 - acc: 1.0000 - val_loss: 0.9318 - val_acc: 0.6850\n",
      "Epoch 23/30\n",
      "0s - loss: 0.1056 - acc: 0.9800 - val_loss: 0.9402 - val_acc: 0.6900\n",
      "Epoch 24/30\n",
      "0s - loss: 0.1172 - acc: 0.9600 - val_loss: 0.9080 - val_acc: 0.7050\n",
      "Epoch 25/30\n",
      "0s - loss: 0.0870 - acc: 1.0000 - val_loss: 0.8747 - val_acc: 0.7200\n",
      "Epoch 26/30\n",
      "0s - loss: 0.0760 - acc: 0.9900 - val_loss: 0.8841 - val_acc: 0.7050\n",
      "Epoch 27/30\n",
      "0s - loss: 0.0670 - acc: 1.0000 - val_loss: 0.8870 - val_acc: 0.7075\n",
      "Epoch 28/30\n",
      "0s - loss: 0.0662 - acc: 1.0000 - val_loss: 0.8730 - val_acc: 0.7225\n",
      "Epoch 29/30\n",
      "0s - loss: 0.0611 - acc: 1.0000 - val_loss: 0.8785 - val_acc: 0.7200\n",
      "Epoch 30/30\n",
      "0s - loss: 0.0982 - acc: 1.0000 - val_loss: 0.8951 - val_acc: 0.7175\n"
     ]
    },
    {
     "data": {
      "text/plain": [
       "<keras.callbacks.History at 0x7f77490ca160>"
      ]
     },
     "execution_count": 20,
     "metadata": {},
     "output_type": "execute_result"
    }
   ],
   "source": [
    "model.fit(representation_cnn[0:100], y_test_cnn[0:100], \n",
    "                  batch_size=12, \n",
    "                  epochs=30,\n",
    "                  verbose=2, \n",
    "                  validation_data=(representation_cnn[100:500], y_test_cnn[100:500]))"
   ]
  },
  {
   "cell_type": "code",
   "execution_count": 21,
   "metadata": {
    "collapsed": true,
    "deletable": true,
    "editable": true
   },
   "outputs": [],
   "source": [
    "preds=np.zeros([2000,10])\n",
    "for i in range(0,2000):\n",
    "    preds[i]=model.predict(representation_cnn[i+500].reshape(1,representation_cnn.shape[1]))\n",
    "    \n",
    "pred=np.zeros([2000])\n",
    "for i in range(0,2000):\n",
    "    pred[i]=np.argmax(preds[i])"
   ]
  },
  {
   "cell_type": "code",
   "execution_count": 22,
   "metadata": {
    "collapsed": false,
    "deletable": true,
    "editable": true
   },
   "outputs": [
    {
     "data": {
      "text/plain": [
       "0.71599999999999997"
      ]
     },
     "execution_count": 22,
     "metadata": {},
     "output_type": "execute_result"
    }
   ],
   "source": [
    "sum(pred==np.argmax(y_test_cnn[500:2500],axis=1))/2000."
   ]
  },
  {
   "cell_type": "code",
   "execution_count": 23,
   "metadata": {
    "collapsed": false,
    "deletable": true,
    "editable": true
   },
   "outputs": [
    {
     "data": {
      "text/plain": [
       "array([[143,   0,   4,   0,  12,   8,   4,   0,   3,   3],\n",
       "       [  0, 203,  11,   1,   2,   1,   2,   0,   0,   0],\n",
       "       [  6,   4, 174,  13,   9,   1,   4,   6,   1,   3],\n",
       "       [  0,   6,   6, 169,   3,   3,   3,  10,   0,   9],\n",
       "       [  0,   1,   2,   0, 192,   0,   2,   0,   0,  23],\n",
       "       [  4,   3,   3,  29,  13,  66,  10,   7,  31,   5],\n",
       "       [  1,   3,   4,   0,  12,  13, 149,   0,   0,   0],\n",
       "       [  1,   9,   5,   0,  12,   0,   0, 143,   0,  38],\n",
       "       [  4,  13,  13,  39,  10,   5,   7,   5,  36,  70],\n",
       "       [  2,   2,   2,   5,  17,   1,   0,   4,   0, 157]])"
      ]
     },
     "execution_count": 23,
     "metadata": {},
     "output_type": "execute_result"
    }
   ],
   "source": [
    "confusion_matrix(np.argmax(y_test_cnn[500:2500],axis=1), pred)"
   ]
  },
  {
   "cell_type": "markdown",
   "metadata": {
    "deletable": true,
    "editable": true
   },
   "source": [
    "## cnn denoising autoencoder features"
   ]
  },
  {
   "cell_type": "code",
   "execution_count": 24,
   "metadata": {
    "collapsed": true,
    "deletable": true,
    "editable": true
   },
   "outputs": [],
   "source": [
    "model = Sequential()\n",
    "name = 'cnnd_classifier'\n",
    "\n",
    "model.add(Dense(200,activation='relu',input_dim=(representation_cnnd.shape[1])))\n",
    "model.add(BatchNormalization())\n",
    "model.add(Dropout(0.4))\n",
    "model.add(Dense(10,activation='softmax'))\n",
    "\n",
    "model.compile(loss='categorical_crossentropy',\n",
    "              optimizer='adam',\n",
    "              metrics=['accuracy'])"
   ]
  },
  {
   "cell_type": "code",
   "execution_count": 25,
   "metadata": {
    "collapsed": false,
    "deletable": true,
    "editable": true
   },
   "outputs": [
    {
     "name": "stdout",
     "output_type": "stream",
     "text": [
      "Train on 100 samples, validate on 400 samples\n",
      "Epoch 1/30\n",
      "0s - loss: 2.7531 - acc: 0.1500 - val_loss: 2.1715 - val_acc: 0.1650\n",
      "Epoch 2/30\n",
      "0s - loss: 1.3246 - acc: 0.5300 - val_loss: 2.0413 - val_acc: 0.2400\n",
      "Epoch 3/30\n",
      "0s - loss: 0.8480 - acc: 0.7400 - val_loss: 1.9260 - val_acc: 0.3050\n",
      "Epoch 4/30\n",
      "0s - loss: 0.5768 - acc: 0.8700 - val_loss: 1.8072 - val_acc: 0.4000\n",
      "Epoch 5/30\n",
      "0s - loss: 0.5336 - acc: 0.8400 - val_loss: 1.7262 - val_acc: 0.4525\n",
      "Epoch 6/30\n",
      "0s - loss: 0.4364 - acc: 0.8900 - val_loss: 1.6146 - val_acc: 0.4900\n",
      "Epoch 7/30\n",
      "0s - loss: 0.2882 - acc: 0.9400 - val_loss: 1.5240 - val_acc: 0.5300\n",
      "Epoch 8/30\n",
      "0s - loss: 0.2669 - acc: 0.9600 - val_loss: 1.4678 - val_acc: 0.5600\n",
      "Epoch 9/30\n",
      "0s - loss: 0.2308 - acc: 0.9500 - val_loss: 1.4351 - val_acc: 0.5600\n",
      "Epoch 10/30\n",
      "0s - loss: 0.1820 - acc: 0.9800 - val_loss: 1.4122 - val_acc: 0.5750\n",
      "Epoch 11/30\n",
      "0s - loss: 0.2482 - acc: 0.9300 - val_loss: 1.3755 - val_acc: 0.6000\n",
      "Epoch 12/30\n",
      "0s - loss: 0.2315 - acc: 0.9700 - val_loss: 1.3440 - val_acc: 0.6125\n",
      "Epoch 13/30\n",
      "0s - loss: 0.1590 - acc: 0.9900 - val_loss: 1.3230 - val_acc: 0.6250\n",
      "Epoch 14/30\n",
      "0s - loss: 0.1279 - acc: 0.9800 - val_loss: 1.3210 - val_acc: 0.6050\n",
      "Epoch 15/30\n",
      "0s - loss: 0.1113 - acc: 0.9900 - val_loss: 1.2881 - val_acc: 0.6200\n",
      "Epoch 16/30\n",
      "0s - loss: 0.0761 - acc: 1.0000 - val_loss: 1.2577 - val_acc: 0.6100\n",
      "Epoch 17/30\n",
      "0s - loss: 0.0999 - acc: 0.9900 - val_loss: 1.2229 - val_acc: 0.6175\n",
      "Epoch 18/30\n",
      "0s - loss: 0.0967 - acc: 0.9900 - val_loss: 1.1598 - val_acc: 0.6450\n",
      "Epoch 19/30\n",
      "0s - loss: 0.0807 - acc: 1.0000 - val_loss: 1.1511 - val_acc: 0.6525\n",
      "Epoch 20/30\n",
      "0s - loss: 0.0913 - acc: 0.9900 - val_loss: 1.1523 - val_acc: 0.6425\n",
      "Epoch 21/30\n",
      "0s - loss: 0.0871 - acc: 1.0000 - val_loss: 1.1651 - val_acc: 0.6300\n",
      "Epoch 22/30\n",
      "0s - loss: 0.0759 - acc: 0.9900 - val_loss: 1.1745 - val_acc: 0.6250\n",
      "Epoch 23/30\n",
      "0s - loss: 0.1107 - acc: 0.9700 - val_loss: 1.1566 - val_acc: 0.6300\n",
      "Epoch 24/30\n",
      "0s - loss: 0.0614 - acc: 1.0000 - val_loss: 1.1549 - val_acc: 0.6225\n",
      "Epoch 25/30\n",
      "0s - loss: 0.0921 - acc: 0.9900 - val_loss: 1.1435 - val_acc: 0.6325\n",
      "Epoch 26/30\n",
      "0s - loss: 0.0497 - acc: 1.0000 - val_loss: 1.1324 - val_acc: 0.6250\n",
      "Epoch 27/30\n",
      "0s - loss: 0.0762 - acc: 0.9900 - val_loss: 1.1524 - val_acc: 0.6325\n",
      "Epoch 28/30\n",
      "0s - loss: 0.0506 - acc: 1.0000 - val_loss: 1.1654 - val_acc: 0.6300\n",
      "Epoch 29/30\n",
      "0s - loss: 0.0422 - acc: 0.9900 - val_loss: 1.1578 - val_acc: 0.6325\n",
      "Epoch 30/30\n",
      "0s - loss: 0.0506 - acc: 1.0000 - val_loss: 1.1538 - val_acc: 0.6325\n"
     ]
    },
    {
     "data": {
      "text/plain": [
       "<keras.callbacks.History at 0x7f77487eb7f0>"
      ]
     },
     "execution_count": 25,
     "metadata": {},
     "output_type": "execute_result"
    }
   ],
   "source": [
    "model.fit(representation_cnnd[0:100], y_test_cnnd[0:100], \n",
    "                  batch_size=12, \n",
    "                  epochs=30,\n",
    "                  verbose=2, \n",
    "                  validation_data=(representation_cnnd[100:500], y_test_cnnd[100:500]))"
   ]
  },
  {
   "cell_type": "code",
   "execution_count": 26,
   "metadata": {
    "collapsed": true,
    "deletable": true,
    "editable": true
   },
   "outputs": [],
   "source": [
    "preds=np.zeros([2000,10])\n",
    "for i in range(0,2000):\n",
    "    preds[i]=model.predict(representation_cnnd[i+500].reshape(1,representation_cnnd.shape[1]))\n",
    "    \n",
    "pred=np.zeros([2000])\n",
    "for i in range(0,2000):\n",
    "    pred[i]=np.argmax(preds[i])"
   ]
  },
  {
   "cell_type": "code",
   "execution_count": 27,
   "metadata": {
    "collapsed": false,
    "deletable": true,
    "editable": true
   },
   "outputs": [
    {
     "data": {
      "text/plain": [
       "0.61599999999999999"
      ]
     },
     "execution_count": 27,
     "metadata": {},
     "output_type": "execute_result"
    }
   ],
   "source": [
    "sum(pred==np.argmax(y_test_cnnd[500:2500],axis=1))/2000."
   ]
  },
  {
   "cell_type": "code",
   "execution_count": 28,
   "metadata": {
    "collapsed": false,
    "deletable": true,
    "editable": true
   },
   "outputs": [
    {
     "data": {
      "text/plain": [
       "array([[134,   0,   7,   3,   3,   4,  20,   2,   0,   4],\n",
       "       [  0, 193,  13,   2,   3,   0,   3,   5,   0,   1],\n",
       "       [  9,   4, 152,  19,   6,   0,  14,  13,   0,   4],\n",
       "       [  1,  11,   8, 157,   2,   0,   2,  25,   0,   3],\n",
       "       [  0,   2,   7,   2, 148,   0,   4,   6,   0,  51],\n",
       "       [  7,   2,  11,  50,  23,  30,  15,  22,   0,  11],\n",
       "       [  2,   4,   9,   1,   8,   3, 152,   1,   0,   2],\n",
       "       [  3,  10,   9,   0,  13,   0,   1, 157,   0,  15],\n",
       "       [  8,  19,  32,  44,  13,   4,  15,  23,  11,  33],\n",
       "       [  5,   6,   4,   4,  36,   0,   0,  37,   0,  98]])"
      ]
     },
     "execution_count": 28,
     "metadata": {},
     "output_type": "execute_result"
    }
   ],
   "source": [
    "confusion_matrix(np.argmax(y_test_cnnd[500:2500],axis=1), pred)"
   ]
  },
  {
   "cell_type": "markdown",
   "metadata": {
    "deletable": true,
    "editable": true
   },
   "source": [
    "## vgg16 features"
   ]
  },
  {
   "cell_type": "code",
   "execution_count": 29,
   "metadata": {
    "collapsed": true,
    "deletable": true,
    "editable": true
   },
   "outputs": [],
   "source": [
    "model = Sequential()\n",
    "name = 'vgg_classifier'\n",
    "\n",
    "model.add(Dense(200,activation='relu',input_dim=(representation_vgg.shape[1])))\n",
    "model.add(BatchNormalization())\n",
    "model.add(Dropout(0.4))\n",
    "model.add(Dense(10,activation='softmax'))\n",
    "\n",
    "model.compile(loss='categorical_crossentropy',\n",
    "              optimizer='adam',\n",
    "              metrics=['accuracy'])"
   ]
  },
  {
   "cell_type": "code",
   "execution_count": 30,
   "metadata": {
    "collapsed": false,
    "deletable": true,
    "editable": true
   },
   "outputs": [
    {
     "name": "stdout",
     "output_type": "stream",
     "text": [
      "Train on 100 samples, validate on 400 samples\n",
      "Epoch 1/30\n",
      "0s - loss: 1.9974 - acc: 0.3700 - val_loss: 5.9962 - val_acc: 0.4450\n",
      "Epoch 2/30\n",
      "0s - loss: 0.4567 - acc: 0.9100 - val_loss: 3.2609 - val_acc: 0.5650\n",
      "Epoch 3/30\n",
      "0s - loss: 0.3917 - acc: 0.9100 - val_loss: 1.1588 - val_acc: 0.7325\n",
      "Epoch 4/30\n",
      "0s - loss: 0.2918 - acc: 0.9100 - val_loss: 1.1643 - val_acc: 0.6950\n",
      "Epoch 5/30\n",
      "0s - loss: 0.2308 - acc: 0.9700 - val_loss: 1.2293 - val_acc: 0.6750\n",
      "Epoch 6/30\n",
      "0s - loss: 0.1376 - acc: 1.0000 - val_loss: 1.2320 - val_acc: 0.6725\n",
      "Epoch 7/30\n",
      "0s - loss: 0.1185 - acc: 0.9900 - val_loss: 0.8928 - val_acc: 0.7375\n",
      "Epoch 8/30\n",
      "0s - loss: 0.1019 - acc: 1.0000 - val_loss: 0.7341 - val_acc: 0.7725\n",
      "Epoch 9/30\n",
      "0s - loss: 0.0883 - acc: 1.0000 - val_loss: 0.6485 - val_acc: 0.7900\n",
      "Epoch 10/30\n",
      "0s - loss: 0.1004 - acc: 0.9800 - val_loss: 0.5937 - val_acc: 0.8075\n",
      "Epoch 11/30\n",
      "0s - loss: 0.0745 - acc: 1.0000 - val_loss: 0.6065 - val_acc: 0.8000\n",
      "Epoch 12/30\n",
      "0s - loss: 0.0895 - acc: 0.9800 - val_loss: 0.6172 - val_acc: 0.8050\n",
      "Epoch 13/30\n",
      "0s - loss: 0.0631 - acc: 0.9900 - val_loss: 0.6233 - val_acc: 0.8075\n",
      "Epoch 14/30\n",
      "0s - loss: 0.0530 - acc: 1.0000 - val_loss: 0.6340 - val_acc: 0.8150\n",
      "Epoch 15/30\n",
      "0s - loss: 0.0804 - acc: 1.0000 - val_loss: 0.6508 - val_acc: 0.7900\n",
      "Epoch 16/30\n",
      "0s - loss: 0.0582 - acc: 1.0000 - val_loss: 0.6931 - val_acc: 0.7975\n",
      "Epoch 17/30\n",
      "0s - loss: 0.0581 - acc: 1.0000 - val_loss: 0.5861 - val_acc: 0.8250\n",
      "Epoch 18/30\n",
      "0s - loss: 0.0317 - acc: 1.0000 - val_loss: 0.5798 - val_acc: 0.8050\n",
      "Epoch 19/30\n",
      "0s - loss: 0.0480 - acc: 1.0000 - val_loss: 0.5226 - val_acc: 0.8225\n",
      "Epoch 20/30\n",
      "0s - loss: 0.0609 - acc: 1.0000 - val_loss: 0.4562 - val_acc: 0.8575\n",
      "Epoch 21/30\n",
      "0s - loss: 0.0762 - acc: 0.9900 - val_loss: 0.4552 - val_acc: 0.8600\n",
      "Epoch 22/30\n",
      "0s - loss: 0.0499 - acc: 0.9900 - val_loss: 0.4276 - val_acc: 0.8550\n",
      "Epoch 23/30\n",
      "0s - loss: 0.0300 - acc: 1.0000 - val_loss: 0.4083 - val_acc: 0.8875\n",
      "Epoch 24/30\n",
      "0s - loss: 0.0353 - acc: 1.0000 - val_loss: 0.3971 - val_acc: 0.8800\n",
      "Epoch 25/30\n",
      "0s - loss: 0.0300 - acc: 1.0000 - val_loss: 0.3927 - val_acc: 0.8875\n",
      "Epoch 26/30\n",
      "0s - loss: 0.0269 - acc: 1.0000 - val_loss: 0.4077 - val_acc: 0.8775\n",
      "Epoch 27/30\n",
      "0s - loss: 0.0534 - acc: 1.0000 - val_loss: 0.4059 - val_acc: 0.8725\n",
      "Epoch 28/30\n",
      "0s - loss: 0.0215 - acc: 1.0000 - val_loss: 0.4400 - val_acc: 0.8550\n",
      "Epoch 29/30\n",
      "0s - loss: 0.0191 - acc: 1.0000 - val_loss: 0.4526 - val_acc: 0.8600\n",
      "Epoch 30/30\n",
      "0s - loss: 0.0315 - acc: 1.0000 - val_loss: 0.4292 - val_acc: 0.8475\n"
     ]
    },
    {
     "data": {
      "text/plain": [
       "<keras.callbacks.History at 0x7f77480df198>"
      ]
     },
     "execution_count": 30,
     "metadata": {},
     "output_type": "execute_result"
    }
   ],
   "source": [
    "model.fit(representation_vgg[0:100], y_test_vgg[0:100], \n",
    "                  batch_size=12, \n",
    "                  epochs=30,\n",
    "                  verbose=2, \n",
    "                  validation_data=(representation_vgg[100:500], y_test_vgg[100:500]))"
   ]
  },
  {
   "cell_type": "code",
   "execution_count": 31,
   "metadata": {
    "collapsed": true,
    "deletable": true,
    "editable": true
   },
   "outputs": [],
   "source": [
    "preds=np.zeros([2000,10])\n",
    "for i in range(0,2000):\n",
    "    preds[i]=model.predict(representation_vgg[i+500].reshape(1,representation_vgg.shape[1]))\n",
    "    \n",
    "pred=np.zeros([2000])\n",
    "for i in range(0,2000):\n",
    "    pred[i]=np.argmax(preds[i])"
   ]
  },
  {
   "cell_type": "code",
   "execution_count": 32,
   "metadata": {
    "collapsed": false,
    "deletable": true,
    "editable": true
   },
   "outputs": [
    {
     "data": {
      "text/plain": [
       "0.85150000000000003"
      ]
     },
     "execution_count": 32,
     "metadata": {},
     "output_type": "execute_result"
    }
   ],
   "source": [
    "sum(pred==np.argmax(y_test_vgg[500:2500],axis=1))/2000."
   ]
  },
  {
   "cell_type": "code",
   "execution_count": 33,
   "metadata": {
    "collapsed": false,
    "deletable": true,
    "editable": true
   },
   "outputs": [
    {
     "data": {
      "text/plain": [
       "array([[166,   1,   0,   2,   0,   1,   5,   1,   0,   1],\n",
       "       [  0, 214,   0,   1,   3,   0,   0,   2,   0,   0],\n",
       "       [ 10,   0, 173,  16,   1,   2,   2,  13,   2,   2],\n",
       "       [  0,   0,   0, 199,   0,   5,   0,   4,   0,   1],\n",
       "       [  0,   5,   3,   0, 205,   0,   0,   3,   1,   3],\n",
       "       [  3,   0,   0,  41,   4, 107,   4,  11,   0,   1],\n",
       "       [ 12,   0,   0,   1,   7,   3, 157,   0,   0,   2],\n",
       "       [  1,   2,   3,   3,   2,   0,   0, 195,   0,   2],\n",
       "       [  2,   0,  16,  36,   4,   0,   2,   3, 115,  24],\n",
       "       [  6,   1,   2,   3,   5,   0,   0,   1,   0, 172]])"
      ]
     },
     "execution_count": 33,
     "metadata": {},
     "output_type": "execute_result"
    }
   ],
   "source": [
    "confusion_matrix(np.argmax(y_test_vgg[500:2500],axis=1), pred)"
   ]
  },
  {
   "cell_type": "code",
   "execution_count": null,
   "metadata": {
    "collapsed": true,
    "deletable": true,
    "editable": true
   },
   "outputs": [],
   "source": []
  }
 ],
 "metadata": {
  "kernelspec": {
   "display_name": "Python 3",
   "language": "python",
   "name": "python3"
  },
  "language_info": {
   "codemirror_mode": {
    "name": "ipython",
    "version": 3
   },
   "file_extension": ".py",
   "mimetype": "text/x-python",
   "name": "python",
   "nbconvert_exporter": "python",
   "pygments_lexer": "ipython3",
   "version": "3.4.3"
  }
 },
 "nbformat": 4,
 "nbformat_minor": 0
}
