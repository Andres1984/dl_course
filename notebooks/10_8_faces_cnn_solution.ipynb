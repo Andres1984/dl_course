{
 "cells": [
  {
   "cell_type": "markdown",
   "metadata": {
    "deletable": true,
    "editable": true
   },
   "source": [
    "## Classification on 8 celebrities\n",
    "\n",
    "In this notebook we try to classify images of : \"Miranda_Cosgrove\" \"Chris_Martin\" \"Emma_Stone\" \"Jamie_Foxx\" \"Steve_Jobs\" \"Zac_Efron\" \"Sandra_Oh\" \"Taryn_Manning\". There are 350 images of each celebrity, we use 250 for traning and 50 for validation and test."
   ]
  },
  {
   "cell_type": "code",
   "execution_count": 1,
   "metadata": {
    "collapsed": true,
    "deletable": true,
    "editable": true
   },
   "outputs": [],
   "source": [
    "import gzip\n",
    "import numpy as np\n",
    "import matplotlib.pyplot as plt\n",
    "import matplotlib.image as imgplot\n",
    "import time\n",
    "%matplotlib inline\n",
    "import h5py"
   ]
  },
  {
   "cell_type": "markdown",
   "metadata": {
    "deletable": true,
    "editable": true
   },
   "source": [
    "Reading in the data, it is already prepared in a train, validation and testset. The class labels are form 0 to 7. The pixelsize of every image is 48x48 and we have 3 channels (RGB) per image. All 3 sets are balanced."
   ]
  },
  {
   "cell_type": "code",
   "execution_count": 2,
   "metadata": {
    "collapsed": false
   },
   "outputs": [
    {
     "name": "stdout",
     "output_type": "stream",
     "text": [
      "-rw-r--r-- 1 root root 148M Apr 13 09:16 Data_8_faces_no_cut.hdf5\r\n"
     ]
    }
   ],
   "source": [
    "# Downloading the data, if it does not exist, this could take some time... (148MB)\n",
    "import urllib\n",
    "import os\n",
    "if not os.path.isfile('Data_8_faces_no_cut.hdf5'):\n",
    "    urllib.request.urlretrieve(\n",
    "    \"https://www.dropbox.com/s/l0ck0xddlaazhb9/Data_8_faces_no_cut.hdf5?dl=1\",\n",
    "    \"Data_8_faces_no_cut.hdf5\")\n",
    "%ls -hl Data_8_faces_no_cut.hdf5"
   ]
  },
  {
   "cell_type": "code",
   "execution_count": 3,
   "metadata": {
    "collapsed": false,
    "deletable": true,
    "editable": true
   },
   "outputs": [
    {
     "name": "stdout",
     "output_type": "stream",
     "text": [
      "['X_test_8_faces', 'X_train_8_faces', 'X_valid_8_faces', 'Y_test_8_faces', 'Y_train_8_faces', 'Y_valid_8_faces']\n",
      "(2000, 48, 48, 3)\n",
      "(2000,)\n",
      "(400, 48, 48, 3)\n",
      "(400,)\n"
     ]
    }
   ],
   "source": [
    "h5f_X = h5py.File('Data_8_faces_no_cut.hdf5', 'r')\n",
    "print(list(h5f_X.keys()))\n",
    "X_train = h5f_X['X_train_8_faces']\n",
    "print(X_train.shape)\n",
    "Y_train = h5f_X['Y_train_8_faces']\n",
    "print(Y_train.shape)\n",
    "X_valid = h5f_X['X_valid_8_faces']\n",
    "print(X_valid.shape)\n",
    "Y_valid = h5f_X['Y_valid_8_faces']\n",
    "print(Y_valid.shape)"
   ]
  },
  {
   "cell_type": "code",
   "execution_count": 4,
   "metadata": {
    "collapsed": false,
    "deletable": true,
    "editable": true
   },
   "outputs": [
    {
     "data": {
      "text/plain": [
       "(array([ 250.,  250.,  250.,  250.,  250.,  250.,  250.,  250.]),\n",
       " array([ 0.   ,  0.875,  1.75 ,  2.625,  3.5  ,  4.375,  5.25 ,  6.125,  7.   ]),\n",
       " <a list of 8 Patch objects>)"
      ]
     },
     "execution_count": 4,
     "metadata": {},
     "output_type": "execute_result"
    },
    {
     "data": {
      "image/png": "[encoded data removed]",
      "text/plain": [
       "<matplotlib.figure.Figure at 0x7f3bf804b748>"
      ]
     },
     "metadata": {},
     "output_type": "display_data"
    }
   ],
   "source": [
    "plt.hist(Y_train,bins=8)"
   ]
  },
  {
   "cell_type": "code",
   "execution_count": 5,
   "metadata": {
    "collapsed": false,
    "deletable": true,
    "editable": true
   },
   "outputs": [
    {
     "data": {
      "text/plain": [
       "(array([ 50.,  50.,  50.,  50.,  50.,  50.,  50.,  50.]),\n",
       " array([ 0.   ,  0.875,  1.75 ,  2.625,  3.5  ,  4.375,  5.25 ,  6.125,  7.   ]),\n",
       " <a list of 8 Patch objects>)"
      ]
     },
     "execution_count": 5,
     "metadata": {},
     "output_type": "execute_result"
    },
    {
     "data": {
      "image/png": "[encoded data removed]",
      "text/plain": [
       "<matplotlib.figure.Figure at 0x7f3bd0519668>"
      ]
     },
     "metadata": {},
     "output_type": "display_data"
    }
   ],
   "source": [
    "plt.hist(Y_valid,bins=8)"
   ]
  },
  {
   "cell_type": "markdown",
   "metadata": {
    "deletable": true,
    "editable": true
   },
   "source": [
    "How hard is this task? Lets plot some random image of the trainset to get an impression of the images and of  the task. "
   ]
  },
  {
   "cell_type": "code",
   "execution_count": 6,
   "metadata": {
    "collapsed": false,
    "deletable": true,
    "editable": true
   },
   "outputs": [
    {
     "data": {
      "text/plain": [
       "<matplotlib.image.AxesImage at 0x7f3bd04184e0>"
      ]
     },
     "execution_count": 6,
     "metadata": {},
     "output_type": "execute_result"
    },
    {
     "data": {
      "image/png": "[encoded data removed]",
      "text/plain": [
       "<matplotlib.figure.Figure at 0x7f3bd0556518>"
      ]
     },
     "metadata": {},
     "output_type": "display_data"
    }
   ],
   "source": [
    "np.random.seed(seed=42)\n",
    "rmd=np.random.randint(0,len(X_train))\n",
    "plt.imshow(np.asarray(X_train[rmd],dtype=\"uint8\"),interpolation=\"bicubic\")"
   ]
  },
  {
   "cell_type": "markdown",
   "metadata": {
    "deletable": true,
    "editable": true
   },
   "source": [
    "#### Normalization of the training and validationset."
   ]
  },
  {
   "cell_type": "code",
   "execution_count": 7,
   "metadata": {
    "collapsed": false,
    "deletable": true,
    "editable": true
   },
   "outputs": [],
   "source": [
    "X_mean = np.mean( X_train, axis = 0)\n",
    "X_std = np.std( X_train, axis = 0)\n",
    "\n",
    "X_train = (X_train - X_mean ) / (X_std + 0.0001)\n",
    "X_valid = (X_valid - X_mean ) / (X_std + 0.0001)"
   ]
  },
  {
   "cell_type": "code",
   "execution_count": 8,
   "metadata": {
    "collapsed": false,
    "deletable": true,
    "editable": true
   },
   "outputs": [
    {
     "name": "stderr",
     "output_type": "stream",
     "text": [
      "Using TensorFlow backend.\n"
     ]
    }
   ],
   "source": [
    "import keras\n",
    "from keras.datasets import mnist\n",
    "from keras.models import Sequential\n",
    "from keras.layers import Dense, Dropout, Activation, Flatten\n",
    "from keras.layers import Convolution2D, MaxPooling2D\n",
    "from keras.utils import np_utils\n",
    "from keras import backend as K\n",
    "from keras.layers.normalization import BatchNormalization"
   ]
  },
  {
   "cell_type": "markdown",
   "metadata": {
    "deletable": true,
    "editable": true
   },
   "source": [
    "Define the convertToOneHot function and convert the labels into the onehot encoding."
   ]
  },
  {
   "cell_type": "code",
   "execution_count": 9,
   "metadata": {
    "collapsed": true,
    "deletable": true,
    "editable": true
   },
   "outputs": [],
   "source": [
    "def convertToOneHot(vector, num_classes=None):\n",
    "    result = np.zeros((len(vector), num_classes), dtype='int32')\n",
    "    result[np.arange(len(vector)), vector] = 1\n",
    "    return result"
   ]
  },
  {
   "cell_type": "code",
   "execution_count": 10,
   "metadata": {
    "collapsed": false,
    "deletable": true,
    "editable": true
   },
   "outputs": [],
   "source": [
    "Y_train=convertToOneHot(Y_train,num_classes=8)\n",
    "Y_valid=convertToOneHot(Y_valid,num_classes=8)"
   ]
  },
  {
   "cell_type": "code",
   "execution_count": 11,
   "metadata": {
    "collapsed": false,
    "deletable": true,
    "editable": true
   },
   "outputs": [],
   "source": [
    "batch_size = 128\n",
    "nb_classes = 8\n",
    "nb_epoch = 50\n",
    "img_rows, img_cols = 48, 48\n",
    "kernel_size = (3, 3)\n",
    "input_shape = (img_rows, img_cols, 3)\n",
    "pool_size = (2, 2)"
   ]
  },
  {
   "cell_type": "code",
   "execution_count": 12,
   "metadata": {
    "collapsed": false,
    "deletable": true,
    "editable": true
   },
   "outputs": [
    {
     "name": "stdout",
     "output_type": "stream",
     "text": [
      "[0 0 0 1 0 0 0 0]\n",
      "[0 0 0 0 0 1 0 0]\n"
     ]
    }
   ],
   "source": [
    "print(Y_train[1])\n",
    "print(Y_valid[1])"
   ]
  },
  {
   "cell_type": "code",
   "execution_count": 13,
   "metadata": {
    "collapsed": false,
    "deletable": true,
    "editable": true
   },
   "outputs": [
    {
     "name": "stdout",
     "output_type": "stream",
     "text": [
      "(2000, 48, 48, 3)\n",
      "(400, 48, 48, 3)\n"
     ]
    }
   ],
   "source": [
    "print(X_train.shape)\n",
    "print(X_valid.shape)"
   ]
  },
  {
   "cell_type": "markdown",
   "metadata": {
    "deletable": true,
    "editable": true
   },
   "source": [
    "### Define the network"
   ]
  },
  {
   "cell_type": "code",
   "execution_count": 14,
   "metadata": {
    "collapsed": false,
    "deletable": true,
    "editable": true
   },
   "outputs": [],
   "source": [
    "model = Sequential()\n",
    "name = 'cnn'\n",
    "\n",
    "model.add(Convolution2D(32, (kernel_size[0], kernel_size[1]),kernel_initializer='he_normal',\n",
    "                        padding='same',\n",
    "                        input_shape=input_shape))\n",
    "model.add(Activation('relu'))\n",
    "model.add(Convolution2D(32, (kernel_size[0], kernel_size[1]),kernel_initializer='he_normal',padding='same'))\n",
    "model.add(Activation('relu'))\n",
    "model.add(MaxPooling2D(pool_size=pool_size))\n",
    "\n",
    "model.add(Convolution2D(64, (kernel_size[0], kernel_size[1]),kernel_initializer='he_normal',padding='same'))\n",
    "model.add(Activation('relu'))\n",
    "model.add(Convolution2D(64, (kernel_size[0], kernel_size[1]),kernel_initializer='he_normal',padding='same'))\n",
    "model.add(Activation('relu'))\n",
    "model.add(MaxPooling2D(pool_size=pool_size))\n",
    "\n",
    "model.add(Flatten())#macht einen vektor aus dem output\n",
    "model.add(Dense(200,kernel_initializer='he_normal'))\n",
    "model.add(Activation('relu'))\n",
    "model.add(Dense(nb_classes,kernel_initializer='he_normal'))\n",
    "model.add(Activation('softmax'))\n",
    "\n",
    "model.compile(loss='categorical_crossentropy',\n",
    "              optimizer='adam',\n",
    "              metrics=['accuracy'])"
   ]
  },
  {
   "cell_type": "code",
   "execution_count": 15,
   "metadata": {
    "collapsed": false,
    "deletable": true,
    "editable": true
   },
   "outputs": [],
   "source": [
    "model = Sequential()\n",
    "name = 'cnn_dropout'\n",
    "\n",
    "model.add(Convolution2D(32, (kernel_size[0], kernel_size[1]),kernel_initializer='he_normal',\n",
    "                        padding='same',\n",
    "                        input_shape=input_shape))\n",
    "model.add(Activation('relu'))\n",
    "model.add(Convolution2D(32, (kernel_size[0], kernel_size[1]),kernel_initializer='he_normal',padding='same'))\n",
    "model.add(Activation('relu'))\n",
    "model.add(MaxPooling2D(pool_size=pool_size))\n",
    "model.add(Dropout(0.3))\n",
    "\n",
    "model.add(Convolution2D(64, (kernel_size[0], kernel_size[1]),kernel_initializer='he_normal',padding='same'))\n",
    "model.add(Activation('relu'))\n",
    "model.add(Convolution2D(64, (kernel_size[0], kernel_size[1]),kernel_initializer='he_normal',padding='same'))\n",
    "model.add(Activation('relu'))\n",
    "model.add(MaxPooling2D(pool_size=pool_size))\n",
    "model.add(Dropout(0.3))\n",
    "\n",
    "model.add(Flatten())#macht einen vektor aus dem output\n",
    "model.add(Dense(200,kernel_initializer='he_normal'))\n",
    "model.add(Activation('relu'))\n",
    "model.add(Dropout(0.3))\n",
    "model.add(Dense(nb_classes,kernel_initializer='he_normal'))\n",
    "model.add(Activation('softmax'))\n",
    "\n",
    "model.compile(loss='categorical_crossentropy',\n",
    "              optimizer='adam',\n",
    "              metrics=['accuracy'])"
   ]
  },
  {
   "cell_type": "code",
   "execution_count": 16,
   "metadata": {
    "collapsed": false,
    "deletable": true,
    "editable": true
   },
   "outputs": [],
   "source": [
    "model = Sequential()\n",
    "name = 'cnn_dropout_batchnorm'\n",
    "\n",
    "model.add(Convolution2D(32, (kernel_size[0], kernel_size[1]),kernel_initializer='he_normal',\n",
    "                        padding='same',\n",
    "                        input_shape=input_shape))\n",
    "model.add(BatchNormalization())\n",
    "model.add(Activation('relu'))\n",
    "model.add(Convolution2D(32, (kernel_size[0], kernel_size[1]),kernel_initializer='he_normal',padding='same'))\n",
    "model.add(BatchNormalization())\n",
    "model.add(Activation('relu'))\n",
    "model.add(MaxPooling2D(pool_size=pool_size))\n",
    "model.add(Dropout(0.3))\n",
    "\n",
    "model.add(Convolution2D(64, (kernel_size[0], kernel_size[1]),kernel_initializer='he_normal',padding='same'))\n",
    "model.add(BatchNormalization())\n",
    "model.add(Activation('relu'))\n",
    "model.add(Convolution2D(64, (kernel_size[0], kernel_size[1]),kernel_initializer='he_normal',padding='same'))\n",
    "model.add(BatchNormalization())\n",
    "model.add(Activation('relu'))\n",
    "model.add(MaxPooling2D(pool_size=pool_size))\n",
    "model.add(Dropout(0.3))\n",
    "\n",
    "model.add(Flatten())#macht einen vektor aus dem output\n",
    "model.add(Dense(200,kernel_initializer='he_normal'))\n",
    "model.add(BatchNormalization())\n",
    "model.add(Activation('relu'))\n",
    "model.add(Dropout(0.3))\n",
    "model.add(Dense(nb_classes,kernel_initializer='he_normal'))\n",
    "model.add(Activation('softmax'))\n",
    "\n",
    "model.compile(loss='categorical_crossentropy',\n",
    "              optimizer='adam',\n",
    "              metrics=['accuracy'])"
   ]
  },
  {
   "cell_type": "code",
   "execution_count": 17,
   "metadata": {
    "collapsed": false,
    "deletable": true,
    "editable": true
   },
   "outputs": [
    {
     "name": "stdout",
     "output_type": "stream",
     "text": [
      "_________________________________________________________________\n",
      "Layer (type)                 Output Shape              Param #   \n",
      "=================================================================\n",
      "conv2d_9 (Conv2D)            (None, 48, 48, 32)        896       \n",
      "_________________________________________________________________\n",
      "batch_normalization_1 (Batch (None, 48, 48, 32)        128       \n",
      "_________________________________________________________________\n",
      "activation_13 (Activation)   (None, 48, 48, 32)        0         \n",
      "_________________________________________________________________\n",
      "conv2d_10 (Conv2D)           (None, 48, 48, 32)        9248      \n",
      "_________________________________________________________________\n",
      "batch_normalization_2 (Batch (None, 48, 48, 32)        128       \n",
      "_________________________________________________________________\n",
      "activation_14 (Activation)   (None, 48, 48, 32)        0         \n",
      "_________________________________________________________________\n",
      "max_pooling2d_5 (MaxPooling2 (None, 24, 24, 32)        0         \n",
      "_________________________________________________________________\n",
      "dropout_4 (Dropout)          (None, 24, 24, 32)        0         \n",
      "_________________________________________________________________\n",
      "conv2d_11 (Conv2D)           (None, 24, 24, 64)        18496     \n",
      "_________________________________________________________________\n",
      "batch_normalization_3 (Batch (None, 24, 24, 64)        256       \n",
      "_________________________________________________________________\n",
      "activation_15 (Activation)   (None, 24, 24, 64)        0         \n",
      "_________________________________________________________________\n",
      "conv2d_12 (Conv2D)           (None, 24, 24, 64)        36928     \n",
      "_________________________________________________________________\n",
      "batch_normalization_4 (Batch (None, 24, 24, 64)        256       \n",
      "_________________________________________________________________\n",
      "activation_16 (Activation)   (None, 24, 24, 64)        0         \n",
      "_________________________________________________________________\n",
      "max_pooling2d_6 (MaxPooling2 (None, 12, 12, 64)        0         \n",
      "_________________________________________________________________\n",
      "dropout_5 (Dropout)          (None, 12, 12, 64)        0         \n",
      "_________________________________________________________________\n",
      "flatten_3 (Flatten)          (None, 9216)              0         \n",
      "_________________________________________________________________\n",
      "dense_5 (Dense)              (None, 200)               1843400   \n",
      "_________________________________________________________________\n",
      "batch_normalization_5 (Batch (None, 200)               800       \n",
      "_________________________________________________________________\n",
      "activation_17 (Activation)   (None, 200)               0         \n",
      "_________________________________________________________________\n",
      "dropout_6 (Dropout)          (None, 200)               0         \n",
      "_________________________________________________________________\n",
      "dense_6 (Dense)              (None, 8)                 1608      \n",
      "_________________________________________________________________\n",
      "activation_18 (Activation)   (None, 8)                 0         \n",
      "=================================================================\n",
      "Total params: 1,912,144.0\n",
      "Trainable params: 1,911,360.0\n",
      "Non-trainable params: 784.0\n",
      "_________________________________________________________________\n"
     ]
    }
   ],
   "source": [
    "model.summary()"
   ]
  },
  {
   "cell_type": "markdown",
   "metadata": {
    "deletable": true,
    "editable": true
   },
   "source": [
    "### Running a forward pass of the untrained network"
   ]
  },
  {
   "cell_type": "code",
   "execution_count": 18,
   "metadata": {
    "collapsed": false,
    "deletable": true,
    "editable": true
   },
   "outputs": [
    {
     "name": "stdout",
     "output_type": "stream",
     "text": [
      "300/300 [==============================] - 8s      \b\b\b\b\b\b\b\b\b\b\b\b\b\b\b\b\b\b\b\b\b\b\b\b\b\b\b\b\b\b\b\b\b\b\b\b\b\b\b\b\b\b\b\b\b\b\b\b\b\b\b\b\b\b\b\b\b\b\b\b\b\b\b\b\b\b\b\b\b\b\b\b\b\b\b\b\b\b\b\b\b\b\b\b\b\b\b\b\b\b\b\b\b\b\b\b\b\b\b\b\b\b\b\b\b\b\b\b\b\b\b\b\b\b\b\b\b\b\b\b\b\b\b\b\b\b\b\b\b\b\b\b\b\b\b\b\b\b\b\b\b\b\b\b\b\b\b\b\b\b\b\b\b\b\b\b\b\b\b\b\b\b\b\b\b\b\b\b\b\b\b\b\b\b\b\b\b\b\b\b\b\b\b\b\b\b\b\b\b\b\b\b\b\b\b\b\b\b\b\b\b\b\b\b\b\b\b\b\b\b\b\b\b\b\b\b\b\b\b\b\b\b\b\b\b\b\b\b\b\b\b\b\b\b\b\b\b\b\b\b\b\b\b\b\b\b\b\b\b\b\b\b\b\b\b\b\b\b\b\b\b\b\b\b\b\b\b\b\b\b\b\b\b\b\b\b\b\b\b\b\b\b\b\b\b\b\b\b\b\b\b\b\b\b\b\b\b\b\b\b\b\b\b\b\b\b\b\b\b\b\b\b\b\b\b\b\b\b\b\b\b\b\b\b\b\b\b\b\b\b\b\b\b\b\b\b\b\b\b\b\b\b\b\b\b\b\b\b\b\b\b\b\b\b\b\b\b\b\b\b\b\b\b\b\b\b\b\b\b\b\b\b\b\b\b\b\b\b\b\b\b\b\b\b\b\b\b\b\b\b\b\b\b\b\b\b\b\b\b\b\b\b\b\b\b\b\b\b\b\b\b\b\b\b\b\b\b\b\b\b\b\b\b\b\b\b\b\b\b\b\b\b\b\b\b\b\b\b\b\b\b\b\b\b\b\b\b\b\b\b\b\n"
     ]
    },
    {
     "data": {
      "text/plain": [
       "[2.9587639204661049, 0.096666666666666665]"
      ]
     },
     "execution_count": 18,
     "metadata": {},
     "output_type": "execute_result"
    }
   ],
   "source": [
    "model.evaluate(X_train[0:300],Y_train[0:300])"
   ]
  },
  {
   "cell_type": "code",
   "execution_count": 19,
   "metadata": {
    "collapsed": false,
    "deletable": true,
    "editable": true
   },
   "outputs": [
    {
     "data": {
      "text/plain": [
       "2.0794415416798357"
      ]
     },
     "execution_count": 19,
     "metadata": {},
     "output_type": "execute_result"
    }
   ],
   "source": [
    "-np.log(1/8.)"
   ]
  },
  {
   "cell_type": "code",
   "execution_count": 20,
   "metadata": {
    "collapsed": false,
    "deletable": true,
    "editable": true
   },
   "outputs": [
    {
     "data": {
      "text/plain": [
       "array([[ 0.02700992,  0.12098762,  0.05470027,  0.05319156,  0.09923304,\n",
       "         0.03592772,  0.13450156,  0.47444826]], dtype=float32)"
      ]
     },
     "execution_count": 20,
     "metadata": {},
     "output_type": "execute_result"
    }
   ],
   "source": [
    "model.predict(X_train[0].reshape(1,48,48,3))"
   ]
  },
  {
   "cell_type": "code",
   "execution_count": 21,
   "metadata": {
    "collapsed": false,
    "deletable": true,
    "editable": true
   },
   "outputs": [],
   "source": [
    "tensorboard = keras.callbacks.TensorBoard(\n",
    "        log_dir='tensorboard/8_faces/' + name + '/', \n",
    "        write_graph=True,\n",
    "        histogram_freq=1)"
   ]
  },
  {
   "cell_type": "markdown",
   "metadata": {
    "deletable": true,
    "editable": true
   },
   "source": [
    "### Training the network"
   ]
  },
  {
   "cell_type": "code",
   "execution_count": 22,
   "metadata": {
    "collapsed": false,
    "deletable": true,
    "editable": true
   },
   "outputs": [
    {
     "name": "stdout",
     "output_type": "stream",
     "text": [
      "Train on 2000 samples, validate on 400 samples\n",
      "INFO:tensorflow:Summary name conv2d_9/kernel:0 is illegal; using conv2d_9/kernel_0 instead.\n",
      "INFO:tensorflow:Summary name conv2d_9/bias:0 is illegal; using conv2d_9/bias_0 instead.\n",
      "INFO:tensorflow:Summary name batch_normalization_1/gamma:0 is illegal; using batch_normalization_1/gamma_0 instead.\n",
      "INFO:tensorflow:Summary name batch_normalization_1/beta:0 is illegal; using batch_normalization_1/beta_0 instead.\n",
      "INFO:tensorflow:Summary name batch_normalization_1/moving_mean:0 is illegal; using batch_normalization_1/moving_mean_0 instead.\n",
      "INFO:tensorflow:Summary name batch_normalization_1/moving_variance:0 is illegal; using batch_normalization_1/moving_variance_0 instead.\n",
      "INFO:tensorflow:Summary name conv2d_10/kernel:0 is illegal; using conv2d_10/kernel_0 instead.\n",
      "INFO:tensorflow:Summary name conv2d_10/bias:0 is illegal; using conv2d_10/bias_0 instead.\n",
      "INFO:tensorflow:Summary name batch_normalization_2/gamma:0 is illegal; using batch_normalization_2/gamma_0 instead.\n",
      "INFO:tensorflow:Summary name batch_normalization_2/beta:0 is illegal; using batch_normalization_2/beta_0 instead.\n",
      "INFO:tensorflow:Summary name batch_normalization_2/moving_mean:0 is illegal; using batch_normalization_2/moving_mean_0 instead.\n",
      "INFO:tensorflow:Summary name batch_normalization_2/moving_variance:0 is illegal; using batch_normalization_2/moving_variance_0 instead.\n",
      "INFO:tensorflow:Summary name conv2d_11/kernel:0 is illegal; using conv2d_11/kernel_0 instead.\n",
      "INFO:tensorflow:Summary name conv2d_11/bias:0 is illegal; using conv2d_11/bias_0 instead.\n",
      "INFO:tensorflow:Summary name batch_normalization_3/gamma:0 is illegal; using batch_normalization_3/gamma_0 instead.\n",
      "INFO:tensorflow:Summary name batch_normalization_3/beta:0 is illegal; using batch_normalization_3/beta_0 instead.\n",
      "INFO:tensorflow:Summary name batch_normalization_3/moving_mean:0 is illegal; using batch_normalization_3/moving_mean_0 instead.\n",
      "INFO:tensorflow:Summary name batch_normalization_3/moving_variance:0 is illegal; using batch_normalization_3/moving_variance_0 instead.\n",
      "INFO:tensorflow:Summary name conv2d_12/kernel:0 is illegal; using conv2d_12/kernel_0 instead.\n",
      "INFO:tensorflow:Summary name conv2d_12/bias:0 is illegal; using conv2d_12/bias_0 instead.\n",
      "INFO:tensorflow:Summary name batch_normalization_4/gamma:0 is illegal; using batch_normalization_4/gamma_0 instead.\n",
      "INFO:tensorflow:Summary name batch_normalization_4/beta:0 is illegal; using batch_normalization_4/beta_0 instead.\n",
      "INFO:tensorflow:Summary name batch_normalization_4/moving_mean:0 is illegal; using batch_normalization_4/moving_mean_0 instead.\n",
      "INFO:tensorflow:Summary name batch_normalization_4/moving_variance:0 is illegal; using batch_normalization_4/moving_variance_0 instead.\n",
      "INFO:tensorflow:Summary name dense_5/kernel:0 is illegal; using dense_5/kernel_0 instead.\n",
      "INFO:tensorflow:Summary name dense_5/bias:0 is illegal; using dense_5/bias_0 instead.\n",
      "INFO:tensorflow:Summary name batch_normalization_5/gamma:0 is illegal; using batch_normalization_5/gamma_0 instead.\n",
      "INFO:tensorflow:Summary name batch_normalization_5/beta:0 is illegal; using batch_normalization_5/beta_0 instead.\n",
      "INFO:tensorflow:Summary name batch_normalization_5/moving_mean:0 is illegal; using batch_normalization_5/moving_mean_0 instead.\n",
      "INFO:tensorflow:Summary name batch_normalization_5/moving_variance:0 is illegal; using batch_normalization_5/moving_variance_0 instead.\n",
      "INFO:tensorflow:Summary name dense_6/kernel:0 is illegal; using dense_6/kernel_0 instead.\n",
      "INFO:tensorflow:Summary name dense_6/bias:0 is illegal; using dense_6/bias_0 instead.\n",
      "Epoch 1/30\n",
      "305s - loss: 1.8480 - acc: 0.3710 - val_loss: 4.5646 - val_acc: 0.2300\n",
      "Epoch 2/30\n",
      "259s - loss: 1.1253 - acc: 0.6140 - val_loss: 3.8937 - val_acc: 0.2425\n",
      "Epoch 3/30\n",
      "236s - loss: 0.8797 - acc: 0.7025 - val_loss: 2.3524 - val_acc: 0.3425\n",
      "Epoch 4/30\n",
      "290s - loss: 0.7043 - acc: 0.7695 - val_loss: 2.1322 - val_acc: 0.3425\n",
      "Epoch 5/30\n",
      "275s - loss: 0.5577 - acc: 0.8240 - val_loss: 1.6257 - val_acc: 0.4975\n",
      "Epoch 6/30\n",
      "244s - loss: 0.4604 - acc: 0.8585 - val_loss: 1.4415 - val_acc: 0.5575\n",
      "Epoch 7/30\n",
      "234s - loss: 0.3868 - acc: 0.8910 - val_loss: 1.4916 - val_acc: 0.5425\n",
      "Epoch 8/30\n",
      "234s - loss: 0.3172 - acc: 0.9165 - val_loss: 1.4495 - val_acc: 0.5550\n",
      "Epoch 9/30\n",
      "226s - loss: 0.2664 - acc: 0.9350 - val_loss: 1.4183 - val_acc: 0.5675\n",
      "Epoch 10/30\n",
      "221s - loss: 0.2153 - acc: 0.9545 - val_loss: 1.3178 - val_acc: 0.6075\n",
      "Epoch 11/30\n",
      "220s - loss: 0.1833 - acc: 0.9620 - val_loss: 1.1462 - val_acc: 0.6700\n",
      "Epoch 12/30\n",
      "221s - loss: 0.1593 - acc: 0.9705 - val_loss: 1.1205 - val_acc: 0.6750\n",
      "Epoch 13/30\n",
      "225s - loss: 0.1213 - acc: 0.9820 - val_loss: 1.0816 - val_acc: 0.6625\n",
      "Epoch 14/30\n",
      "217s - loss: 0.1049 - acc: 0.9850 - val_loss: 1.0470 - val_acc: 0.6875\n",
      "Epoch 15/30\n",
      "212s - loss: 0.1031 - acc: 0.9840 - val_loss: 1.2071 - val_acc: 0.6500\n",
      "Epoch 16/30\n",
      "215s - loss: 0.0953 - acc: 0.9815 - val_loss: 1.0621 - val_acc: 0.6950\n",
      "Epoch 17/30\n",
      "207s - loss: 0.0797 - acc: 0.9855 - val_loss: 1.1593 - val_acc: 0.6775\n",
      "Epoch 18/30\n",
      "202s - loss: 0.0756 - acc: 0.9895 - val_loss: 1.1659 - val_acc: 0.6725\n",
      "Epoch 19/30\n",
      "199s - loss: 0.0699 - acc: 0.9880 - val_loss: 1.1130 - val_acc: 0.6900\n",
      "Epoch 20/30\n",
      "203s - loss: 0.0665 - acc: 0.9910 - val_loss: 1.0763 - val_acc: 0.7050\n",
      "Epoch 21/30\n",
      "203s - loss: 0.0554 - acc: 0.9910 - val_loss: 1.1825 - val_acc: 0.6750\n",
      "Epoch 22/30\n",
      "204s - loss: 0.0534 - acc: 0.9920 - val_loss: 1.1550 - val_acc: 0.6975\n",
      "Epoch 23/30\n",
      "204s - loss: 0.0483 - acc: 0.9930 - val_loss: 1.1477 - val_acc: 0.7000\n",
      "Epoch 24/30\n",
      "198s - loss: 0.0463 - acc: 0.9945 - val_loss: 1.0875 - val_acc: 0.7050\n",
      "Epoch 25/30\n",
      "207s - loss: 0.0416 - acc: 0.9955 - val_loss: 1.1170 - val_acc: 0.7125\n",
      "Epoch 26/30\n",
      "239s - loss: 0.0418 - acc: 0.9930 - val_loss: 1.1046 - val_acc: 0.6925\n",
      "Epoch 27/30\n",
      "206s - loss: 0.0348 - acc: 0.9970 - val_loss: 1.1072 - val_acc: 0.7225\n",
      "Epoch 28/30\n",
      "195s - loss: 0.0365 - acc: 0.9960 - val_loss: 1.0849 - val_acc: 0.7250\n",
      "Epoch 29/30\n",
      "205s - loss: 0.0397 - acc: 0.9925 - val_loss: 1.1398 - val_acc: 0.7300\n",
      "Epoch 30/30\n",
      "204s - loss: 0.0372 - acc: 0.9955 - val_loss: 1.1763 - val_acc: 0.7025\n"
     ]
    }
   ],
   "source": [
    "history=model.fit(X_train, Y_train, \n",
    "                  batch_size=batch_size, \n",
    "                  epochs=30,\n",
    "                  verbose=2, \n",
    "                  validation_data=(X_valid, Y_valid),\n",
    "                  callbacks=[tensorboard])"
   ]
  },
  {
   "cell_type": "code",
   "execution_count": 23,
   "metadata": {
    "collapsed": false,
    "deletable": true,
    "editable": true
   },
   "outputs": [
    {
     "data": {
      "image/png": "[encoded data removed]",
      "text/plain": [
       "<matplotlib.figure.Figure at 0x7f3bbaafab00>"
      ]
     },
     "metadata": {},
     "output_type": "display_data"
    }
   ],
   "source": [
    "# summarize history for accuracy\n",
    "plt.plot(history.history['acc'])\n",
    "plt.plot(history.history['val_acc'])\n",
    "plt.title('model accuracy')\n",
    "plt.ylabel('accuracy')\n",
    "plt.xlabel('epoch')\n",
    "plt.legend(['train', 'valid'], loc='lower right')\n",
    "plt.show()"
   ]
  },
  {
   "cell_type": "code",
   "execution_count": 24,
   "metadata": {
    "collapsed": false,
    "deletable": true,
    "editable": true
   },
   "outputs": [
    {
     "data": {
      "image/png": "[encoded data removed]",
      "text/plain": [
       "<matplotlib.figure.Figure at 0x7f3bd04546d8>"
      ]
     },
     "metadata": {},
     "output_type": "display_data"
    }
   ],
   "source": [
    "plt.plot(history.history['loss'])\n",
    "plt.plot(history.history['val_loss'])\n",
    "plt.title('model loss')\n",
    "plt.ylabel('loss')\n",
    "plt.xlabel('epoch')\n",
    "plt.legend(['train', 'valid'], loc='upper right')\n",
    "plt.show()"
   ]
  },
  {
   "cell_type": "markdown",
   "metadata": {
    "deletable": true,
    "editable": true
   },
   "source": [
    "### Evaluation of the trained network"
   ]
  },
  {
   "cell_type": "code",
   "execution_count": 25,
   "metadata": {
    "collapsed": false,
    "deletable": true,
    "editable": true
   },
   "outputs": [
    {
     "name": "stdout",
     "output_type": "stream",
     "text": [
      "(400, 48, 48, 3)\n",
      "(400,)\n"
     ]
    }
   ],
   "source": [
    "X_test = h5f_X['X_test_8_faces']\n",
    "print(X_test.shape)\n",
    "Y_test = h5f_X['Y_test_8_faces']\n",
    "print(Y_test.shape)"
   ]
  },
  {
   "cell_type": "code",
   "execution_count": 26,
   "metadata": {
    "collapsed": true,
    "deletable": true,
    "editable": true
   },
   "outputs": [],
   "source": [
    "X_test = (X_test - X_mean ) / (X_std + 0.0001)"
   ]
  },
  {
   "cell_type": "code",
   "execution_count": 27,
   "metadata": {
    "collapsed": false,
    "deletable": true,
    "editable": true
   },
   "outputs": [
    {
     "data": {
      "text/plain": [
       "array([[  6.75424235e-04,   3.88077676e-01,   4.59071045e-04,\n",
       "          1.81109481e-03,   7.38953386e-05,   1.16122678e-01,\n",
       "          4.62823212e-01,   2.99569201e-02]], dtype=float32)"
      ]
     },
     "execution_count": 27,
     "metadata": {},
     "output_type": "execute_result"
    }
   ],
   "source": [
    "model.predict(X_test[0].reshape(1,48,48,3))"
   ]
  },
  {
   "cell_type": "code",
   "execution_count": 28,
   "metadata": {
    "collapsed": false,
    "deletable": true,
    "editable": true
   },
   "outputs": [],
   "source": [
    "preds=np.zeros([len(X_test),8])\n",
    "for i in range(0,len(X_test)):\n",
    "    preds[i]=model.predict(X_test[i].reshape(1,48,48,3))"
   ]
  },
  {
   "cell_type": "code",
   "execution_count": 29,
   "metadata": {
    "collapsed": false,
    "deletable": true,
    "editable": true
   },
   "outputs": [],
   "source": [
    "pred=np.zeros([len(X_test)])\n",
    "for i in range(0,len(X_test)):\n",
    "    pred[i]=np.argmax(preds[i])"
   ]
  },
  {
   "cell_type": "code",
   "execution_count": 30,
   "metadata": {
    "collapsed": false,
    "deletable": true,
    "editable": true
   },
   "outputs": [
    {
     "data": {
      "text/plain": [
       "0.70999999999999996"
      ]
     },
     "execution_count": 30,
     "metadata": {},
     "output_type": "execute_result"
    }
   ],
   "source": [
    "sum(pred==Y_test)/400."
   ]
  },
  {
   "cell_type": "code",
   "execution_count": 31,
   "metadata": {
    "collapsed": false,
    "deletable": true,
    "editable": true
   },
   "outputs": [
    {
     "data": {
      "text/plain": [
       "array([[35,  1,  2,  0,  0,  1, 11,  0],\n",
       "       [ 1, 25,  3,  2,  8,  2,  6,  3],\n",
       "       [ 1,  2, 41,  1,  0,  0,  2,  3],\n",
       "       [ 2,  1,  3, 37,  2,  0,  4,  1],\n",
       "       [ 0,  3,  0,  2, 44,  0,  1,  0],\n",
       "       [ 2,  4,  1,  2,  1, 30,  8,  2],\n",
       "       [ 1,  0,  2,  1,  1,  1, 43,  1],\n",
       "       [ 4,  2,  3,  2,  3,  1,  6, 29]])"
      ]
     },
     "execution_count": 31,
     "metadata": {},
     "output_type": "execute_result"
    }
   ],
   "source": [
    "from sklearn.metrics import confusion_matrix\n",
    "confusion_matrix(Y_test, pred)"
   ]
  },
  {
   "cell_type": "code",
   "execution_count": null,
   "metadata": {
    "collapsed": true,
    "deletable": true,
    "editable": true
   },
   "outputs": [],
   "source": []
  }
 ],
 "metadata": {
  "kernelspec": {
   "display_name": "Python 3",
   "language": "python",
   "name": "python3"
  },
  "language_info": {
   "codemirror_mode": {
    "name": "ipython",
    "version": 3
   },
   "file_extension": ".py",
   "mimetype": "text/x-python",
   "name": "python",
   "nbconvert_exporter": "python",
   "pygments_lexer": "ipython3",
   "version": "3.4.3"
  }
 },
 "nbformat": 4,
 "nbformat_minor": 0
}
