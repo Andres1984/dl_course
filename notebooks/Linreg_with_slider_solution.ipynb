{
 "cells": [
  {
   "cell_type": "markdown",
   "metadata": {},
   "source": [
    "### Linear regression "
   ]
  },
  {
   "cell_type": "code",
   "execution_count": 1,
   "metadata": {
    "collapsed": false
   },
   "outputs": [],
   "source": [
    "import tensorflow as tf\n",
    "import numpy as np\n",
    "import matplotlib.pyplot as plt\n",
    "%matplotlib inline\n",
    "from ipywidgets import *"
   ]
  },
  {
   "cell_type": "markdown",
   "metadata": {},
   "source": [
    "### Data generation\n",
    "First we need to create our x data and y data. We want to find the parameters a and b for the fuction $y = a*x + b $ Our parameters a and b are known, $a = 1.65$ and $b = 3.8$. In addition we add some random noise with mean 0 and standard deviation 8 to the target y."
   ]
  },
  {
   "cell_type": "code",
   "execution_count": 2,
   "metadata": {
    "collapsed": false
   },
   "outputs": [],
   "source": [
    "np.random.seed(seed=22)\n",
    "N = 50\n",
    "x_data = (np.linspace(0,50,N)).astype('float32')\n",
    "y_data = ((1.65 * x_data) + 3.8 + np.random.normal(0,8,N)).astype('float32')"
   ]
  },
  {
   "cell_type": "markdown",
   "metadata": {},
   "source": [
    "This is the function with and without gaussian noise"
   ]
  },
  {
   "cell_type": "code",
   "execution_count": 3,
   "metadata": {
    "collapsed": false
   },
   "outputs": [
    {
     "data": {
      "text/plain": [
       "[<matplotlib.lines.Line2D at 0x110f78110>]"
      ]
     },
     "execution_count": 3,
     "metadata": {},
     "output_type": "execute_result"
    },
    {
     "name": "stderr",
     "output_type": "stream",
     "text": [
      "/System/Library/Frameworks/Python.framework/Versions/2.7/Extras/lib/python/matplotlib/collections.py:548: FutureWarning: elementwise comparison failed; returning scalar instead, but in the future will perform elementwise comparison\n",
      "  if self._edgecolors == 'face':\n"
     ]
    },
    {
     "data": {
      "image/png": "[encoded data removed]",
      "text/plain": [
       "<matplotlib.figure.Figure at 0x119fcc7d0>"
      ]
     },
     "metadata": {},
     "output_type": "display_data"
    }
   ],
   "source": [
    "plt.scatter(x_data,y_data)\n",
    "plt.plot(x_data,(1.65*x_data)+3.8)"
   ]
  },
  {
   "cell_type": "markdown",
   "metadata": {},
   "source": [
    "### RSS Minimization by trying\n",
    "\n",
    "Fit a linear function to the data and calculate residual sum of squares (RSS). Play around with the sliders so that the RSS is minimized. As a technical detail, we use the mean instead of the sum to be indpendent of the number of data points."
   ]
  },
  {
   "cell_type": "code",
   "execution_count": 4,
   "metadata": {
    "collapsed": false
   },
   "outputs": [
    {
     "data": {
      "image/png": "[encoded data removed]",
      "text/plain": [
       "<matplotlib.figure.Figure at 0x11a145910>"
      ]
     },
     "metadata": {},
     "output_type": "display_data"
    },
    {
     "name": "stdout",
     "output_type": "stream",
     "text": [
      "Loss 2728.83959961\n"
     ]
    },
    {
     "data": {
      "text/plain": [
       "<function __main__.linreg>"
      ]
     },
     "execution_count": 4,
     "metadata": {},
     "output_type": "execute_result"
    }
   ],
   "source": [
    "def linreg(a,b):\n",
    "    plt.scatter(x_data,y_data)\n",
    "    plt.plot(x_data,a*x_data+b)\n",
    "    plt.xlim((-10, 60))\n",
    "    plt.ylim((-10, 100))\n",
    "    plt.show()\n",
    "    print(\"Loss {}\".format(np.mean(np.square(y_data-(a*x_data+b)))))\n",
    "\n",
    "interact(linreg,a=(-5,5,0.05),b=(-50,50,1))"
   ]
  },
  {
   "cell_type": "markdown",
   "metadata": {},
   "source": [
    "### Linear regression in TensorFlow, feeding data  "
   ]
  },
  {
   "cell_type": "code",
   "execution_count": 5,
   "metadata": {
    "collapsed": false
   },
   "outputs": [],
   "source": [
    "# Defining the graph (construction phase)\n",
    "tf.reset_default_graph()\n",
    "a = tf.Variable(1.0, name = 'a') \n",
    "b = tf.Variable(1.0, name = 'b')\n",
    "x = tf.placeholder('float32', [N], name='x_data')\n",
    "y = tf.placeholder('float32', [N], name='y_data')\n",
    "loss = tf.reduce_mean(tf.square(a*x + b - y)) #Average is called reduce_mean\n",
    "\n",
    "init_op = tf.global_variables_initializer() \n",
    "# Initialization ('symbolic'), this creates a new operation in the graph. Which\n",
    "# initializes the graph. We call this later, when we have a concrete realization of the graph"
   ]
  },
  {
   "cell_type": "markdown",
   "metadata": {},
   "source": [
    "Now feed your optimal parameters from above through the tensorflow graph and compare the \"loss\" with the RSS "
   ]
  },
  {
   "cell_type": "code",
   "execution_count": 6,
   "metadata": {
    "collapsed": false,
    "scrolled": true
   },
   "outputs": [
    {
     "name": "stdout",
     "output_type": "stream",
     "text": [
      "Loss 70.2787322998 (a=1.7, b=1.55)\n"
     ]
    }
   ],
   "source": [
    "# Working with a concrete realization (launching a graph). \n",
    "# A session sess is created  with the with construct \n",
    "# the session is closed, when moving out of the with class\n",
    "with tf.Session() as sess: \n",
    "    sess.run(init_op) #Doing the initialization on the concrete realization of the graph\n",
    "    res = sess.run(loss, feed_dict={x:x_data, y:y_data, a:1.7, b:1.55}) #Evaluation loss using the provided data\n",
    "    writer = tf.summary.FileWriter(\"/tmp/linreg\", sess.graph, 'dumm.pbtxt') \n",
    "    writer.close()\n",
    "    print(\"Loss {} (a=1.7, b=1.55)\".format(res))"
   ]
  },
  {
   "cell_type": "markdown",
   "metadata": {},
   "source": [
    "### Linear regression with TensorFlow, optimization\n",
    "Now let tensorflow do the work and find the optimal values for a and b to minimize the loss"
   ]
  },
  {
   "cell_type": "code",
   "execution_count": 7,
   "metadata": {
    "collapsed": false
   },
   "outputs": [
    {
     "name": "stdout",
     "output_type": "stream",
     "text": [
      "Epoch1 Loss 479.241638184 (a=1.1172491312, b=1.00368571281)\n",
      "Epoch2 Loss 353.226959229 (a=1.21473884583, b=1.0067845583)\n",
      "Epoch3 Loss 266.104522705 (a=1.29579901695, b=1.00939524174)\n",
      "Epoch4 Loss 205.870956421 (a=1.36319828033, b=1.01160013676)\n",
      "Epoch5 Loss 164.227355957 (a=1.41923868656, b=1.01346755028)\n",
      "Epoch4997 Loss 69.3405380249 (a=1.6692943573, b=1.91329646111)\n",
      "Epoch4998 Loss 69.3402862549 (a=1.66928970814, b=1.91345310211)\n",
      "Epoch4999 Loss 69.3400344849 (a=1.66928505898, b=1.91360974312)\n",
      "Epoch5000 Loss 69.3397979736 (a=1.66928040981, b=1.91376638412)\n"
     ]
    }
   ],
   "source": [
    "train_op = tf.train.GradientDescentOptimizer(0.0001).minimize(loss) #A new activity doing one optimization step \n",
    "\n",
    "# when called.\n",
    "# Other optimizers \n",
    "#train_op = tf.train.AdamOptimizer().minimize(loss) \n",
    "#train_op = tf.train.MomentumOptimizer(0.0001, 0.9).minimize(loss)\n",
    "\n",
    "epochs = 5000\n",
    "results = np.zeros((epochs, 4))\n",
    "init_op = tf.global_variables_initializer() #Initialization\n",
    "with tf.Session() as sess:\n",
    "    sess.run(init_op) #Running the initialization\n",
    "    for e in range(epochs): #Fitting the data for some epochs\n",
    "        res = sess.run([train_op, loss, a, b], feed_dict={x:x_data, y:y_data})  \n",
    "        results[e] = res\n",
    "        if ((e < 5) | (e > epochs-5)):\n",
    "            print(\"Epoch{} Loss {} (a={}, b={})\".format(e+1,res[1],res[2],res[3]))\n",
    "    res = sess.run([loss, a, b], feed_dict={x:x_data, y:y_data})"
   ]
  },
  {
   "cell_type": "code",
   "execution_count": null,
   "metadata": {
    "collapsed": false,
    "scrolled": false
   },
   "outputs": [],
   "source": [
    "!tensorboard --logdir=/tmp/linreg/"
   ]
  },
  {
   "cell_type": "code",
   "execution_count": null,
   "metadata": {
    "collapsed": true
   },
   "outputs": [],
   "source": []
  }
 ],
 "metadata": {
  "kernelspec": {
   "display_name": "Python 2",
   "language": "python",
   "name": "python2"
  },
  "language_info": {
   "codemirror_mode": {
    "name": "ipython",
    "version": 2
   },
   "file_extension": ".py",
   "mimetype": "text/x-python",
   "name": "python",
   "nbconvert_exporter": "python",
   "pygments_lexer": "ipython2",
   "version": "2.7.10"
  },
  "widgets": {
   "state": {
    "7379bbc64f4443b19b07c33367d532fa": {
     "views": [
      {
       "cell_index": 7
      }
     ]
    }
   },
   "version": "1.2.0"
  }
 },
 "nbformat": 4,
 "nbformat_minor": 2
}
